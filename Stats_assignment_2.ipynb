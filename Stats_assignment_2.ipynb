{
 "cells": [
  {
   "cell_type": "markdown",
   "metadata": {},
   "source": [
    "### Problem Statement 1:\n",
    "In each of the following situations, state whether it is a correctly stated hypothesis\n",
    "testing problem and why?\n",
    "1. 𝐻0: 𝜇 = 25, 𝐻1: 𝜇 ≠ 25\n",
    "2. 𝐻0: 𝜎 > 10, 𝐻1: 𝜎 = 10\n",
    "3. 𝐻0: 𝑥 = 50, 𝐻1: 𝑥 ≠ 50\n",
    "4. 𝐻0: 𝑝 = 0.1, 𝐻1: 𝑝 = 0.5\n",
    "5. 𝐻0: 𝑠 = 30, 𝐻1: 𝑠 > 30"
   ]
  },
  {
   "cell_type": "markdown",
   "metadata": {},
   "source": [
    "1. **yes**, since H0 is Hypothesis which is assumed initially to be true. On the other hand the alternative is statment that contradicts the Null Hypothesis\n",
    "\n",
    "    𝐻1: 𝜇 ≠ 25, says that value of mean can be greater or less than 25, it is also called a **two-sided alternative hypothesis**\n",
    "\n",
    "    In simple words we can say that we assume that our H0 is true while H1 is assuming that the value may be geater or less than the mean value\n",
    "\n",
    "\n",
    "2. **No**, We always assume Null Hypothesis as equality claim. and Alternate Hypothesisas inquality claim, the above statement is simply inverse.\n",
    "\n",
    "\n",
    "3. **No**, hypothesis are always statemnt about the population or distibution under study(i.e statistic) not on single data value or a prameter\n",
    "\n",
    "\n",
    "4. **No**, values in both hypothesis are different and both hypothesis have equality\n",
    "\n",
    "\n",
    "5. **No**, here it is making statemnt on sample s, but Hypothesis are always statement about the population or distribution under study, not statemnts about the sample"
   ]
  },
  {
   "cell_type": "markdown",
   "metadata": {},
   "source": [
    "### Problem Statement 2:\n",
    "The college bookstore tells prospective students that the average cost of its textbooks is Rs. 52 with a standard deviation of Rs. 4.50. \n",
    "\n",
    "A group of smart statistics students thinks that the average cost is higher. To test the bookstore’s claim against their  lternative, the students will select a random sample of size 100. Assume that the mean from their random sample is Rs. 52.80. Perform a hypothesis test at the 5% level of significance and state your decision."
   ]
  },
  {
   "attachments": {},
   "cell_type": "markdown",
   "metadata": {},
   "source": [
    "<img src=\"img\\p2.png\">"
   ]
  },
  {
   "cell_type": "code",
   "execution_count": 1,
   "metadata": {},
   "outputs": [],
   "source": [
    "import numpy as np\n",
    "from scipy import stats\n",
    "import seaborn as sns\n",
    "import matplotlib.pyplot as plt\n",
    "from scipy.stats import binom\n",
    "import scipy.stats as st"
   ]
  },
  {
   "cell_type": "code",
   "execution_count": 10,
   "metadata": {},
   "outputs": [
    {
     "name": "stdout",
     "output_type": "stream",
     "text": [
      "Z_score :  1.7777777777777715\n",
      "%area above 1.7777777777777715 is 0.0377201798134007\n",
      "%area below -1.777777777777772 is 0.03772017981340071\n",
      "critical value(Z*) is -1.777777777777772, 1.7777777777777715 \n"
     ]
    }
   ],
   "source": [
    "# lets perform a Z-test\n",
    "# 𝐻0: 𝜇 = 52, 𝐻1: 𝜇  ≠   52\n",
    "actual_mean = 52\n",
    "assumed_mean = 52.80\n",
    "n = 100\n",
    "std_dev = 4.50\n",
    "alpha = 0.05\n",
    "std_error = std_dev/np.sqrt(n)\n",
    "z_score = (assumed_mean-actual_mean)/ std_error\n",
    "print(\"Z_score : \",z_score)\n",
    "area_above = 1-st.norm.cdf(z_score)\n",
    "print(\"%area above {} is {}\".format(z_score,area_above))\n",
    "z_score1 = st.norm.ppf(area_above)\n",
    "area_below = st.norm.cdf(z_score1)\n",
    "print(\"%area below {} is {}\".format(z_score1,area_below))\n",
    "print(\"critical value(Z*) is {}, {} \".format(z_score1,z_score))"
   ]
  },
  {
   "cell_type": "code",
   "execution_count": 11,
   "metadata": {},
   "outputs": [
    {
     "name": "stdout",
     "output_type": "stream",
     "text": [
      "P(z ≠ 1.77) is  0.0754403596268014\n",
      "Fail to reject H0\n"
     ]
    }
   ],
   "source": [
    "total_prob = area_above+area_below\n",
    "print(\"P(z ≠ 1.77) is \", total_prob)\n",
    "if total_prob < alpha:\n",
    "    print(\"Reject H0\")\n",
    "else:\n",
    "    print(\"Fail to reject H0\")"
   ]
  },
  {
   "cell_type": "code",
   "execution_count": 20,
   "metadata": {},
   "outputs": [
    {
     "data": {
      "text/plain": [
       "-1.959963984540054"
      ]
     },
     "execution_count": 20,
     "metadata": {},
     "output_type": "execute_result"
    }
   ],
   "source": [
    " st.norm.ppf(1-0.975)"
   ]
  },
  {
   "cell_type": "code",
   "execution_count": 23,
   "metadata": {},
   "outputs": [
    {
     "name": "stdout",
     "output_type": "stream",
     "text": [
      "Z_value of 0.975 is : 1.959963984540054\n",
      "Z_value of 0.025 is : -1.9599639845400545\n",
      "critical value of significance at 5% is ±1.959963984540054\n",
      "Fail to reject H0\n"
     ]
    }
   ],
   "source": [
    "# Alternatively\n",
    "#divide alpha as 2 tailed test\n",
    "two_tail_alpha = alpha/2\n",
    "\n",
    "# compute critcal value\n",
    "# % area below .025 is 0.975\n",
    "area = 1-two_tail_alpha\n",
    "significance_positive_zscore = st.norm.ppf(area)\n",
    "print(\"Z_value of {} is : {}\".format(area,significance_positive_zscore))\n",
    "significance_negative_zscore = st.norm.ppf(two_tail_alpha)\n",
    "print(\"Z_value of {} is : {}\".format(two_tail_alpha,significance_negative_zscore))\n",
    "print(\"critical value of significance at 5% is ±{}\".format(significance_positive_zscore))\n",
    "\n",
    "# comparte critical score for accepting and rejecting null hypothesis\n",
    "if significance_positive_zscore < z_score and significance_negative_zscore < z_score1 :\n",
    "    print(\"Reject H0\")\n",
    "else:\n",
    "    print(\"Fail to reject H0\")"
   ]
  },
  {
   "cell_type": "markdown",
   "metadata": {},
   "source": [
    "### Problem Statement 3:\n",
    "A certain chemical pollutant in the Genesee River has been constant for several years with mean μ = 34 ppm (parts per million) and standard deviation σ = 8 ppm. A group of factory representatives whose companies discharge liquids into the river is now claiming that they have lowered the average with improved filtration devices. A group of environmentalists will test to see if this is true at the 1% level of significance. Assume \\ that their sample of size 50 gives a mean of 32.5 ppm.\n",
    "Perform a hypothesis test at the 1% level of significance and state your decision."
   ]
  },
  {
   "attachments": {},
   "cell_type": "markdown",
   "metadata": {},
   "source": [
    "<img src=\"img\\p3.png\">"
   ]
  },
  {
   "cell_type": "code",
   "execution_count": 29,
   "metadata": {},
   "outputs": [
    {
     "name": "stdout",
     "output_type": "stream",
     "text": [
      "Z_score :  -1.3258252147247767\n",
      "%area above -1.3258252147247767 is 0.9075512005172\n",
      "%area below 1.325825214724777 is 0.9075512005172\n",
      "critical value(Z*) is 1.325825214724777, -1.3258252147247767 \n"
     ]
    }
   ],
   "source": [
    "# lets perform a Z-test\n",
    "# 𝐻0: 𝜇 = 52, 𝐻1: 𝜇  ≠   52\n",
    "actual_mean = 34\n",
    "assumed_mean = 32.5\n",
    "n = 50\n",
    "std_dev = 8\n",
    "alpha = 0.01\n",
    "std_error = std_dev/np.sqrt(n)\n",
    "z_score = (assumed_mean-actual_mean)/ std_error\n",
    "print(\"Z_score : \",z_score)\n",
    "area_above = 1-st.norm.cdf(z_score)\n",
    "print(\"%area above {} is {}\".format(z_score,area_above))\n",
    "z_score1 = st.norm.ppf(area_above)\n",
    "area_below = st.norm.cdf(z_score1)\n",
    "print(\"%area below {} is {}\".format(z_score1,area_below))\n",
    "print(\"critical value(Z*) is {}, {} \".format(z_score1,z_score))"
   ]
  },
  {
   "cell_type": "code",
   "execution_count": 30,
   "metadata": {},
   "outputs": [
    {
     "name": "stdout",
     "output_type": "stream",
     "text": [
      "P(z ≠ 1.325) is  1.8151024010344\n",
      "Fail to reject H0\n"
     ]
    }
   ],
   "source": [
    "total_prob = area_above+area_below\n",
    "print(\"P(z ≠ 1.325) is \", total_prob)\n",
    "if total_prob < alpha:\n",
    "    print(\"Reject H0\")\n",
    "else:\n",
    "    print(\"Fail to reject H0\")"
   ]
  },
  {
   "cell_type": "code",
   "execution_count": 31,
   "metadata": {},
   "outputs": [
    {
     "name": "stdout",
     "output_type": "stream",
     "text": [
      "Z_value of 0.995 is : 2.5758293035489004\n",
      "Z_value of 0.005 is : -2.575829303548901\n",
      "critical value of significance at 5% is ±2.5758293035489004\n",
      "Fail to reject H0\n"
     ]
    }
   ],
   "source": [
    "# Alternatively\n",
    "#divide alpha as 2 tailed test\n",
    "two_tail_alpha = alpha/2\n",
    "\n",
    "# compute critcal value\n",
    "# % area below .025 is 0.975\n",
    "area = 1-two_tail_alpha\n",
    "significance_positive_zscore = st.norm.ppf(area)\n",
    "print(\"Z_value of {} is : {}\".format(area,significance_positive_zscore))\n",
    "significance_negative_zscore = st.norm.ppf(two_tail_alpha)\n",
    "print(\"Z_value of {} is : {}\".format(two_tail_alpha,significance_negative_zscore))\n",
    "print(\"critical value of significance at 5% is ±{}\".format(significance_positive_zscore))\n",
    "\n",
    "# comparte critical score for accepting and rejecting null hypothesis\n",
    "if significance_positive_zscore < z_score and significance_negative_zscore < z_score1 :\n",
    "    print(\"Reject H0\")\n",
    "else:\n",
    "    print(\"Fail to reject H0\")"
   ]
  },
  {
   "cell_type": "markdown",
   "metadata": {},
   "source": [
    "### Problem Statement 4:\n",
    "Based on population figures and other general information on the U.S. population, suppose it has been estimated that, on average, a family of four in the U.S. spends about $1135 annually on dental expenditures. Suppose further that a regional dental association wants to test to determine if this figure is accurate for their area of country. To test this, 22 families of 4 are randomly selected from the population in that area of the country and a log is kept of the family’s dental expenditure for one year. The resulting data are given below. Assuming, that dental expenditure is normally distributed in the population, use the data and an alpha of 0.5 to test the dental association’s hypothesis.\n",
    "\n",
    "1008, 812, 1117, 1323, 1308, 1415, 831, 1021, 1287, 851, 930, 730, 699, 872, 913, 944, 954, 987, 1695, 995, 1003, 994"
   ]
  },
  {
   "attachments": {},
   "cell_type": "markdown",
   "metadata": {},
   "source": [
    "<img src=\"img\\p4.png\">"
   ]
  },
  {
   "cell_type": "code",
   "execution_count": 33,
   "metadata": {},
   "outputs": [],
   "source": [
    "sample = [1008, 812, 1117, 1323, 1308, 1415, 831, 1021, 1287, 851, 930, 730, 699,\n",
    "872, 913, 944, 954, 987, 1695, 995, 1003, 994]\n",
    "sample_mean = np.sum(sample)/len(sample)"
   ]
  },
  {
   "cell_type": "code",
   "execution_count": 34,
   "metadata": {},
   "outputs": [],
   "source": [
    "std_dev = np.std(sample)"
   ]
  },
  {
   "cell_type": "code",
   "execution_count": 42,
   "metadata": {},
   "outputs": [
    {
     "name": "stdout",
     "output_type": "stream",
     "text": [
      "Z_score :  -2.070747228595759\n",
      "%area above -2.070747228595759 is 0.019191212063281355\n",
      "%area below 2.070747228595759 is 0.019191212063281338\n",
      "critical value(Z*) is 2.070747228595759, -2.070747228595759 \n"
     ]
    }
   ],
   "source": [
    "# lets perform a Z-test\n",
    "# 𝐻0: 𝜇 = 1135, 𝐻1: 𝜇  ≠   1135\n",
    "actual_mean = 1135\n",
    "assumed_mean = sample_mean\n",
    "n = len(sample)\n",
    "alpha = 0.05\n",
    "std_error = std_dev/np.sqrt(n)\n",
    "z_score = (assumed_mean-actual_mean)/ std_error\n",
    "print(\"Z_score : \",z_score)\n",
    "area_above = st.norm.cdf(z_score)\n",
    "print(\"%area above {} is {}\".format(z_score,area_above))\n",
    "z_score1 = st.norm.ppf(1-area_above)\n",
    "area_below = 1-st.norm.cdf(z_score1)\n",
    "print(\"%area below {} is {}\".format(z_score1,area_below))\n",
    "print(\"critical value(Z*) is {}, {} \".format(z_score1,z_score))"
   ]
  },
  {
   "cell_type": "code",
   "execution_count": 43,
   "metadata": {},
   "outputs": [
    {
     "name": "stdout",
     "output_type": "stream",
     "text": [
      "P(z ≠ 2.07) is  0.03838242412656269\n",
      "Reject H0\n"
     ]
    }
   ],
   "source": [
    "total_prob = area_above+area_below\n",
    "print(\"P(z ≠ 2.07) is \", total_prob)\n",
    "if total_prob < alpha:\n",
    "    print(\"Reject H0\")\n",
    "else:\n",
    "    print(\"Fail to reject H0\")"
   ]
  },
  {
   "cell_type": "code",
   "execution_count": 46,
   "metadata": {},
   "outputs": [
    {
     "data": {
      "text/plain": [
       "-2.070747228595759"
      ]
     },
     "execution_count": 46,
     "metadata": {},
     "output_type": "execute_result"
    }
   ],
   "source": [
    "z_score"
   ]
  },
  {
   "cell_type": "code",
   "execution_count": 47,
   "metadata": {},
   "outputs": [
    {
     "data": {
      "text/plain": [
       "2.070747228595759"
      ]
     },
     "execution_count": 47,
     "metadata": {},
     "output_type": "execute_result"
    }
   ],
   "source": [
    "z_score1"
   ]
  },
  {
   "cell_type": "code",
   "execution_count": 53,
   "metadata": {},
   "outputs": [
    {
     "name": "stdout",
     "output_type": "stream",
     "text": [
      "Z_value of 0.975 is : 1.959963984540054\n",
      "Z_value of 0.025 is : -1.9599639845400545\n",
      "critical value of significance at 5% is ±1.959963984540054\n",
      "Reject H0\n"
     ]
    }
   ],
   "source": [
    "# Alternatively\n",
    "#divide alpha as 2 tailed test\n",
    "two_tail_alpha = alpha/2\n",
    "\n",
    "# compute critcal value\n",
    "# % area below .025 is 0.975\n",
    "area = 1-two_tail_alpha\n",
    "significance_positive_zscore = st.norm.ppf(area)\n",
    "print(\"Z_value of {} is : {}\".format(area,significance_positive_zscore))\n",
    "significance_negative_zscore = st.norm.ppf(two_tail_alpha)\n",
    "print(\"Z_value of {} is : {}\".format(two_tail_alpha,significance_negative_zscore))\n",
    "print(\"critical value of significance at 5% is ±{}\".format(significance_positive_zscore))\n",
    "\n",
    "# comparte critical score for accepting and rejecting null hypothesis\n",
    "if significance_positive_zscore < z_score1 :\n",
    "    print(\"Reject H0\")\n",
    "else:\n",
    "    print(\"Fail to reject H0\")"
   ]
  },
  {
   "cell_type": "markdown",
   "metadata": {},
   "source": [
    "### Problem Statement 5:\n",
    "In a report prepared by the Economic Research Department of a major bank the Department manager maintains that the average annual family income on Metropolis is $48,432. \n",
    "\n",
    "What do you conclude about the validity of the report if a random sample of 400 families shows and average income of $48,574 with a standard deviation of 2000?"
   ]
  },
  {
   "cell_type": "code",
   "execution_count": 59,
   "metadata": {},
   "outputs": [
    {
     "name": "stdout",
     "output_type": "stream",
     "text": [
      "Z_score :  1.42\n",
      "%area above 1.42 is 0.07780384052654643\n",
      "%area below -1.42 is 0.07780384052654638\n",
      "critical value(Z*) is -1.42, 1.42 \n"
     ]
    }
   ],
   "source": [
    "# lets perform a Z-test\n",
    "# 𝐻0: 𝜇 = 48432, 𝐻1: 𝜇  ≠  48432\n",
    "# alpha =10%\n",
    "actual_mean = 48432\n",
    "assumed_mean = 48574\n",
    "n = 400\n",
    "alpha = 0.10\n",
    "std_dev = 2000\n",
    "std_error = std_dev/np.sqrt(n)\n",
    "z_score = (assumed_mean-actual_mean)/ std_error\n",
    "print(\"Z_score : \",z_score)\n",
    "area_above = 1- st.norm.cdf(z_score)\n",
    "print(\"%area above {} is {}\".format(z_score,area_above))\n",
    "z_score1 = st.norm.ppf(area_above)\n",
    "area_below = st.norm.cdf(z_score1)\n",
    "print(\"%area below {} is {}\".format(z_score1,area_below))\n",
    "print(\"critical value(Z*) is {}, {} \".format(z_score1,z_score))"
   ]
  },
  {
   "cell_type": "code",
   "execution_count": 60,
   "metadata": {},
   "outputs": [
    {
     "name": "stdout",
     "output_type": "stream",
     "text": [
      "P(z ≠ 1.42) is  0.1556076810530928\n",
      "Fail to reject H0\n"
     ]
    }
   ],
   "source": [
    "total_prob = area_above+area_below\n",
    "print(\"P(z ≠ 1.42) is \", total_prob)\n",
    "if total_prob < alpha:\n",
    "    print(\"Reject H0\")\n",
    "else:\n",
    "    print(\"Fail to reject H0\")"
   ]
  },
  {
   "cell_type": "code",
   "execution_count": 61,
   "metadata": {},
   "outputs": [
    {
     "name": "stdout",
     "output_type": "stream",
     "text": [
      "Z_value of 0.95 is : 1.6448536269514722\n",
      "Z_value of 0.05 is : -1.6448536269514729\n",
      "critical value of significance at 5% is ±1.6448536269514722\n",
      "Fail to reject H0\n"
     ]
    }
   ],
   "source": [
    "# Alternatively\n",
    "#divide alpha as 2 tailed test\n",
    "two_tail_alpha = alpha/2\n",
    "\n",
    "# compute critcal value\n",
    "# % area below .025 is 0.975\n",
    "area = 1-two_tail_alpha\n",
    "significance_positive_zscore = st.norm.ppf(area)\n",
    "print(\"Z_value of {} is : {}\".format(area,significance_positive_zscore))\n",
    "significance_negative_zscore = st.norm.ppf(two_tail_alpha)\n",
    "print(\"Z_value of {} is : {}\".format(two_tail_alpha,significance_negative_zscore))\n",
    "print(\"critical value of significance at 5% is ±{}\".format(significance_positive_zscore))\n",
    "\n",
    "# comparte critical score for accepting and rejecting null hypothesis\n",
    "if significance_positive_zscore < z_score :\n",
    "    print(\"Reject H0\")\n",
    "else:\n",
    "    print(\"Fail to reject H0\")"
   ]
  },
  {
   "cell_type": "markdown",
   "metadata": {},
   "source": [
    "### Problem Statement 6:\n",
    "Suppose that in past years the average price per square foot for warehouses in the United States has been $32.28\n",
    "\n",
    "A national real estate investor wants to determine whether that figure has changed now. The investor hires a researcher who randomly samples 19 warehouses that are for sale across the United States and finds that the mean price per square foot is $ 31.67,  with a standard deviation of $1.29\n",
    "\n",
    "assume that the prices of warehouse footage are normally distributed in population. \n",
    "If the researcher uses a 5% level of significance, what statistical conclusion can be reached? What are the hypotheses?"
   ]
  },
  {
   "cell_type": "code",
   "execution_count": 63,
   "metadata": {},
   "outputs": [
    {
     "name": "stdout",
     "output_type": "stream",
     "text": [
      "Z_score :  -2.06118477175179\n",
      "%area above -2.06118477175179 is 0.019642707888713782\n",
      "%area below 2.0611847717517895 is 0.019642707888713806\n",
      "critical value(Z*) is 2.0611847717517895, -2.06118477175179 \n"
     ]
    }
   ],
   "source": [
    "# lets perform a Z-test\n",
    "# 𝐻0: 𝜇 = 32.28, 𝐻1: 𝜇  ≠  31.67\n",
    "# alpha = 5%\n",
    "actual_mean = 32.28\n",
    "assumed_mean = 31.67\n",
    "n = 19\n",
    "alpha = 0.05\n",
    "std_dev = 1.29\n",
    "std_error = std_dev/np.sqrt(n)\n",
    "z_score = (assumed_mean-actual_mean)/ std_error\n",
    "print(\"Z_score : \",z_score)\n",
    "area_above = st.norm.cdf(z_score)\n",
    "print(\"%area above {} is {}\".format(z_score,area_above))\n",
    "z_score1 = st.norm.ppf(1-area_above)\n",
    "area_below = 1-st.norm.cdf(z_score1)\n",
    "print(\"%area below {} is {}\".format(z_score1,area_below))\n",
    "print(\"critical value(Z*) is {}, {} \".format(z_score1,z_score))"
   ]
  },
  {
   "cell_type": "code",
   "execution_count": 64,
   "metadata": {},
   "outputs": [
    {
     "name": "stdout",
     "output_type": "stream",
     "text": [
      "P(z ≠ 1.42) is  0.039285415777427585\n",
      "Reject H0\n"
     ]
    }
   ],
   "source": [
    "total_prob = area_above+area_below\n",
    "print(\"P(z ≠ 1.42) is \", total_prob)\n",
    "if total_prob < alpha:\n",
    "    print(\"Reject H0\")\n",
    "else:\n",
    "    print(\"Fail to reject H0\")"
   ]
  },
  {
   "cell_type": "code",
   "execution_count": 68,
   "metadata": {},
   "outputs": [
    {
     "name": "stdout",
     "output_type": "stream",
     "text": [
      "Z_value of 0.975 is : 1.959963984540054\n",
      "Z_value of 0.025 is : -1.9599639845400545\n",
      "critical value of significance at 5% is ±1.959963984540054\n",
      "Reject H0 as ±1.959963984540054 < ±2.0611847717517895\n"
     ]
    }
   ],
   "source": [
    "# Alternatively\n",
    "#divide alpha as 2 tailed test\n",
    "two_tail_alpha = alpha/2\n",
    "\n",
    "# compute critcal value\n",
    "# % area below .025 is 0.975\n",
    "area = 1-two_tail_alpha\n",
    "significance_positive_zscore = st.norm.ppf(area)\n",
    "print(\"Z_value of {} is : {}\".format(area,significance_positive_zscore))\n",
    "significance_negative_zscore = st.norm.ppf(two_tail_alpha)\n",
    "print(\"Z_value of {} is : {}\".format(two_tail_alpha,significance_negative_zscore))\n",
    "print(\"critical value of significance at 5% is ±{}\".format(significance_positive_zscore))\n",
    "\n",
    "# comparte critical score for accepting and rejecting null hypothesis\n",
    "if significance_positive_zscore < z_score1 :\n",
    "    print(\"Reject H0 as ±{} < ±{}\".format(significance_positive_zscore,z_score1))\n",
    "else:\n",
    "    print(\"Fail to reject H0 ±{} > ±{}\".format(significance_positive_zscore,z_score1))"
   ]
  },
  {
   "attachments": {},
   "cell_type": "markdown",
   "metadata": {},
   "source": [
    "### Problem Statement 7:\n",
    "Fill in the blank spaces in the table and draw your conclusions from it.\n",
    "<img src=\"img\\p7.png\">"
   ]
  },
  {
   "cell_type": "code",
   "execution_count": 86,
   "metadata": {},
   "outputs": [],
   "source": [
    "def compute_prob_interval(mean, x1,x2,sample_size):\n",
    "    n=sample_size\n",
    "    std_dev = 4 #since no information is given assueming std_Dev = 4 from better approximations\n",
    "    se = std_dev/np.sqrt(n)\n",
    "    z_score1 = (x1-mean)/(se)\n",
    "    z_score2 = (x2-mean)/(se)\n",
    "    prob1 = st.norm.cdf(z_score1)\n",
    "    prob2 = st.norm.cdf(z_score2)\n",
    "    print(\"for 𝜇 = {} \".format(mean))\n",
    "    print(\"z_score interval({} < x̅ < {}) for ({} < x̅ < {}) \".format(z_score1,z_score2,x1,x2))\n",
    "    print(\"probability interval P({} < x̅ < {})\".format(prob1,prob2))\n",
    "    print(\"Beta region : {} - {} = {}\".format(prob2,prob1, prob2-prob1))"
   ]
  },
  {
   "cell_type": "code",
   "execution_count": 88,
   "metadata": {},
   "outputs": [
    {
     "name": "stdout",
     "output_type": "stream",
     "text": [
      "for 𝜇 = 52 \n",
      "z_score interval(-2.766992952647332 < x̅ -0.7905694150420948) for (48.5 < x̅ < 51) \n",
      "probability interval P(0.00282879890753218 < x̅ < 0.21459765022017463)\n",
      "Beta region : 0.21459765022017463 - 0.00282879890753218 = 0.21176885131264245\n",
      "\n",
      "for 𝜇 = 50.5 \n",
      "z_score interval(-1.5811388300841895 < x̅ 0.3952847075210474) for (48.5 < x̅ < 51) \n",
      "probability interval P(0.056923149003329024 < x̅ < 0.6536836079790199)\n",
      "Beta region : 0.6536836079790199 - 0.056923149003329024 = 0.5967604589756909\n"
     ]
    }
   ],
   "source": [
    "compute_prob_interval(52,48.5,51,10)\n",
    "print()\n",
    "compute_prob_interval(50.5,48.5,51,10)"
   ]
  },
  {
   "cell_type": "code",
   "execution_count": 89,
   "metadata": {},
   "outputs": [
    {
     "name": "stdout",
     "output_type": "stream",
     "text": [
      "for 𝜇 = 52 \n",
      "z_score interval(-3.162277660168379 < x̅ 0.0) for (48 < x̅ < 52) \n",
      "probability interval P(0.000782701129001274 < x̅ < 0.5)\n",
      "Beta region : 0.5 - 0.000782701129001274 = 0.49921729887099875\n",
      "\n",
      "for 𝜇 = 50.5 \n",
      "z_score interval(-1.976423537605237 < x̅ 1.1858541225631423) for (48 < x̅ < 52) \n",
      "probability interval P(0.024053413944259697 < x̅ < 0.8821600432854813)\n",
      "Beta region : 0.8821600432854813 - 0.024053413944259697 = 0.8581066293412215\n"
     ]
    }
   ],
   "source": [
    "compute_prob_interval(52,48,52,10)\n",
    "print()\n",
    "compute_prob_interval(50.5,48,52,10)"
   ]
  },
  {
   "cell_type": "code",
   "execution_count": 90,
   "metadata": {},
   "outputs": [
    {
     "name": "stdout",
     "output_type": "stream",
     "text": [
      "for 𝜇 = 52 \n",
      "z_score interval(-3.1899999999999977 < x̅ -0.10000000000000142) for (48.81 < x̅ < 51.9) \n",
      "probability interval P(0.0007113639686453697 < x̅ < 0.46017216272297046)\n",
      "Beta region : 0.46017216272297046 - 0.0007113639686453697 = 0.4594607987543251\n",
      "\n",
      "for 𝜇 = 50.5 \n",
      "z_score interval(-1.6899999999999977 < x̅ 1.3999999999999986) for (48.81 < x̅ < 51.9) \n",
      "probability interval P(0.04551397732155001 < x̅ < 0.9192433407662288)\n",
      "Beta region : 0.9192433407662288 - 0.04551397732155001 = 0.8737293634446788\n"
     ]
    }
   ],
   "source": [
    "compute_prob_interval(52,48.81,51.9,16)\n",
    "print()\n",
    "compute_prob_interval(50.5,48.81,51.9,16)"
   ]
  },
  {
   "cell_type": "code",
   "execution_count": 91,
   "metadata": {},
   "outputs": [
    {
     "name": "stdout",
     "output_type": "stream",
     "text": [
      "for 𝜇 = 52 \n",
      "z_score interval(-3.5799999999999983 < x̅ -0.4200000000000017) for (48.42 < x̅ < 51.58) \n",
      "probability interval P(0.00017179710374593175 < x̅ < 0.33724272684824885)\n",
      "Beta region : 0.33724272684824885 - 0.00017179710374593175 = 0.3370709297445029\n",
      "\n",
      "for 𝜇 = 50.5 \n",
      "z_score interval(-2.0799999999999983 < x̅ 1.0799999999999983) for (48.42 < x̅ < 51.58) \n",
      "probability interval P(0.018762766434937836 < x̅ < 0.8599289099112306)\n",
      "Beta region : 0.8599289099112306 - 0.018762766434937836 = 0.8411661434762928\n"
     ]
    }
   ],
   "source": [
    "compute_prob_interval(52,48.42,51.58,16)\n",
    "print()\n",
    "compute_prob_interval(50.5,48.42,51.58,16)"
   ]
  },
  {
   "cell_type": "markdown",
   "metadata": {},
   "source": [
    "### Problem Statement 8:\n",
    "Find the t-score for a sample size of 16 taken from a population with mean 10 when the sample mean is 12 and the sample standard deviation is 1.5."
   ]
  },
  {
   "cell_type": "code",
   "execution_count": 96,
   "metadata": {},
   "outputs": [
    {
     "name": "stdout",
     "output_type": "stream",
     "text": [
      "t_score :  5.333333333333333 Degrees of Freedom :  15\n"
     ]
    }
   ],
   "source": [
    "from scipy.stats import t\n",
    "n = 16\n",
    "mean = 10\n",
    "sample_mean = 12\n",
    "std_dev = 1.5\n",
    "\n",
    "se = std_dev/np.sqrt(n)\n",
    "t_score = (sample_mean-mean)/(se)\n",
    "\n",
    "print(\"t_score : \", t_score,\"Degrees of Freedom : \",n-1)"
   ]
  },
  {
   "cell_type": "code",
   "execution_count": 100,
   "metadata": {},
   "outputs": [
    {
     "name": "stdout",
     "output_type": "stream",
     "text": [
      "t-statistic =  5.333 pvalue = 0.0001\n"
     ]
    }
   ],
   "source": [
    "pval = stats.t.sf(np.abs(t_score), n-1)*2  # two-sided pvalue = Prob(abs(t)>tt)\n",
    "print('t-statistic = %6.3f pvalue = %6.4f' % (t_score, pval))"
   ]
  },
  {
   "cell_type": "markdown",
   "metadata": {},
   "source": [
    "### Problem Statement 9:\n",
    "Find the t-score below which we can expect 99% of sample means will fall if samples of size 16 are taken from a normally distributed population."
   ]
  },
  {
   "cell_type": "code",
   "execution_count": 101,
   "metadata": {},
   "outputs": [
    {
     "name": "stdout",
     "output_type": "stream",
     "text": [
      "t_score is  {2.946712883338615}\n"
     ]
    }
   ],
   "source": [
    "# for small samples (<50) we use t-statistics\n",
    "# n = 16, degree of freedom = 16-1 = 15\n",
    "# for 99% confidence interval, alpha = 1% = 0.01 and alpha/2 = 0.005\n",
    "\n",
    "\n",
    "n= 16\n",
    "alpha=(1-0.99)/2 # 0.005 is area on both side and area below is .99+.005=.995\n",
    "print(f\"t_score is \",{stats.t.ppf(1-alpha,df=15)})\n",
    "\n",
    "\n"
   ]
  },
  {
   "cell_type": "markdown",
   "metadata": {},
   "source": [
    "### Problem Statement 10:\n",
    "If a random sample of size 25 drawn from a normal population gives a mean of 60 and a standard deviation of 4, find the range of t-scores where we can expect to find the middle 95% of all sample means. Compute the probability that (−𝑡0.05 <𝑡<𝑡0.10)."
   ]
  },
  {
   "attachments": {},
   "cell_type": "markdown",
   "metadata": {},
   "source": [
    "<img src=\"img\\p10.png\">"
   ]
  },
  {
   "cell_type": "code",
   "execution_count": 104,
   "metadata": {},
   "outputs": [
    {
     "name": "stdout",
     "output_type": "stream",
     "text": [
      "t_score is  2.0638985616280205\n"
     ]
    }
   ],
   "source": [
    "n= 25\n",
    "mean = 60\n",
    "std_dev = 4\n",
    "se = std_dev/np.sqrt(25)\n",
    "alpha=(1-0.95)/2 # 0.025 is area on both side and area below is .95+.025=.975\n",
    "t_score = stats.t.ppf(1-alpha,df=24)\n",
    "print(\"t_score is \", t_score)"
   ]
  },
  {
   "cell_type": "code",
   "execution_count": 107,
   "metadata": {},
   "outputs": [
    {
     "name": "stdout",
     "output_type": "stream",
     "text": [
      "Confidence Interval :  58.348881150697586  ,  61.651118849302414\n"
     ]
    }
   ],
   "source": [
    "print(\"Confidence Interval : \",mean-t_score*se,\" , \",mean+t_score*se)"
   ]
  },
  {
   "cell_type": "code",
   "execution_count": 110,
   "metadata": {},
   "outputs": [
    {
     "name": "stdout",
     "output_type": "stream",
     "text": [
      "P(−𝑡0.05 <𝑡<𝑡0.10) :  0.05914441613731247\n"
     ]
    }
   ],
   "source": [
    "prob1 = stats.t.cdf(0.1,df=24)\n",
    "prob2 = stats.t.cdf(-0.05,df=24)\n",
    "print(\"P(−𝑡0.05 <𝑡<𝑡0.10) : \",prob1-prob2)"
   ]
  },
  {
   "cell_type": "markdown",
   "metadata": {},
   "source": [
    "### Problem Statement 11:\n",
    "Two-tailed test for difference between two population means. Is there evidence to conclude that the number of people travelling from Bangalore to Chennai is different from the number of people travelling from Bangalore to Hosur in\n",
    "a week, given the following:\n",
    "\n",
    "Population 1: Bangalore to Chennai n1 = 1200\n",
    "\n",
    "x1 = 452\n",
    "\n",
    "s1 = 212\n",
    "\n",
    "Population 2: Bangalore to Hosur n2 = 800\n",
    "\n",
    "x2 = 523\n",
    "\n",
    "s2 = 185"
   ]
  },
  {
   "cell_type": "code",
   "execution_count": 129,
   "metadata": {},
   "outputs": [
    {
     "name": "stdout",
     "output_type": "stream",
     "text": [
      "Z_Score is -7.926428526759299\n"
     ]
    }
   ],
   "source": [
    "# H0: there is no difference between mean\n",
    "# H1: there is difference between mean\n",
    "n1 = 1200\n",
    "x1 = 452\n",
    "s1 = 212\n",
    "\n",
    "n2 = 800\n",
    "x2 = 523\n",
    "s2 = 185\n",
    "\n",
    "SE = np.sqrt(((s1**2)/n1) + ((s2**2)/n2)) \n",
    "z_score = (x1-x2) / SE\n",
    "print(\"Z_Score is\", z_score)"
   ]
  },
  {
   "cell_type": "code",
   "execution_count": 134,
   "metadata": {},
   "outputs": [
    {
     "name": "stdout",
     "output_type": "stream",
     "text": [
      "Z_value of 0.975 is : 1.959963984540054\n",
      "Z_value of 0.025 is : -1.9599639845400545\n",
      "critical value of significance at 5% is ±1.959963984540054\n",
      "Reject H0 as ±1.959963984540054 < 5.025702668336442\n"
     ]
    }
   ],
   "source": [
    "alpha = 0.05 #or 5%\n",
    "two_tail_alpha = alpha/2\n",
    "# compute critcal value\n",
    "# % area below .025 is 0.975\n",
    "area = 1-two_tail_alpha\n",
    "significance_positive_zscore = st.norm.ppf(area)\n",
    "print(\"Z_value of {} is : {}\".format(area,significance_positive_zscore))\n",
    "significance_negative_zscore = st.norm.ppf(two_tail_alpha)\n",
    "print(\"Z_value of {} is : {}\".format(two_tail_alpha,significance_negative_zscore))\n",
    "print(\"critical value of significance at 5% is ±{}\".format(significance_positive_zscore))\n",
    "\n",
    "# comparte critical score for accepting and rejecting null hypothesis\n",
    "if significance_negative_zscore < z_score :\n",
    "    print(\"Reject H0 as ±{} < {}\".format(significance_positive_zscore,z_score))\n",
    "else:\n",
    "    print(\"Fail to reject H0 ±{} < {}\".format(significance_positive_zscore,z_score))"
   ]
  },
  {
   "cell_type": "markdown",
   "metadata": {},
   "source": [
    "### Problem Statement 12:\n",
    "Is there evidence to conclude that the number of people preferring Duracell battery is different from the number of people preferring Energizer battery, given the following:\n",
    "\n",
    "Population 1: Duracell\n",
    "\n",
    "n1 = 100\n",
    "\n",
    "x1 = 308\n",
    "\n",
    "s1 = 84\n",
    "\n",
    "Population 2: Energizer\n",
    "\n",
    "n2 = 100\n",
    "\n",
    "x2 = 254\n",
    "\n",
    "s2 = 67"
   ]
  },
  {
   "cell_type": "code",
   "execution_count": 131,
   "metadata": {},
   "outputs": [
    {
     "name": "stdout",
     "output_type": "stream",
     "text": [
      "Z_Score is 5.025702668336442\n"
     ]
    }
   ],
   "source": [
    "# H0: there is no difference between duracell and Energizer\n",
    "# H1: there is difference between duracell and Energizer\n",
    "n1 = 100\n",
    "x1 = 308\n",
    "s1 = 84\n",
    "\n",
    "n2 = 100\n",
    "x2 = 254\n",
    "s2 = 67\n",
    "\n",
    "SE = np.sqrt(((s1**2)/n1) + ((s2**2)/n2)) \n",
    "z_score = (x1-x2) / SE\n",
    "print(\"Z_Score is\", z_score)"
   ]
  },
  {
   "cell_type": "code",
   "execution_count": 133,
   "metadata": {},
   "outputs": [
    {
     "name": "stdout",
     "output_type": "stream",
     "text": [
      "Z_value of 0.975 is : 1.959963984540054\n",
      "Z_value of 0.025 is : -1.9599639845400545\n",
      "critical value of significance at 5% is ±1.959963984540054\n",
      "Reject H0 as ±1.959963984540054 < 5.025702668336442\n"
     ]
    }
   ],
   "source": [
    "# compute critcal value\n",
    "# % area below .025 is 0.975\n",
    "area = 1-two_tail_alpha\n",
    "significance_positive_zscore = st.norm.ppf(area)\n",
    "print(\"Z_value of {} is : {}\".format(area,significance_positive_zscore))\n",
    "significance_negative_zscore = st.norm.ppf(two_tail_alpha)\n",
    "print(\"Z_value of {} is : {}\".format(two_tail_alpha,significance_negative_zscore))\n",
    "print(\"critical value of significance at 5% is ±{}\".format(significance_positive_zscore))\n",
    "\n",
    "# comparte critical score for accepting and rejecting null hypothesis\n",
    "if  significance_positive_zscore < z_score   :\n",
    "    print(\"Reject H0 as ±{} < {}\".format(significance_positive_zscore,z_score))\n",
    "else:\n",
    "    print(\"Fail to reject H0 ±{} > {}\".format(significance_positive_zscore,z_score))"
   ]
  },
  {
   "cell_type": "markdown",
   "metadata": {},
   "source": [
    "### Problem Statement 13:\n",
    "Pooled estimate of the population variance. Does the data provide sufficient evidence to conclude that average percentage\n",
    "increase in the price of sugar differs when it is sold at two different prices?\n",
    "\n",
    "Population 1: Price of sugar = Rs. 27.50 \n",
    "\n",
    "n1 = 14\n",
    "\n",
    "x1 = 0.317%\n",
    "\n",
    "s1 = 0.12%\n",
    "\n",
    "Population 2: Price of sugar = Rs. 20.00 \n",
    "\n",
    "n2 = 9\n",
    "\n",
    "x2 = 0.21%\n",
    "\n",
    "s2 = 0.11%\n",
    "\n",
    "https://www.slideshare.net/ShakeelNouman1/the-comparison-of-two-populations"
   ]
  },
  {
   "attachments": {},
   "cell_type": "markdown",
   "metadata": {},
   "source": [
    "<img src=\"img\\p13.png\">"
   ]
  },
  {
   "attachments": {},
   "cell_type": "markdown",
   "metadata": {},
   "source": [
    "\n",
    "<img src=\"img\\p13-1.png\">"
   ]
  },
  {
   "cell_type": "code",
   "execution_count": 136,
   "metadata": {},
   "outputs": [
    {
     "data": {
      "text/plain": [
       "2.15355322387416"
      ]
     },
     "execution_count": 136,
     "metadata": {},
     "output_type": "execute_result"
    }
   ],
   "source": [
    "# H0: there is no difference between duracell and Energizer\n",
    "# H1: there is difference between duracell and Energizer\n",
    "n1 = 14\n",
    "x1 = .317\n",
    "s1 = .12\n",
    "\n",
    "n2 = 9\n",
    "x2 = .21\n",
    "s2 = .11\n",
    "\n",
    "df = n1+n2-2\n",
    "sample_varience = (((n1-1)*(s1**2)) + ((n2-1)*(s2**2)))/df\n",
    "t_score = (x1-x2)/np.sqrt(sample_varience * ((1/n1)+(1/n2)))\n",
    "t_score"
   ]
  },
  {
   "cell_type": "code",
   "execution_count": 139,
   "metadata": {},
   "outputs": [
    {
     "name": "stdout",
     "output_type": "stream",
     "text": [
      "critical t_score is  1.7108820799094275\n"
     ]
    }
   ],
   "source": [
    "# Lets test the t_score with significance level 0.05\n",
    "alpha = 0.05 #or 5%\n",
    "two_tail_alpha = alpha/2\n",
    "# compute critcal value\n",
    "# % area below .025 is 0.975\n",
    "area = 1-two_tail_alpha\n",
    "t_score = stats.t.ppf(1-alpha,df=24)\n",
    "print(\"critical t_score is \", t_score)"
   ]
  },
  {
   "cell_type": "markdown",
   "metadata": {},
   "source": [
    "1.71<2.15 which say that obtained t_score is above the level of significance hence we 'reject the Null Hypothesis'"
   ]
  },
  {
   "cell_type": "markdown",
   "metadata": {},
   "source": [
    "### Problem Statement 14:\n",
    "The manufacturers of compact disk players want to test whether a small price reduction is enough to increase sales of their product. Is there evidence that the small price reduction is enough to increase sales of compact disk players?\n",
    "\n",
    "Population 1: Before reduction\n",
    "\n",
    "n1 = 15\n",
    "\n",
    "x1 = Rs. 6598 \n",
    "\n",
    "s1 = Rs. 844\n",
    "\n",
    "Population 2: After reduction \n",
    "\n",
    "n2 = 12\n",
    "\n",
    "x2 = RS. 6870\n",
    "\n",
    "s2 = Rs. 669"
   ]
  },
  {
   "cell_type": "code",
   "execution_count": 140,
   "metadata": {},
   "outputs": [
    {
     "data": {
      "text/plain": [
       "-0.9098300343990461"
      ]
     },
     "execution_count": 140,
     "metadata": {},
     "output_type": "execute_result"
    }
   ],
   "source": [
    "# H0: there is no difference between duracell and Energizer\n",
    "# H1: there is difference between duracell and Energizer\n",
    "n1 = 15\n",
    "x1 = 6598\n",
    "s1 = 844\n",
    "\n",
    "n2 = 12\n",
    "x2 = 6870\n",
    "s2 = 669\n",
    "\n",
    "df = n1+n2-2\n",
    "sample_varience = (((n1-1)*(s1**2)) + ((n2-1)*(s2**2)))/df\n",
    "t_score = (x1-x2)/np.sqrt(sample_varience * ((1/n1)+(1/n2)))\n",
    "t_score"
   ]
  },
  {
   "cell_type": "code",
   "execution_count": 142,
   "metadata": {},
   "outputs": [
    {
     "name": "stdout",
     "output_type": "stream",
     "text": [
      "critical t_score is  -1.7056179197592731\n"
     ]
    }
   ],
   "source": [
    "# Lets test the t_score with significance level 0.05\n",
    "alpha = 0.05 #or 5%\n",
    "area = 1-two_tail_alpha\n",
    "t_score = stats.t.ppf(alpha,df=26)\n",
    "print(\"critical t_score is \", t_score)"
   ]
  },
  {
   "cell_type": "markdown",
   "metadata": {},
   "source": [
    "-1.70 < -0.91 hence we accept the 'Null hypothesis'"
   ]
  },
  {
   "cell_type": "markdown",
   "metadata": {},
   "source": [
    "### Problem Statement 15:\n",
    "Comparisons of two population proportions when the hypothesized difference is zero Carry out a two-tailed test of the equality of banks’ share of the car loan market in 1980 and 1995.\n",
    "\n",
    "Population 1: 1980\n",
    "\n",
    "n1 = 1000\n",
    "\n",
    "x1 = 53\n",
    "\n",
    "𝑝1 = 0.53\n",
    "\n",
    "Population 2: 1985\n",
    "\n",
    "n2 = 100\n",
    "\n",
    "x2 = 43\n",
    "\n",
    "𝑝 2= 0.43"
   ]
  },
  {
   "cell_type": "code",
   "execution_count": 156,
   "metadata": {},
   "outputs": [
    {
     "data": {
      "text/plain": [
       "1.4153462926807452"
      ]
     },
     "execution_count": 156,
     "metadata": {},
     "output_type": "execute_result"
    }
   ],
   "source": [
    "# H0: there is no difference between duracell and Energizer\n",
    "# H1: there is difference between duracell and Energizer\n",
    "n1 = 100\n",
    "x1 = 53\n",
    "𝑝1 = 0.53\n",
    "\n",
    "n2 = 100\n",
    "x2 = 43\n",
    "𝑝2= 0.43\n",
    "\n",
    "p_hat = (x1+x2)/(n1+n2)\n",
    "\n",
    "z_score = (p1-p2)/np.sqrt((p_hat*(1-p_hat)) * ((1/n1)+(1/n2)))\n",
    "z_score"
   ]
  },
  {
   "cell_type": "code",
   "execution_count": 159,
   "metadata": {},
   "outputs": [
    {
     "name": "stdout",
     "output_type": "stream",
     "text": [
      "Z_value of 0.95 is : 1.6448536269514722\n",
      "Z_value of 0.05 is : -1.6448536269514729\n",
      "critical value of significance at 5% is ±1.6448536269514722\n",
      "Fail to reject H0 ±1.6448536269514722 < 1.4153462926807452\n"
     ]
    }
   ],
   "source": [
    "alpha = 0.10 #or 10% significance\n",
    "two_tail_alpha = alpha/2\n",
    "# compute critcal value\n",
    "# % area below .05 is 0.95\n",
    "area = 1-two_tail_alpha\n",
    "significance_positive_zscore = st.norm.ppf(area)\n",
    "print(\"Z_value of {} is : {}\".format(area,significance_positive_zscore))\n",
    "significance_negative_zscore = st.norm.ppf(two_tail_alpha)\n",
    "print(\"Z_value of {} is : {}\".format(two_tail_alpha,significance_negative_zscore))\n",
    "print(\"critical value of significance at 5% is ±{}\".format(significance_positive_zscore))\n",
    "\n",
    "# comparte critical score for accepting and rejecting null hypothesis\n",
    "if significance_positive_zscore < z_score :\n",
    "    print(\"Reject H0 as ±{} < {}\".format(significance_positive_zscore,z_score))\n",
    "else:\n",
    "    print(\"Fail to reject H0 ±{} > {}\".format(significance_positive_zscore,z_score))"
   ]
  },
  {
   "cell_type": "markdown",
   "metadata": {},
   "source": [
    "### Problem Statement 16:\n",
    "Carry out a one-tailed test to determine whether the population proportion of traveler’s check buyers who buy at least $2500 in checks when sweepstakes prizes are offered as at least 10% higher than the proportion of such buyers when no sweepstakes are on.\n",
    "\n",
    "Population 1: With sweepstakes\n",
    "\n",
    "n1 = 300\n",
    "\n",
    "x1 = 120\n",
    "\n",
    "𝑝1 = 0.40\n",
    "\n",
    "Population 2: No sweepstakes \n",
    "\n",
    "n2 = 700\n",
    "\n",
    "x2 = 140\n",
    "\n",
    "𝑝2= 0.20"
   ]
  },
  {
   "cell_type": "code",
   "execution_count": 2,
   "metadata": {},
   "outputs": [
    {
     "data": {
      "text/plain": [
       "3.303749523611152"
      ]
     },
     "execution_count": 2,
     "metadata": {},
     "output_type": "execute_result"
    }
   ],
   "source": [
    "#h0 : p1-p2<=0.10\n",
    "#h1 : p1-p2>0.10\n",
    "\n",
    "n1 = 300\n",
    "x1 = 120\n",
    "p1 = 0.40\n",
    "\n",
    "n2 = 700\n",
    "x2 = 140\n",
    "p2= 0.20\n",
    "\n",
    "p_hat = (x1+x2)/(n1+n2)\n",
    "\n",
    "z_score = (p1-p2-0.1)/np.sqrt((p_hat*(1-p_hat)) * ((1/n1)+(1/n2)))\n",
    "z_score"
   ]
  },
  {
   "cell_type": "code",
   "execution_count": 6,
   "metadata": {},
   "outputs": [
    {
     "data": {
      "text/plain": [
       "0.9995229948610035"
      ]
     },
     "execution_count": 6,
     "metadata": {},
     "output_type": "execute_result"
    }
   ],
   "source": [
    "st.norm.cdf(z_score)"
   ]
  },
  {
   "cell_type": "code",
   "execution_count": 7,
   "metadata": {},
   "outputs": [
    {
     "name": "stdout",
     "output_type": "stream",
     "text": [
      "area below z-socre 3.303749523611152 is 0.9995229948610035 and area above is 0.0004770051389965113\n"
     ]
    }
   ],
   "source": [
    "area_below = st.norm.cdf(z_score)\n",
    "area_above = 1-area_below\n",
    "print(\"area below z-socre {} is {} and area above is {}\".format(z_score,area_below,area_above))"
   ]
  },
  {
   "cell_type": "code",
   "execution_count": 9,
   "metadata": {},
   "outputs": [
    {
     "name": "stdout",
     "output_type": "stream",
     "text": [
      "Reject H0\n"
     ]
    }
   ],
   "source": [
    "alpha = 0.10\n",
    "if alpha < area_above:\n",
    "    print(\"fail to reject H0\")\n",
    "else:\n",
    "    print(\"Reject H0\")\n",
    "    "
   ]
  },
  {
   "cell_type": "markdown",
   "metadata": {},
   "source": [
    "### Problem Statement 17:\n",
    "A die is thrown 132 times with the following results: Number turned up: 1, 2, 3, 4, 5, 6\n",
    "\n",
    "Frequency: 16, 20, 25, 14, 29, 28\n",
    "\n",
    "Is the die unbiased? Consider the degrees of freedom as 𝑝 − 1 ."
   ]
  },
  {
   "attachments": {},
   "cell_type": "markdown",
   "metadata": {},
   "source": [
    "<img src=\"img\\p17.png\">"
   ]
  },
  {
   "cell_type": "code",
   "execution_count": 17,
   "metadata": {},
   "outputs": [],
   "source": [
    "expected = [22,22,22,22,22,22]\n",
    "observed = [16,20,25,14,29,28]\n",
    "X = []\n",
    "for i in range(6):\n",
    "    r = ((observed[i] - expected[i])**2)/expected[i]\n",
    "    X.append(r)\n",
    "chi_score = np.sum(X)\n",
    "df = 6-1"
   ]
  },
  {
   "cell_type": "code",
   "execution_count": 25,
   "metadata": {},
   "outputs": [
    {
     "name": "stdout",
     "output_type": "stream",
     "text": [
      "P(X=9.0) = 0.1090641579497725\n"
     ]
    }
   ],
   "source": [
    "from scipy.stats.distributions import chi2\n",
    "pval = chi2.sf(chi_score,df)\n",
    "print(\"P(X={}) = {}\".format(chi_score,pval))"
   ]
  },
  {
   "cell_type": "code",
   "execution_count": 26,
   "metadata": {},
   "outputs": [
    {
     "name": "stdout",
     "output_type": "stream",
     "text": [
      "fail to reject H0\n"
     ]
    }
   ],
   "source": [
    "alpha = .10\n",
    "if pval > alpha:\n",
    "    print(\"fail to reject H0\")\n",
    "else:\n",
    "    print(\"reject H0\")"
   ]
  },
  {
   "attachments": {},
   "cell_type": "markdown",
   "metadata": {},
   "source": [
    "### Problem Statement 18:\n",
    "In a certain town, there are about one million eligible voters. A simple random sample of 10,000 eligible voters was chosen to study the relationship between gender and participation in the last election. The results are summarized in the following 2X2 (read two by two) contingency table:\n",
    "<img src=\"img\\p18.png\">"
   ]
  },
  {
   "attachments": {},
   "cell_type": "markdown",
   "metadata": {},
   "source": [
    "<img src=\"img\\p18-1.png\">"
   ]
  },
  {
   "cell_type": "code",
   "execution_count": 27,
   "metadata": {},
   "outputs": [],
   "source": [
    "def compute_expected(val1,val2,total):\n",
    "    expected = (val1*val2)/total\n",
    "    return expected"
   ]
  },
  {
   "cell_type": "code",
   "execution_count": 45,
   "metadata": {},
   "outputs": [],
   "source": [
    "o_men_v = 2792\n",
    "o_men_nv = 1486\n",
    "o_women_v = 3591\n",
    "o_women_nv = 2131\n",
    "all_voted = o_men_v + o_women_v\n",
    "not_voted = o_men_nv + o_women_nv\n",
    "total_men = o_men_v+o_men_nv\n",
    "total_women = o_women_v+o_women_nv\n",
    "total = o_men_v+o_men_nv+o_women_v+o_women_nv\n",
    "\n",
    "e_men_v = compute_expected(all_voted,total_men,total)\n",
    "e_men_nv = compute_expected(not_voted,total_men,total)\n",
    "e_women_v = compute_expected(all_voted,total_women,total)\n",
    "e_women_nv = compute_expected(not_voted,total_women,total)\n",
    "\n",
    "observed_list = [o_men_v,o_men_nv,o_women_v,o_women_nv]\n",
    "expected_list = [round(e_men_v),round(e_men_nv),round(e_women_v),round(e_women_nv)]"
   ]
  },
  {
   "cell_type": "code",
   "execution_count": 46,
   "metadata": {},
   "outputs": [
    {
     "data": {
      "text/plain": [
       "[2792, 1486, 3591, 2131]"
      ]
     },
     "execution_count": 46,
     "metadata": {},
     "output_type": "execute_result"
    }
   ],
   "source": [
    "observed_list"
   ]
  },
  {
   "cell_type": "code",
   "execution_count": 47,
   "metadata": {},
   "outputs": [
    {
     "data": {
      "text/plain": [
       "[2731, 1547, 3652, 2070]"
      ]
     },
     "execution_count": 47,
     "metadata": {},
     "output_type": "execute_result"
    }
   ],
   "source": [
    "expected_list"
   ]
  },
  {
   "cell_type": "code",
   "execution_count": 48,
   "metadata": {},
   "outputs": [],
   "source": [
    "X = []\n",
    "for i in range(len(observed_list)):\n",
    "    r = ((observed_list[i] - expected_list[i])**2)/expected_list[i]\n",
    "    X.append(r)\n",
    "chi_score = np.sum(X)\n",
    "df = (2-1)*(2-1)"
   ]
  },
  {
   "cell_type": "code",
   "execution_count": 49,
   "metadata": {},
   "outputs": [
    {
     "data": {
      "text/plain": [
       "6.58428345675753"
      ]
     },
     "execution_count": 49,
     "metadata": {},
     "output_type": "execute_result"
    }
   ],
   "source": [
    "chi_score"
   ]
  },
  {
   "cell_type": "code",
   "execution_count": 50,
   "metadata": {},
   "outputs": [
    {
     "name": "stdout",
     "output_type": "stream",
     "text": [
      "P(X=6.58428345675753) = 0.010288302079717253\n"
     ]
    }
   ],
   "source": [
    "pval = chi2.sf(chi_score,df)\n",
    "print(\"P(X={}) = {}\".format(chi_score,pval))"
   ]
  },
  {
   "cell_type": "code",
   "execution_count": 51,
   "metadata": {},
   "outputs": [
    {
     "name": "stdout",
     "output_type": "stream",
     "text": [
      "reject H0\n"
     ]
    }
   ],
   "source": [
    "alpha = .10\n",
    "if pval > alpha:\n",
    "    print(\"fail to reject H0\")\n",
    "else:\n",
    "    print(\"reject H0\")"
   ]
  },
  {
   "attachments": {},
   "cell_type": "markdown",
   "metadata": {},
   "source": [
    "### Problem Statement 19:\n",
    "A sample of 100 voters are asked which of four candidates they would vote for in an election. The number supporting each candidate is given below:\n",
    "<img src=\"img\\p19.png\">\n",
    "Do the data suggest that all candidates are equally popular? [Chi-Square = 14.96,with 3 df, 𝑝 0.05 .\n",
    "\n"
   ]
  },
  {
   "attachments": {},
   "cell_type": "markdown",
   "metadata": {},
   "source": [
    "<img src=\"img\\p19-1.png\">"
   ]
  },
  {
   "cell_type": "code",
   "execution_count": 56,
   "metadata": {},
   "outputs": [
    {
     "name": "stdout",
     "output_type": "stream",
     "text": [
      "P(X=14.93) = 0.0018774564613254039\n"
     ]
    }
   ],
   "source": [
    "pval = chi2.sf(14.93,3)\n",
    "print(\"P(X={}) = {}\".format(14.93,pval))"
   ]
  },
  {
   "cell_type": "code",
   "execution_count": 57,
   "metadata": {},
   "outputs": [
    {
     "name": "stdout",
     "output_type": "stream",
     "text": [
      "reject H0\n"
     ]
    }
   ],
   "source": [
    "alpha = .05\n",
    "if pval > alpha:\n",
    "    print(\"fail to reject H0\")\n",
    "else:\n",
    "    print(\"reject H0\")"
   ]
  },
  {
   "attachments": {},
   "cell_type": "markdown",
   "metadata": {},
   "source": [
    "### Problem Statement 20:\n",
    "Children of three ages are asked to indicate their preference for three photographs of adults. Do the data suggest that there is a significant relationship between age and photograph preference? What is wrong with this study? [Chi-Square = 29.6, with 4 df: 𝑝 < 0.05].\n",
    "<img src=\"img\\p20.png\">"
   ]
  },
  {
   "cell_type": "code",
   "execution_count": 58,
   "metadata": {},
   "outputs": [
    {
     "name": "stdout",
     "output_type": "stream",
     "text": [
      "P(X=29.6) = 5.903353020218714e-06\n"
     ]
    }
   ],
   "source": [
    "pval = chi2.sf(29.6,4)\n",
    "print(\"P(X={}) = {}\".format(29.6,pval))"
   ]
  },
  {
   "cell_type": "code",
   "execution_count": 59,
   "metadata": {},
   "outputs": [
    {
     "name": "stdout",
     "output_type": "stream",
     "text": [
      "reject H0\n"
     ]
    }
   ],
   "source": [
    "alpha = .05\n",
    "if pval > alpha:\n",
    "    print(\"fail to reject H0\")\n",
    "else:\n",
    "    print(\"reject H0\")"
   ]
  },
  {
   "attachments": {},
   "cell_type": "markdown",
   "metadata": {},
   "source": [
    "### Problem Statement 21:\n",
    "A study of conformity using the Asch paradigm involved two conditions: one where one confederate supported the true judgement and another where no confederate gave the correct response.\n",
    "<img src=\"img\\p21.png\">\n",
    "Is there a significant difference between the \"support\" and \"no support\" conditions in the frequency with which individuals are likely to conform? [Chi-Square = 19.87, with 1 df: 𝑝 < 0.05]."
   ]
  },
  {
   "cell_type": "code",
   "execution_count": 60,
   "metadata": {},
   "outputs": [
    {
     "name": "stdout",
     "output_type": "stream",
     "text": [
      "P(X=19.87) = 8.289095026714455e-06\n"
     ]
    }
   ],
   "source": [
    "pval = chi2.sf(19.87,1)\n",
    "print(\"P(X={}) = {}\".format(19.87,pval))"
   ]
  },
  {
   "cell_type": "code",
   "execution_count": 61,
   "metadata": {},
   "outputs": [
    {
     "name": "stdout",
     "output_type": "stream",
     "text": [
      "reject H0\n"
     ]
    }
   ],
   "source": [
    "alpha = .05\n",
    "if pval > alpha:\n",
    "    print(\"fail to reject H0\")\n",
    "else:\n",
    "    print(\"reject H0\")"
   ]
  },
  {
   "attachments": {},
   "cell_type": "markdown",
   "metadata": {},
   "source": [
    "## Problem Statement 22:\n",
    "We want to test whether short people differ with respect to their leadership qualities (Genghis Khan, Adolf Hitler and Napoleon were all stature-deprived, and how many midget MP's are there?) The following table shows the frequencies with which 43 short people and 52 tall people were categorized as \"leaders\", \"followers\" or as \"unclassifiable\". Is there a relationship between height and leadership qualities?\n",
    "[Chi-Square = 10.71, with 2 df: 𝑝 < 0.01].\n",
    "<img src=\"img\\p22.png\">"
   ]
  },
  {
   "cell_type": "code",
   "execution_count": 62,
   "metadata": {},
   "outputs": [
    {
     "name": "stdout",
     "output_type": "stream",
     "text": [
      "P(X=10.71) = 0.0047244694975056255\n"
     ]
    }
   ],
   "source": [
    "pval = chi2.sf(10.71,2)\n",
    "print(\"P(X={}) = {}\".format(10.71,pval))"
   ]
  },
  {
   "cell_type": "code",
   "execution_count": 63,
   "metadata": {},
   "outputs": [
    {
     "name": "stdout",
     "output_type": "stream",
     "text": [
      "reject H0\n"
     ]
    }
   ],
   "source": [
    "alpha = .05\n",
    "if pval > alpha:\n",
    "    print(\"fail to reject H0\")\n",
    "else:\n",
    "    print(\"reject H0\")"
   ]
  },
  {
   "attachments": {},
   "cell_type": "markdown",
   "metadata": {},
   "source": [
    "### Problem Statement 23:\n",
    "Each respondent in the Current Population Survey of March 1993 was classified as employed, unemployed, or outside the labor force. The results for men in California age 35-44 can be cross-tabulated by marital status, as follows:\n",
    "<img src=\"img\\p23.png\">\n",
    "Men of different marital status seem to have different distributions of labor force status. Or is this just chance variation? (you may assume the table results from a simple random sample.)"
   ]
  },
  {
   "cell_type": "code",
   "execution_count": null,
   "metadata": {},
   "outputs": [],
   "source": [
    "def compute_expected(val1,val2,total):\n",
    "    expected = (val1*val2)/total\n",
    "    return expected"
   ]
  },
  {
   "cell_type": "code",
   "execution_count": 65,
   "metadata": {},
   "outputs": [],
   "source": [
    "o_married_e = 679\n",
    "o_married_u = 63\n",
    "o_married_nlf = 42\n",
    "\n",
    "o_widowed_e = 103\n",
    "o_widowed_u = 10\n",
    "o_widowed_nlf = 18\n",
    "\n",
    "o_nvr_married_e = 114\n",
    "o_nvr_married_u = 20\n",
    "o_nvr_married_nlf = 25\n",
    "\n",
    "all_employed = o_married_e+o_widowed_e+o_nvr_married_e\n",
    "all_unemployed = o_married_u+o_widowed_u+o_nvr_married_u\n",
    "all_nlf = o_married_nlf+o_widowed_nlf+o_nvr_married_nlf\n",
    "\n",
    "all_married = o_married_e+o_married_u+o_married_nlf\n",
    "all_widowed = o_widowed_e+o_widowed_u+o_widowed_nlf\n",
    "all_nvr_married = o_nvr_married_e+o_nvr_married_u+o_nvr_married_nlf\n",
    "\n",
    "total = o_married_e+o_married_u+o_married_nlf+o_widowed_e+o_widowed_u+o_widowed_nlf+o_nvr_married_e+o_nvr_married_u+o_nvr_married_nlf"
   ]
  },
  {
   "cell_type": "code",
   "execution_count": 66,
   "metadata": {},
   "outputs": [
    {
     "data": {
      "text/plain": [
       "1074"
      ]
     },
     "execution_count": 66,
     "metadata": {},
     "output_type": "execute_result"
    }
   ],
   "source": [
    "e_married_e = compute_expected(all_employed,all_married,total)\n",
    "e_married_u = compute_expected(all_unemployed,all_married,total)\n",
    "e_married_nlf = compute_expected(all_nlf,all_married,total)\n",
    "\n",
    "e_widowed_u = compute_expected(all_employed,all_widowed,total)\n",
    "e_nvr_married_e = compute_expected(all_employed,all_nvr_married,total)\n",
    "\n",
    "\n",
    "e_men_nv = compute_expected(all_unemployed,all_widowed,total)\n",
    "e_women_v = compute_expected(all_unemployed,all_nlf,total)\n",
    "\n",
    "\n",
    "e_men_nv = compute_expected(all_nlf,all_widowed,total)\n",
    "e_women_v = compute_expected(all_nlf,all_nlf,total)\n",
    "\n",
    "\n",
    "\n",
    "observed_list = [o_men_v,o_men_nv,o_women_v,o_women_nv]\n",
    "expected_list = [round(e_men_v),round(e_men_nv),round(e_women_v),round(e_women_nv)]"
   ]
  },
  {
   "cell_type": "code",
   "execution_count": null,
   "metadata": {},
   "outputs": [],
   "source": []
  }
 ],
 "metadata": {
  "kernelspec": {
   "display_name": "Python 3",
   "language": "python",
   "name": "python3"
  },
  "language_info": {
   "codemirror_mode": {
    "name": "ipython",
    "version": 3
   },
   "file_extension": ".py",
   "mimetype": "text/x-python",
   "name": "python",
   "nbconvert_exporter": "python",
   "pygments_lexer": "ipython3",
   "version": "3.6.5"
  }
 },
 "nbformat": 4,
 "nbformat_minor": 2
}
