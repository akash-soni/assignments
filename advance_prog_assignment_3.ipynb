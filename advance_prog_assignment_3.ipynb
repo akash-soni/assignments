{
 "cells": [
  {
   "cell_type": "markdown",
   "metadata": {},
   "source": [
    "1. Create a function to perform basic arithmetic operations that includes addition, subtraction, multiplication and division on a string number (e.g. \"12 + 24\" or \"23 - 21\" or \"12 // 12\" or \"12 * 21\").\n",
    "\n",
    "Here, we have 1 followed by a space, operator followed by another space and 2. For the challenge, we are going to have only two numbers between 1 valid operator. The return value should be a number.\n",
    "\n",
    "eval() is not allowed. In case of division, whenever the second number equals \"0\" return -1.\n",
    "\n",
    "For example:\n",
    "\n",
    "\"15 // 0\"  ➞ -1\n",
    "\n",
    "Examples\n",
    "\n",
    "arithmetic_operation(\"12 + 12\") ➞ 24 // 12 + 12 = 24\n",
    "\n",
    "arithmetic_operation(\"12 - 12\") ➞ 24 // 12 - 12 = 0\n",
    "\n",
    "arithmetic_operation(\"12 * 12\") ➞ 144 // 12 * 12 = 144\n",
    "\n",
    "arithmetic_operation(\"12 // 0\") ➞ -1 // 12 / 0 = -1\n"
   ]
  },
  {
   "cell_type": "code",
   "execution_count": 38,
   "metadata": {},
   "outputs": [],
   "source": [
    "from operator import add, sub,mul,floordiv, truediv,mod, xor\n",
    "def arithmetic_operation(notation):\n",
    "     \n",
    "    Input = re.findall('[0-9.]+|[+\\-*//]',notation) \n",
    "\n",
    "    ans = 0\n",
    "    options = {\n",
    "    '+' : add,\n",
    "    '-' : sub,\n",
    "    '*' : mul,\n",
    "    '//': floordiv,\n",
    "    '/' : truediv,  # use operator.div for Python 2\n",
    "    '%' : mod,\n",
    "    '^' : xor,\n",
    "}\n",
    "    option = add \n",
    "    for item in Input:\n",
    "        if item in options:\n",
    "            option = options[item]\n",
    "        else:\n",
    "            number = float(item)\n",
    "            try:\n",
    "                ans = option(ans, number)\n",
    "            except ZeroDivisionError:\n",
    "                ans = -1\n",
    "    return ans"
   ]
  },
  {
   "cell_type": "code",
   "execution_count": 35,
   "metadata": {},
   "outputs": [
    {
     "name": "stdout",
     "output_type": "stream",
     "text": [
      "value of 12 + 12 is : 24.0 \n"
     ]
    }
   ],
   "source": [
    "eval_string = \"12 + 12\"\n",
    "print(\"value of {} is : {} \".format(eval_string,arithmetic_operation(eval_string)))"
   ]
  },
  {
   "cell_type": "code",
   "execution_count": 40,
   "metadata": {},
   "outputs": [
    {
     "name": "stdout",
     "output_type": "stream",
     "text": [
      "value of 12 - 12 is : 0.0 \n"
     ]
    }
   ],
   "source": [
    "eval_string = \"12 - 12\"\n",
    "print(\"value of {} is : {} \".format(eval_string,arithmetic_operation(eval_string)))"
   ]
  },
  {
   "cell_type": "code",
   "execution_count": 41,
   "metadata": {},
   "outputs": [
    {
     "name": "stdout",
     "output_type": "stream",
     "text": [
      "value of 12 * 12 is : 144.0 \n"
     ]
    }
   ],
   "source": [
    "eval_string = \"12 * 12\"\n",
    "print(\"value of {} is : {} \".format(eval_string,arithmetic_operation(eval_string)))"
   ]
  },
  {
   "cell_type": "code",
   "execution_count": 39,
   "metadata": {},
   "outputs": [
    {
     "name": "stdout",
     "output_type": "stream",
     "text": [
      "value of 12 // 0 is : -1 \n"
     ]
    }
   ],
   "source": [
    "eval_string = \"12 // 0\"\n",
    "print(\"value of {} is : {} \".format(eval_string,arithmetic_operation(eval_string)))"
   ]
  },
  {
   "cell_type": "markdown",
   "metadata": {},
   "source": [
    "2. Write a function that takes the coordinates of three points in the form of a 2d array and returns the perimeter of the triangle. The given points are the vertices of a triangle on a two-dimensional plane.\n",
    "\n",
    "Examples\n",
    "\n",
    "perimeter( [ [15, 7], [5, 22], [11, 1] ] ) ➞ 47.08\n",
    "\n",
    "perimeter( [ [0, 0], [0, 1], [1, 0] ] ) ➞ 3.42\n",
    "\n",
    "perimeter( [ [-10, -10], [10, 10 ], [-10, 10] ] ) ➞ 68.28\n"
   ]
  },
  {
   "cell_type": "code",
   "execution_count": 63,
   "metadata": {},
   "outputs": [],
   "source": [
    "import numpy as np\n",
    "def perimeter(coordinates):\n",
    "    points = np.array(coordinates )\n",
    "    lst = []\n",
    "    for i in range(len(points)):\n",
    "        if i!=len(points)-1:\n",
    "            lst.append(np.linalg.norm(points[i] - points[i+1]))\n",
    "        else:\n",
    "            lst.append(np.linalg.norm(points[len(points)-1] - points[0]))\n",
    "        \n",
    "    return np.sum(lst)"
   ]
  },
  {
   "cell_type": "code",
   "execution_count": 64,
   "metadata": {},
   "outputs": [
    {
     "name": "stdout",
     "output_type": "stream",
     "text": [
      "perimeter of coordinates [[15, 7], [5, 22], [11, 1]] --> 47.07918859608948\n"
     ]
    }
   ],
   "source": [
    "coords =  [ [15, 7], [5, 22], [11, 1] ]\n",
    "print(\"perimeter of coordinates {} --> {}\".format(coords,perimeter(coords)))"
   ]
  },
  {
   "cell_type": "code",
   "execution_count": 65,
   "metadata": {},
   "outputs": [
    {
     "name": "stdout",
     "output_type": "stream",
     "text": [
      "perimeter of coordinates [[[0, 0], [0, 1], [1, 0]]] --> 0.0\n"
     ]
    }
   ],
   "source": [
    "coords =  [  [ [0, 0], [0, 1], [1, 0] ]  ]\n",
    "print(\"perimeter of coordinates {} --> {}\".format(coords,perimeter(coords)))"
   ]
  },
  {
   "cell_type": "code",
   "execution_count": 67,
   "metadata": {},
   "outputs": [
    {
     "name": "stdout",
     "output_type": "stream",
     "text": [
      "perimeter of coordinates [[-10, -10], [10, 10], [-10, 10]] --> 68.2842712474619\n"
     ]
    }
   ],
   "source": [
    "coords =  [  [-10, -10], [10, 10 ], [-10, 10] ]  \n",
    "print(\"perimeter of coordinates {} --> {}\".format(coords,perimeter(coords)))"
   ]
  },
  {
   "cell_type": "markdown",
   "metadata": {},
   "source": [
    "3. A city skyline can be represented as a 2-D list with 1s representing buildings. In the example below, the height of the tallest building is 4 (second-most right column).\n",
    "\n",
    "[[0, 0, 0, 0, 0, 0],\n",
    "[0, 0, 0, 0, 1, 0],\n",
    "[0, 0, 1, 0, 1, 0],\n",
    "[0, 1, 1, 1, 1, 0],\n",
    "[1, 1, 1, 1, 1, 1]]\n",
    "\n",
    "Create a function that takes a skyline (2-D list of 0's and 1's) and returns the height of the tallest skyscraper.\n",
    "\n",
    "Examples\n",
    "\n",
    "tallest_skyscraper([\n",
    "  [0, 0, 0, 0],\n",
    "  [0, 1, 0, 0],\n",
    "  [0, 1, 1, 0],\n",
    "  [1, 1, 1, 1]\n",
    "]) ➞ 3\n",
    "\n",
    "tallest_skyscraper([\n",
    "  [0, 1, 0, 0],\n",
    "  [0, 1, 0, 0],\n",
    "  [0, 1, 1, 0],\n",
    "  [1, 1, 1, 1]\n",
    "]) ➞ 4\n",
    "\n",
    "tallest_skyscraper([\n",
    "  [0, 0, 0, 0],\n",
    "  [0, 0, 0, 0],\n",
    "  [1, 1, 1, 0],\n",
    "  [1, 1, 1, 1]\n",
    "]) ➞ 2\n"
   ]
  },
  {
   "cell_type": "code",
   "execution_count": 77,
   "metadata": {},
   "outputs": [],
   "source": [
    "import numpy as np\n",
    "def tallest_scrapper(lst):\n",
    "    num = np.array(lst)\n",
    "    result  = num.sum(axis=0)\n",
    "    return max(result)"
   ]
  },
  {
   "cell_type": "code",
   "execution_count": 79,
   "metadata": {},
   "outputs": [
    {
     "name": "stdout",
     "output_type": "stream",
     "text": [
      "tallest scrapper have height -->  4\n"
     ]
    }
   ],
   "source": [
    "lst = [[0, 0, 0, 0, 0, 0], [0, 0, 0, 0, 1, 0], [0, 0, 1, 0, 1, 0], [0, 1, 1, 1, 1, 0], [1, 1, 1, 1, 1, 1]]\n",
    "print(\"tallest scrapper have height --> \",tallest_scrapper(lst))"
   ]
  },
  {
   "cell_type": "code",
   "execution_count": 80,
   "metadata": {},
   "outputs": [
    {
     "name": "stdout",
     "output_type": "stream",
     "text": [
      "tallest scrapper have height -->  3\n"
     ]
    }
   ],
   "source": [
    "lst = [ [0, 0, 0, 0], [0, 1, 0, 0], [0, 1, 1, 0], [1, 1, 1, 1] ]\n",
    "print(\"tallest scrapper have height --> \",tallest_scrapper(lst))"
   ]
  },
  {
   "cell_type": "code",
   "execution_count": 81,
   "metadata": {},
   "outputs": [
    {
     "name": "stdout",
     "output_type": "stream",
     "text": [
      "tallest scrapper have height -->  4\n"
     ]
    }
   ],
   "source": [
    "lst = [ [0, 1, 0, 0], [0, 1, 0, 0], [0, 1, 1, 0], [1, 1, 1, 1] ]\n",
    "print(\"tallest scrapper have height --> \",tallest_scrapper(lst))"
   ]
  },
  {
   "cell_type": "code",
   "execution_count": 82,
   "metadata": {},
   "outputs": [
    {
     "name": "stdout",
     "output_type": "stream",
     "text": [
      "tallest scrapper have height -->  2\n"
     ]
    }
   ],
   "source": [
    "lst = [ [0, 0, 0, 0], [0, 0, 0, 0], [1, 1, 1, 0], [1, 1, 1, 1] ]\n",
    "print(\"tallest scrapper have height --> \",tallest_scrapper(lst))"
   ]
  },
  {
   "cell_type": "markdown",
   "metadata": {},
   "source": [
    "4. A financial institution provides professional services to banks and claims charges from the customers based on the number of man-days provided. Internally, it has set a scheme to motivate and reward staff to meet and exceed targeted billable utilization and revenues by paying a bonus for each day claimed from customers in excess of a threshold target.\n",
    "\n",
    "This quarterly scheme is calculated with a threshold target of 32 days per quarter, and the incentive payment for each billable day in excess of such threshold target is shown as follows:\n",
    "\n",
    "Days\t                             Bonus<br/>\n",
    "0 to 32 days\t                   Zero<br/>\n",
    "33 to 40 days            SGD 325 per billable day <br/>\n",
    "41 to 48 days\t         SGD 550 per billable day <br/>\n",
    "Greater than 48 days      SGD 600 per billable day <br/>\n",
    "\n",
    "Please note that incentive payment is calculated progressively. As an example, if an employee reached total billable days of 45 in a quarter, his/her incentive payment is computed as follows:\n",
    "\n",
    "32*0 + 8*325 + 5*550 = 5350\n",
    "\n",
    "Write a function to read the billable days of an employee and return the bonus he/she has obtained in that quarter.\n",
    "\n",
    "Examples\n",
    "\n",
    "bonus(15) ➞ 0\n",
    "\n",
    "bonus(37) ➞ 1625\n",
    "\n",
    "bonus(50) ➞ 8200\n"
   ]
  },
  {
   "cell_type": "code",
   "execution_count": 88,
   "metadata": {},
   "outputs": [],
   "source": [
    "\n",
    "def bonus(days):\n",
    "    if(days < 33):\n",
    "        bonus = days * 0\n",
    "    elif(days <= 40):\n",
    "        bonus =  0 + ((days - 32) * 325)\n",
    "    elif(days <= 48):\n",
    "        bonus = 0 + 2600 + ((days - 40) * 550)\n",
    "    else:\n",
    "        bonus = 0 + 2600 + 4400 + ((days - 48 ) * 550)\n",
    "    return bonus\n",
    "\n"
   ]
  },
  {
   "cell_type": "code",
   "execution_count": 89,
   "metadata": {},
   "outputs": [
    {
     "name": "stdout",
     "output_type": "stream",
     "text": [
      " Please enter days : 45\n",
      "\\ Bonus = 5350.00\n"
     ]
    }
   ],
   "source": [
    "days = int(input(\" Please enter days : \"))\n",
    "print(\"Bonus = %.2f\"  %bonus(days))"
   ]
  },
  {
   "cell_type": "code",
   "execution_count": 90,
   "metadata": {},
   "outputs": [
    {
     "name": "stdout",
     "output_type": "stream",
     "text": [
      " Please enter days : 15\n",
      "Bonus = 0.00\n"
     ]
    }
   ],
   "source": [
    "days = int(input(\" Please enter days : \"))\n",
    "print(\"Bonus = %.2f\"  %bonus(days))"
   ]
  },
  {
   "cell_type": "code",
   "execution_count": 91,
   "metadata": {},
   "outputs": [
    {
     "name": "stdout",
     "output_type": "stream",
     "text": [
      " Please enter days : 37\n",
      "Bonus = 1625.00\n"
     ]
    }
   ],
   "source": [
    "days = int(input(\" Please enter days : \"))\n",
    "print(\"Bonus = %.2f\"  %bonus(days))\n"
   ]
  },
  {
   "cell_type": "code",
   "execution_count": 92,
   "metadata": {},
   "outputs": [
    {
     "name": "stdout",
     "output_type": "stream",
     "text": [
      " Please enter days : 50\n",
      "Bonus = 8100.00\n"
     ]
    }
   ],
   "source": [
    "days = int(input(\" Please enter days : \"))\n",
    "print(\"Bonus = %.2f\"  %bonus(days))"
   ]
  },
  {
   "cell_type": "markdown",
   "metadata": {},
   "source": [
    "5. A number is said to be Disarium if the sum of its digits raised to their respective positions is the number itself.\n",
    "\n",
    "Create a function that determines whether a number is a Disarium or not.\n",
    "\n",
    "Examples\n",
    "\n",
    "is_disarium(75) ➞ False\n",
    "#7^1 + 5^2 = 7 + 25 = 32\n",
    "\n",
    "is_disarium(135) ➞ True\n",
    "#1^1 + 3^2 + 5^3 = 1 + 9 + 125 = 135\n",
    "\n",
    "is_disarium(544) ➞ False\n",
    "\n",
    "is_disarium(518) ➞ True\n",
    "\n",
    "is_disarium(466) ➞ False\n",
    "\n",
    "is_disarium(8) ➞ True\n"
   ]
  },
  {
   "cell_type": "code",
   "execution_count": 102,
   "metadata": {},
   "outputs": [],
   "source": [
    "# Changed num variable to string, \n",
    "# and calculated the length (number of digits)\n",
    "def is_disarium(num):\n",
    "    sum = 0\n",
    "    order = len(str(num))\n",
    "    digits = [int(x) for x in str(num)]\n",
    "    for i in range(order):\n",
    "        sum+=(digits[i]**(i+1))\n",
    "    \n",
    "    if sum == num:\n",
    "        return \"true\"\n",
    "    else:\n",
    "        return \"false\""
   ]
  },
  {
   "cell_type": "code",
   "execution_count": 103,
   "metadata": {},
   "outputs": [
    {
     "name": "stdout",
     "output_type": "stream",
     "text": [
      "75 is disarium --> false\n",
      "135 is disarium --> true\n",
      "544 is disarium --> false\n",
      "518 is disarium --> true\n",
      "466 is disarium --> false\n",
      "8 is disarium --> true\n"
     ]
    }
   ],
   "source": [
    "num = [75,135, 544, 518, 466, 8]\n",
    "for i in num:\n",
    "    print(\"{} is disarium --> {}\".format(i, is_disarium(i)))"
   ]
  }
 ],
 "metadata": {
  "kernelspec": {
   "display_name": "Python 3",
   "language": "python",
   "name": "python3"
  },
  "language_info": {
   "codemirror_mode": {
    "name": "ipython",
    "version": 3
   },
   "file_extension": ".py",
   "mimetype": "text/x-python",
   "name": "python",
   "nbconvert_exporter": "python",
   "pygments_lexer": "ipython3",
   "version": "3.6.5"
  }
 },
 "nbformat": 4,
 "nbformat_minor": 2
}
