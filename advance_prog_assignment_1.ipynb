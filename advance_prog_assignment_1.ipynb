{
 "cells": [
  {
   "cell_type": "markdown",
   "metadata": {},
   "source": [
    "1. Write a function that takes a list of lists and returns the value of all of the symbols in it, where each symbol adds or takes something from the total score. Symbol values:\n",
    "\n",
    "/# = 5<br>\n",
    "O = 3<br>\n",
    "X = 1<br>\n",
    "! = -1<br>\n",
    "!! = -3<br>\n",
    "!!! = -5<br>\n",
    "\n",
    "A list of lists containing 2 #s, a O, and a !!! would equal (0 + 5 + 5 + 3 - 5) 8.<br>\n",
    "\n",
    "If the final score is negative, return 0 (e.g. 3 #s, 3 !!s, 2 !!!s and a X would be (0 + 5 + 5 + 5 - 3 - 3 - 3 - 5 - 5 + 1) -3, so return 0.\n",
    "\n",
    "Examples<br>\n",
    "\n",
    "check_score([<br>\n",
    "  [\"#\", \"!\"],<br>\n",
    "  [\"!!\", \"X\"]<br>\n",
    "]) ➞ 2\n",
    "\n",
    "check_score([<br>\n",
    "  [\"!!!\", \"O\", \"!\"],<br>\n",
    "  [\"X\", \"#\", \"!!!\"],<br>\n",
    "  [\"!!\", \"X\", \"O\"]<br>\n",
    "]) ➞ 0\n"
   ]
  },
  {
   "cell_type": "code",
   "execution_count": null,
   "metadata": {},
   "outputs": [],
   "source": [
    "def check_score(lst):\n",
    "    thisdict = {\n",
    "                \"#\": 5,\n",
    "                \"O\" : 3,\n",
    "                \"X\" : 1,\n",
    "                \"!\" : -1,\n",
    "                \"!!\" : -3,\n",
    "                \"!!!\" : -5\n",
    "                }\n",
    "    val_lst = [thisdict[number] for i in lst for number in i]\n",
    "    if sum(val_lst)< 0:\n",
    "        return(0)\n",
    "    else:\n",
    "        return(2)\n",
    "  "
   ]
  },
  {
   "cell_type": "code",
   "execution_count": null,
   "metadata": {},
   "outputs": [],
   "source": [
    "lst = [[\"#\", \"!\"],\n",
    "[\"!!\", \"X\"]]"
   ]
  },
  {
   "cell_type": "code",
   "execution_count": null,
   "metadata": {},
   "outputs": [],
   "source": [
    "print(\"score is : \", check_score(lst) )\n"
   ]
  },
  {
   "cell_type": "code",
   "execution_count": null,
   "metadata": {},
   "outputs": [],
   "source": [
    "lst = [[\"!!!\", \"O\", \"!\"],\n",
    "[\"X\", \"#\", \"!!!\"],\n",
    "[\"!!\", \"X\", \"O\"]]\n",
    "\n",
    "print(\"score is : \", check_score(lst) )\n"
   ]
  },
  {
   "cell_type": "markdown",
   "metadata": {},
   "source": [
    "2. Create a function that takes a variable number of arguments, each argument representing the number of items in a group, and returns the number of permutations (combinations) of items that you could get by taking one item from each group.\n",
    "\n",
    "Examples\n",
    "\n",
    "combinations(2, 3) ➞ 6\n",
    "\n",
    "combinations(3, 7, 4) ➞ 84\n",
    "\n",
    "combinations(2, 3, 4, 5) ➞ 120\n",
    "\n"
   ]
  },
  {
   "cell_type": "code",
   "execution_count": 12,
   "metadata": {},
   "outputs": [
    {
     "name": "stdout",
     "output_type": "stream",
     "text": [
      "arguments: 2\n"
     ]
    }
   ],
   "source": []
  },
  {
   "cell_type": "code",
   "execution_count": 24,
   "metadata": {},
   "outputs": [],
   "source": [
    "from functools import reduce\n",
    "def combinations(arg):\n",
    "    comb_list = []\n",
    "    for i in range(arg):\n",
    "        comb_list.append(int(input(\"combination {} : \".format(i+1))))\n",
    "        perm = reduce(lambda x, y: x*y, comb_list)\n",
    "    return perm"
   ]
  },
  {
   "cell_type": "code",
   "execution_count": 28,
   "metadata": {},
   "outputs": [
    {
     "name": "stdout",
     "output_type": "stream",
     "text": [
      "arguments: 2\n"
     ]
    }
   ],
   "source": [
    "num = int(input(\"arguments: \"))"
   ]
  },
  {
   "cell_type": "code",
   "execution_count": 29,
   "metadata": {},
   "outputs": [
    {
     "name": "stdout",
     "output_type": "stream",
     "text": [
      "combination 1 : 2\n",
      "combination 2 : 3\n",
      "number of permutation(combinations) 6\n"
     ]
    }
   ],
   "source": [
    "print(\"number of permutation(combinations)\",combinations(num))"
   ]
  },
  {
   "cell_type": "code",
   "execution_count": 26,
   "metadata": {},
   "outputs": [
    {
     "name": "stdout",
     "output_type": "stream",
     "text": [
      "arguments: 3\n",
      "combination 1 : 3\n",
      "combination 2 : 7\n",
      "combination 3 : 4\n",
      "number of permutation(combinations) 84\n"
     ]
    }
   ],
   "source": [
    "num = int(input(\"arguments: \"))\n",
    "\n",
    "print(\"number of permutation(combinations)\",combinations(num))"
   ]
  },
  {
   "cell_type": "code",
   "execution_count": 25,
   "metadata": {},
   "outputs": [
    {
     "name": "stdout",
     "output_type": "stream",
     "text": [
      "arguments: 4\n",
      "combination 1 : 2\n",
      "combination 2 : 3\n",
      "combination 3 : 4\n",
      "combination 4 : 5\n",
      "number of permutation(combinations) 120\n"
     ]
    }
   ],
   "source": [
    "num = int(input(\"arguments: \"))\n",
    "\n",
    "print(\"number of permutation(combinations)\",combinations(num))"
   ]
  },
  {
   "cell_type": "markdown",
   "metadata": {},
   "source": [
    "3. Create a function that takes a string as an argument and returns the Morse code equivalent.\n",
    "\n",
    "Examples\n",
    "\n",
    "encode_morse(\"EDABBIT CHALLENGE\") ➞ \". -.. .- -... -... .. -   -.-. .... .- .-.. .-.. . -. --. .\"\n",
    "\n",
    "encode_morse(\"HELP ME !\") ➞ \".... . .-.. .--.   -- .   -.-.--\"\n",
    "\n",
    "This dictionary can be used for coding:\n",
    "\n",
    "char_to_dots = {\n",
    "  'A': '.-', 'B': '-...', 'C': '-.-.', 'D': '-..', 'E': '.', 'F': '..-.',\n",
    "  'G': '--.', 'H': '....', 'I': '..', 'J': '.---', 'K': '-.-', 'L': '.-..',\n",
    "  'M': '--', 'N': '-.', 'O': '---', 'P': '.--.', 'Q': '--.-', 'R': '.-.',\n",
    "  'S': '...', 'T': '-', 'U': '..-', 'V': '...-', 'W': '.--', 'X': '-..-',\n",
    "  'Y': '-.--', 'Z': '--..', ' ': ' ', '0': '-----',\n",
    "  '1': '.----', '2': '..---', '3': '...--', '4': '....-', '5': '.....',\n",
    "  '6': '-....', '7': '--...', '8': '---..', '9': '----.',\n",
    "  '&': '.-...', \"'\": '.----.', '@': '.--.-.', ')': '-.--.-', '(': '-.--.',\n",
    "  ':': '---...', ',': '--..--', '=': '-...-', '!': '-.-.--', '.': '.-.-.-',\n",
    "  '-': '-....-', '+': '.-.-.', '\"': '.-..-.', '?': '..--..', '/': '-..-.'\n",
    "}\n"
   ]
  },
  {
   "cell_type": "code",
   "execution_count": 34,
   "metadata": {},
   "outputs": [],
   "source": [
    "def encode_morse(sentence):\n",
    "    char_to_dots = {\n",
    "      'A': '.-', 'B': '-...', 'C': '-.-.', 'D': '-..', 'E': '.', 'F': '..-.',\n",
    "      'G': '--.', 'H': '....', 'I': '..', 'J': '.---', 'K': '-.-', 'L': '.-..',\n",
    "      'M': '--', 'N': '-.', 'O': '---', 'P': '.--.', 'Q': '--.-', 'R': '.-.',\n",
    "      'S': '...', 'T': '-', 'U': '..-', 'V': '...-', 'W': '.--', 'X': '-..-',\n",
    "      'Y': '-.--', 'Z': '--..', ' ': ' ', '0': '-----',\n",
    "      '1': '.----', '2': '..---', '3': '...--', '4': '....-', '5': '.....',\n",
    "      '6': '-....', '7': '--...', '8': '---..', '9': '----.',\n",
    "      '&': '.-...', \"'\": '.----.', '@': '.--.-.', ')': '-.--.-', '(': '-.--.',\n",
    "      ':': '---...', ',': '--..--', '=': '-...-', '!': '-.-.--', '.': '.-.-.-',\n",
    "      '-': '-....-', '+': '.-.-.', '\"': '.-..-.', '?': '..--..', '/': '-..-.'\n",
    "    }\n",
    "    encode_lst = [char_to_dots[letter] for letter in sentence]\n",
    "    encoded = ' '.join(encode_lst)\n",
    "    return(encoded)"
   ]
  },
  {
   "cell_type": "code",
   "execution_count": 35,
   "metadata": {},
   "outputs": [
    {
     "data": {
      "text/plain": [
       "'. -.. .- -... -... .. -   -.-. .... .- .-.. .-.. . -. --. .'"
      ]
     },
     "execution_count": 35,
     "metadata": {},
     "output_type": "execute_result"
    }
   ],
   "source": [
    "encode_morse(\"EDABBIT CHALLENGE\")"
   ]
  },
  {
   "cell_type": "code",
   "execution_count": 36,
   "metadata": {},
   "outputs": [
    {
     "data": {
      "text/plain": [
       "'.... . .-.. .--.   -- .   -.-.--'"
      ]
     },
     "execution_count": 36,
     "metadata": {},
     "output_type": "execute_result"
    }
   ],
   "source": [
    "encode_morse(\"HELP ME !\")"
   ]
  },
  {
   "cell_type": "markdown",
   "metadata": {},
   "source": [
    "4.  Write a function that takes a number and returns True if it's a prime; False otherwise. The number can be 2^64-1 (2 to the power of 63, not XOR). With the standard technique it would be O(2^64-1), which is much too large for the 10 second time limit.\n",
    "\n",
    "Examples\n",
    "\n",
    "prime(7) ➞ True\n",
    "\n",
    "prime(56963) ➞ True\n",
    "\n",
    "prime(5151512515524) ➞ False\n"
   ]
  },
  {
   "cell_type": "code",
   "execution_count": 48,
   "metadata": {},
   "outputs": [
    {
     "name": "stdout",
     "output_type": "stream",
     "text": [
      "7 is prime\n",
      "56963 is prime\n",
      "5151512515524 is not prime\n",
      "Time taken  0.013872623443603516\n"
     ]
    }
   ],
   "source": [
    "#normal method to compute prime\n",
    "#if  no. is  divisible only by itself or 1 then it is prime\n",
    "#If the integer is less than equal to 1, it returns False.\n",
    "#If the given number is divisible by any of the numbers from 2 to n, the function will return False\n",
    "#Else it will return True\n",
    "\n",
    "import time\n",
    "def is_prime(n):\n",
    "    if n <= 1:\n",
    "        return \"not prime\"\n",
    "    for i in range(2,n):\n",
    "        if n % i == 0:\n",
    "            return \"not prime\"\n",
    "    return \"prime\"\n",
    "  \n",
    "num_list = [7,56963,5151512515524]\n",
    "\n",
    "# Driver function\n",
    "t0 = time.time()\n",
    "c = 0 #for counting\n",
    " \n",
    "for n in num_list:\n",
    "    x = is_prime(n)\n",
    "    print(\"{} is {}\".format(n,x))\n",
    " \n",
    "t1 = time.time()\n",
    "time1 = t1-t0\n",
    "print(\"Time taken \", time1)"
   ]
  },
  {
   "cell_type": "code",
   "execution_count": 49,
   "metadata": {},
   "outputs": [
    {
     "name": "stdout",
     "output_type": "stream",
     "text": [
      "7 is not prime\n",
      "56963 is not prime\n",
      "5151512515524 is not prime\n",
      "Time taken  0.0009963512420654297\n"
     ]
    }
   ],
   "source": [
    "#    If the integer is less than equal to 1, it returns False.\n",
    "#    Now, we reduce the numbers which needs to be checked to the square root of the given number.\n",
    "#    If the given number is divisible by any of the numbers from 2 to the square root of the number, the function will return False\n",
    "#    Else it will return True\n",
    "\n",
    "import time\n",
    "import math\n",
    "def is_prime(n):\n",
    "    if n <= 1:\n",
    "        return \"not prime\"\n",
    "    max_div = math.floor(math.sqrt(n))\n",
    "    for i in range(2, 1 + max_div):\n",
    "        return \"not prime\"\n",
    "    return \"prime\"\n",
    "  \n",
    "num_list = [7,56963,5151512515524]\n",
    "\n",
    "# Driver function\n",
    "t0 = time.time()\n",
    "c = 0 #for counting\n",
    " \n",
    "for n in num_list:\n",
    "    x = is_prime(n)\n",
    "    print(\"{} is {}\".format(n,x))\n",
    " \n",
    "t1 = time.time()\n",
    "time2 = t1-t0\n",
    "print(\"Time taken \", time2)"
   ]
  },
  {
   "cell_type": "code",
   "execution_count": 53,
   "metadata": {},
   "outputs": [
    {
     "name": "stdout",
     "output_type": "stream",
     "text": [
      "7 is prime\n",
      "56963 is not prime\n",
      "5151512515524 is not prime\n",
      "Time taken  0.0\n"
     ]
    }
   ],
   "source": [
    "#    If the integer is less than equal to 1, it returns False.\n",
    "#    If the number is equal to 2, it will return True.\n",
    "#    If the number is greater than 2 and divisible by 2, then it will return False.\n",
    "#    Now, we have checked all the even numbers. Now, look for the odd numbers.\n",
    "#    If the given number is divisible by any of the numbers from 3 to the square root of the number skipping all the even numbers, the function will return False\n",
    "#    Else it will return True\n",
    "\n",
    "import time\n",
    "import math\n",
    "def is_prime(n):\n",
    "    if n <= 1:\n",
    "        return \"not prime\"\n",
    "    if n == 2:\n",
    "        return \"prime\"\n",
    "    if n > 2 and n % 2 == 0:\n",
    "        return \"not prime\"\n",
    " \n",
    "    max_div = math.floor(math.sqrt(n))\n",
    "    for i in range(3, 1 + max_div, 2):\n",
    "        return \"not prime\"\n",
    "    return \"prime\"\n",
    "  \n",
    "num_list = [7,56963,5151512515524]\n",
    "\n",
    "# Driver function\n",
    "t0 = time.time()\n",
    "c = 0 #for counting\n",
    " \n",
    "for n in num_list:\n",
    "    x = is_prime(n)\n",
    "    print(\"{} is {}\".format(n,x))\n",
    " \n",
    "t1 = time.time()\n",
    "time3 = t1-t0\n",
    "print(\"Time taken \", time3)"
   ]
  },
  {
   "cell_type": "markdown",
   "metadata": {},
   "source": [
    "#### from above 3 method we can observe that 3rd method is highly optimized as the time take is very very low, method 2 time is also low while method 1 time complexity is going to be highest if input size increased.\n",
    "\n",
    "reference : https://www.geeksforgeeks.org/analysis-different-methods-find-prime-number-python/"
   ]
  },
  {
   "cell_type": "markdown",
   "metadata": {},
   "source": [
    "5.  Create a function that converts a word to a bitstring and then to a boolean list based on the following criteria:\n",
    "\n",
    "    1. Locate the position of the letter in the English alphabet (from 1 to 26).\n",
    "    2. Odd positions will be represented as 1 and 0 otherwise.\n",
    "    3. Convert the represented positions to boolean values, 1 for True and 0 for False.\n",
    "    4. Store the conversions into an array.\n",
    "\n",
    " Examples\n",
    "\n",
    "to_boolean_list(\"deep\") ➞ [False, True, True, False]<br>\n",
    "##### deep converts to 0110\n",
    "##### d is the 4th alphabet - 0\n",
    "##### e is the 5th alphabet - 1\n",
    "##### e is the 5th alphabet - 1\n",
    "##### p is the 16th alphabet - 0\n",
    "\n",
    "to_boolean_list(\"loves\") ➞ [False, True, False, True, True]\n",
    "\n",
    "to_boolean_list(\"tesh\") ➞ [False, True, True, False]\n"
   ]
  },
  {
   "cell_type": "code",
   "execution_count": 65,
   "metadata": {},
   "outputs": [],
   "source": [
    "def to_boolean_list(word):\n",
    "    to_number = []\n",
    "    #convert alphabet to number\n",
    "    for i in word:\n",
    "        to_number.append(ord(i.lower())-96)\n",
    "    to_bool = []\n",
    "    #convert numbert to boolean\n",
    "    for i in to_number:\n",
    "        if i%2 == 0:\n",
    "            to_bool.append(0)\n",
    "        else:\n",
    "            to_bool.append(1)\n",
    "    binary = ''.join(map(str,to_bool))\n",
    "    return binary"
   ]
  },
  {
   "cell_type": "code",
   "execution_count": 68,
   "metadata": {},
   "outputs": [
    {
     "name": "stdout",
     "output_type": "stream",
     "text": [
      "Loves --> 01011 \n"
     ]
    }
   ],
   "source": [
    "word = 'Loves'\n",
    "print(\"{} --> {} \".format(word,to_boolean_list(word)))"
   ]
  },
  {
   "cell_type": "code",
   "execution_count": 69,
   "metadata": {},
   "outputs": [
    {
     "name": "stdout",
     "output_type": "stream",
     "text": [
      "deep --> 0110 \n"
     ]
    }
   ],
   "source": [
    "word = 'deep'\n",
    "print(\"{} --> {} \".format(word,to_boolean_list(word)))"
   ]
  },
  {
   "cell_type": "code",
   "execution_count": 70,
   "metadata": {},
   "outputs": [
    {
     "name": "stdout",
     "output_type": "stream",
     "text": [
      "tesh --> 0110 \n"
     ]
    }
   ],
   "source": [
    "word = 'tesh'\n",
    "print(\"{} --> {} \".format(word,to_boolean_list(word)))"
   ]
  },
  {
   "cell_type": "code",
   "execution_count": null,
   "metadata": {},
   "outputs": [],
   "source": []
  }
 ],
 "metadata": {
  "kernelspec": {
   "display_name": "Python 3",
   "language": "python",
   "name": "python3"
  },
  "language_info": {
   "codemirror_mode": {
    "name": "ipython",
    "version": 3
   },
   "file_extension": ".py",
   "mimetype": "text/x-python",
   "name": "python",
   "nbconvert_exporter": "python",
   "pygments_lexer": "ipython3",
   "version": "3.6.5"
  }
 },
 "nbformat": 4,
 "nbformat_minor": 2
}
