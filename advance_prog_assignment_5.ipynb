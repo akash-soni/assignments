{
 "cells": [
  {
   "cell_type": "markdown",
   "metadata": {},
   "source": [
    "1. Create a function that takes a number n (integer greater than zero) as an argument, and returns 2 if n is odd and 8 if n is even.\n",
    "\n",
    "You can only use the following arithmetic operators: addition of numbers +, subtraction of numbers -, multiplication of number *, division of number /, and exponentiation **.\n",
    "\n",
    "You are not allowed to use any other methods in this challenge (i.e. no if statements, comparison operators, etc).\n",
    "\n",
    "Examples\n",
    "\n",
    "f(1) ➞ 2\n",
    "\n",
    "f(2) ➞ 8\n",
    "\n",
    "f(3) ➞ 2\n"
   ]
  },
  {
   "cell_type": "code",
   "execution_count": 12,
   "metadata": {},
   "outputs": [],
   "source": [
    "#if either number or divisor is negative\n",
    "def find_evn_odd(n):\n",
    "    # finding remainder of the number\n",
    "    divisor  = 2\n",
    "\n",
    "    if(n<0):\n",
    "        n *=-1\n",
    "    if(divisor<0):\n",
    "        divisor *= -1\n",
    "\n",
    "    number = n\n",
    "    #subtract divisor from n till n>=divisor\n",
    "    while(n>=divisor):\n",
    "        n -= divisor\n",
    "\n",
    "    if n == 0:\n",
    "        print(\"{} is even --> 8\".format(number))\n",
    "    else:\n",
    "        print(\"{} is odd --> 2\".format(number))\n"
   ]
  },
  {
   "cell_type": "code",
   "execution_count": 13,
   "metadata": {},
   "outputs": [
    {
     "name": "stdout",
     "output_type": "stream",
     "text": [
      "1 is odd --> 2\n"
     ]
    }
   ],
   "source": [
    "find_evn_odd(1)"
   ]
  },
  {
   "cell_type": "code",
   "execution_count": 14,
   "metadata": {},
   "outputs": [
    {
     "name": "stdout",
     "output_type": "stream",
     "text": [
      "2 is even --> 8\n"
     ]
    }
   ],
   "source": [
    "find_evn_odd(2)"
   ]
  },
  {
   "cell_type": "code",
   "execution_count": 15,
   "metadata": {},
   "outputs": [
    {
     "name": "stdout",
     "output_type": "stream",
     "text": [
      "3 is odd --> 2\n"
     ]
    }
   ],
   "source": [
    "find_evn_odd(3)"
   ]
  },
  {
   "cell_type": "markdown",
   "metadata": {},
   "source": [
    "2. Create a function that returns the majority vote in a list. A majority vote is an element that occurs > N/2 times in a list (where N is the length of the list).\n",
    "\n",
    "Examples\n",
    "\n",
    "majority_vote([\"A\", \"A\", \"B\"]) ➞ \"A\"\n",
    "\n",
    "majority_vote([\"A\", \"A\", \"A\", \"B\", \"C\", \"A\"]) ➞ \"A\"\n",
    "\n",
    "majority_vote([\"A\", \"B\", \"B\", \"A\", \"C\", \"C\"]) ➞ None\n"
   ]
  },
  {
   "cell_type": "code",
   "execution_count": 33,
   "metadata": {},
   "outputs": [],
   "source": [
    "def majority_vote(input_string):\n",
    "    frequencies = {}\n",
    "    for char in input_string: \n",
    "        if char in frequencies: \n",
    "            frequencies[char] += 1\n",
    "        else: \n",
    "            frequencies[char] = 1\n",
    "\n",
    "    if (len(input_string)/2) > max(frequencies.values()):\n",
    "        print(\"none\")\n",
    "    else:\n",
    "        print(max(frequencies, key=frequencies.get))"
   ]
  },
  {
   "cell_type": "code",
   "execution_count": 34,
   "metadata": {},
   "outputs": [
    {
     "name": "stdout",
     "output_type": "stream",
     "text": [
      "A\n"
     ]
    }
   ],
   "source": [
    "majority_vote([\"A\", \"A\", \"B\"])"
   ]
  },
  {
   "cell_type": "code",
   "execution_count": 35,
   "metadata": {},
   "outputs": [
    {
     "name": "stdout",
     "output_type": "stream",
     "text": [
      "A\n"
     ]
    }
   ],
   "source": [
    "majority_vote([\"A\", \"A\", \"A\", \"B\", \"C\", \"A\"])"
   ]
  },
  {
   "cell_type": "code",
   "execution_count": 36,
   "metadata": {},
   "outputs": [
    {
     "name": "stdout",
     "output_type": "stream",
     "text": [
      "none\n"
     ]
    }
   ],
   "source": [
    "majority_vote([\"A\", \"B\", \"B\", \"A\", \"C\", \"C\"])"
   ]
  },
  {
   "cell_type": "markdown",
   "metadata": {},
   "source": [
    "3. Create a function that takes a string txt and censors any word from a given list lst. The text removed must be replaced by the given character char.\n",
    "\n",
    "Examples\n",
    "\n",
    "censor_string(\"Today is a Wednesday!\", [\"Today\", \"a\"], \"-\") ➞ \"----- is - Wednesday!\"\n",
    "\n",
    "censor_string(\"The cow jumped over the moon.\", [\"cow\", \"over\"], \"*\"), \"The *** jumped **** the moon.\")\n",
    "\n",
    "censor_string(\"Why did the chicken cross the road?\", [\"Did\", \"chicken\", \"road\"], \"*\") ➞ \"Why *** the ******* cross the ****?\"\n"
   ]
  },
  {
   "cell_type": "code",
   "execution_count": 146,
   "metadata": {},
   "outputs": [],
   "source": [
    "\n",
    "def censor_string(sent,censor_list,char):\n",
    "    sent = re.sub(\"[\\W]+\", lambda ele: \" \" + ele[0] + \"\", sent)\n",
    "    new = []\n",
    "    censor_list = [string.lower() for string in censor_list]\n",
    "\n",
    "    for i in sent.lower().split():\n",
    "        if i in censor_list:\n",
    "            new.append(char*len(i))\n",
    "        else:\n",
    "            new.append(i)\n",
    "    print(\" \".join(new))"
   ]
  },
  {
   "cell_type": "code",
   "execution_count": 147,
   "metadata": {},
   "outputs": [
    {
     "name": "stdout",
     "output_type": "stream",
     "text": [
      "----- is - wednesday !\n"
     ]
    }
   ],
   "source": [
    "sent = \"Today is a Wednesday!\"\n",
    "censor_list = [\"Today\", \"a\"]\n",
    "censor_string(sent,censor_list,\"-\")"
   ]
  },
  {
   "cell_type": "code",
   "execution_count": 149,
   "metadata": {},
   "outputs": [
    {
     "name": "stdout",
     "output_type": "stream",
     "text": [
      "the *** jumped **** the moon .\n"
     ]
    }
   ],
   "source": [
    "sent = \"The cow jumped over the moon.\"\n",
    "censor_list = [\"cow\", \"over\"]\n",
    "censor_string(sent,censor_list,\"*\")"
   ]
  },
  {
   "cell_type": "code",
   "execution_count": 148,
   "metadata": {},
   "outputs": [
    {
     "name": "stdout",
     "output_type": "stream",
     "text": [
      "why *** the ******* cross the **** ?\n"
     ]
    }
   ],
   "source": [
    "sent = \"Why did the chicken cross the road?\"\n",
    "censor_list = [\"Did\", \"chicken\", \"road\"]\n",
    "censor_string(sent,censor_list,\"*\")"
   ]
  },
  {
   "cell_type": "code",
   "execution_count": 53,
   "metadata": {},
   "outputs": [
    {
     "data": {
      "text/plain": [
       "'Today is a Wednesday!'"
      ]
     },
     "execution_count": 53,
     "metadata": {},
     "output_type": "execute_result"
    }
   ],
   "source": [
    "sent.replace(\"Toady\", \"o\")"
   ]
  },
  {
   "cell_type": "code",
   "execution_count": 54,
   "metadata": {},
   "outputs": [
    {
     "name": "stdout",
     "output_type": "stream",
     "text": [
      "****\n"
     ]
    }
   ],
   "source": [
    "print(\"*\"*4)"
   ]
  },
  {
   "cell_type": "markdown",
   "metadata": {},
   "source": [
    "4. In mathematics a Polydivisible Number (or magic number) is a number in a given number base with digits abcde... that has the following properties:\n",
    "\n",
    "    -  Its first digit a is not 0.\n",
    "    - The number formed by its first two digits ab is a multiple of 2.\n",
    "    - The number formed by its first three digits abc is a multiple of 3.\n",
    "    - The number formed by its first four digits abcd is a multiple of 4.\n",
    "\n",
    "Create a function which takes an integer n and returns True if the given number is a Polydivisible Number and False otherwise.\n",
    "\n",
    "Examples\n",
    "\n",
    "is_polydivisible(1232) ➞ True\n",
    "###### 1     / 1 = 1\n",
    "###### 12    / 2 = 6\n",
    "###### 123   / 3 = 41\n",
    "###### 1232  / 4 = 308\n",
    "\n",
    "is_polydivisible(123220 ) ➞ False\n",
    "###### 1   / 1 = 1\n",
    "###### 12   / 2 = 6\n",
    "###### 123   / 3 = 41\n",
    "###### 1232   / 4 = 308\n",
    "###### 12322   / 5 = 2464.4         # Not a Whole Number\n",
    "###### 123220   /6 = 220536.333...  # Not a Whole Number\n"
   ]
  },
  {
   "cell_type": "code",
   "execution_count": 114,
   "metadata": {},
   "outputs": [],
   "source": [
    "def is_polydivisible(num):\n",
    "    digits = [int(x) for x in str(num)]\n",
    "    flag = True\n",
    "    for i in range(len(digits)):\n",
    "        res = int(\"\".join(map(str, digits[:i+1])))\n",
    "        if(res%(i+1)==0):\n",
    "            flag = True\n",
    "            print(\"{}/{} = {}\".format(res,(i+1),res/(i+1)))\n",
    "        else:\n",
    "            flag = False\n",
    "            print(\"{}/{} = {}\".format(res,(i+1),res/(i+1)))\n",
    "\n",
    "    if flag==False:\n",
    "        print(\"Not whole number\")\n",
    "    else:\n",
    "        print(\"Whole number\")"
   ]
  },
  {
   "cell_type": "code",
   "execution_count": 115,
   "metadata": {},
   "outputs": [
    {
     "name": "stdout",
     "output_type": "stream",
     "text": [
      "1/1 = 1.0\n",
      "12/2 = 6.0\n",
      "123/3 = 41.0\n",
      "1232/4 = 308.0\n",
      "Whole number\n"
     ]
    }
   ],
   "source": [
    "is_polydivisible(1232)"
   ]
  },
  {
   "cell_type": "code",
   "execution_count": 116,
   "metadata": {},
   "outputs": [
    {
     "name": "stdout",
     "output_type": "stream",
     "text": [
      "1/1 = 1.0\n",
      "12/2 = 6.0\n",
      "123/3 = 41.0\n",
      "1232/4 = 308.0\n",
      "12322/5 = 2464.4\n",
      "123220/6 = 20536.666666666668\n",
      "Not whole number\n"
     ]
    }
   ],
   "source": [
    "is_polydivisible(123220)"
   ]
  },
  {
   "cell_type": "markdown",
   "metadata": {},
   "source": [
    "5. Create a function that takes a list of numbers and returns the sum of all prime numbers in the list.\n",
    "\n",
    "Examples\n",
    "\n",
    "sum_primes([1, 2, 3, 4, 5, 6, 7, 8, 9, 10]) ➞ 17\n",
    "\n",
    "sum_primes([2, 3, 4, 11, 20, 50, 71]) ➞ 87\n",
    "\n",
    "sum_primes([]) ➞ None\n"
   ]
  },
  {
   "cell_type": "code",
   "execution_count": 130,
   "metadata": {},
   "outputs": [],
   "source": [
    "import numpy as np\n",
    "import time\n",
    "import math\n",
    "def is_prime(n):\n",
    "    if n <= 1:\n",
    "        return 0\n",
    "    if n == 2:\n",
    "        return n\n",
    "    if n > 2 and n % 2 == 0:\n",
    "        return 0\n",
    " \n",
    "    max_div = math.floor(math.sqrt(n))\n",
    "    for i in range(3, 1 + max_div, 2):\n",
    "        if n % i == 0:\n",
    "            return 0\n",
    "    return n"
   ]
  },
  {
   "cell_type": "code",
   "execution_count": 131,
   "metadata": {},
   "outputs": [
    {
     "name": "stdout",
     "output_type": "stream",
     "text": [
      "sum of prime numbers in list is :  17\n"
     ]
    }
   ],
   "source": [
    "num_list = [1, 2, 3, 4, 5, 6, 7, 8, 9, 10]\n",
    "\n",
    "prime_lst = []\n",
    "\n",
    "for n in num_list:\n",
    "    prime_lst.append(is_prime(n))\n",
    "print(\"sum of prime numbers in list is : \",np.sum(prime_lst))"
   ]
  },
  {
   "cell_type": "code",
   "execution_count": 133,
   "metadata": {},
   "outputs": [
    {
     "name": "stdout",
     "output_type": "stream",
     "text": [
      "sum of prime numbers in list is :  87\n"
     ]
    }
   ],
   "source": [
    "num_list = [2, 3, 4, 11, 20, 50, 71]\n",
    "\n",
    "prime_lst = []\n",
    "\n",
    "for n in num_list:\n",
    "    prime_lst.append(is_prime(n))\n",
    "\n",
    "print(\"sum of prime numbers in list is : \",np.sum(prime_lst))"
   ]
  },
  {
   "cell_type": "code",
   "execution_count": 134,
   "metadata": {},
   "outputs": [
    {
     "name": "stdout",
     "output_type": "stream",
     "text": [
      "sum of prime numbers in list is :  0.0\n"
     ]
    }
   ],
   "source": [
    "num_list = []\n",
    "\n",
    "prime_lst = []\n",
    "\n",
    "for n in num_list:\n",
    "    prime_lst.append(is_prime(n))\n",
    "\n",
    "print(\"sum of prime numbers in list is : \",np.sum(prime_lst))"
   ]
  },
  {
   "cell_type": "code",
   "execution_count": null,
   "metadata": {},
   "outputs": [],
   "source": []
  }
 ],
 "metadata": {
  "kernelspec": {
   "display_name": "Python 3",
   "language": "python",
   "name": "python3"
  },
  "language_info": {
   "codemirror_mode": {
    "name": "ipython",
    "version": 3
   },
   "file_extension": ".py",
   "mimetype": "text/x-python",
   "name": "python",
   "nbconvert_exporter": "python",
   "pygments_lexer": "ipython3",
   "version": "3.6.5"
  }
 },
 "nbformat": 4,
 "nbformat_minor": 2
}
