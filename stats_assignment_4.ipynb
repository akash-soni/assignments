{
 "cells": [
  {
   "attachments": {},
   "cell_type": "markdown",
   "metadata": {},
   "source": [
    "### Problem Statement 1:\n",
    "Is gender independent of education level? A random sample of 395 people were surveyed and each person was asked to report the highest education level they obtained. The data that resulted from the survey is summarized in the following table:\n",
    "<img src=\"img/ps1.png\" />\n",
    "Question: Are gender and education level dependent at 5% level of significance? In other words, given the data collected above, is there a relationship between the gender of an individual and the level of education that they have obtained?"
   ]
  },
  {
   "cell_type": "code",
   "execution_count": 13,
   "metadata": {},
   "outputs": [],
   "source": [
    "import numpy as np\n",
    "from scipy import stats\n",
    "import scipy.stats as st\n",
    "from scipy.stats.distributions import chi2"
   ]
  },
  {
   "cell_type": "code",
   "execution_count": 3,
   "metadata": {},
   "outputs": [],
   "source": [
    "def compute_expected(val1,val2,total):\n",
    "    expected = (val1*val2)/total\n",
    "    return expected"
   ]
  },
  {
   "cell_type": "code",
   "execution_count": 7,
   "metadata": {},
   "outputs": [],
   "source": [
    "#observed values\n",
    "o_hs_f = 60\n",
    "o_hs_m = 40\n",
    "\n",
    "o_bachelors_f = 54\n",
    "o_bachelors_m = 44\n",
    "\n",
    "o_masters_f = 46\n",
    "o_masters_m = 53\n",
    "\n",
    "o_phd_f = 41\n",
    "o_phd_m = 57\n",
    "\n",
    "all_female = o_hs_f+o_bachelors_f+o_masters_f+o_phd_f\n",
    "all_male = o_hs_m+o_bachelors_m+o_masters_m+o_phd_m\n",
    "\n",
    "all_hs = o_hs_f+o_hs_m\n",
    "all_bachelors = o_bachelors_f + o_bachelors_m\n",
    "all_masters = o_masters_f + o_masters_m\n",
    "all_phd = o_phd_f + o_phd_m\n",
    "\n",
    "\n",
    "total = o_hs_f + o_hs_m + o_bachelors_f + o_bachelors_m + o_masters_f + o_masters_m + o_phd_f + o_phd_m"
   ]
  },
  {
   "cell_type": "code",
   "execution_count": 4,
   "metadata": {},
   "outputs": [],
   "source": [
    "#compute expected values\n",
    "e_hs_f = compute_expected(all_female,all_hs,total)\n",
    "e_hs_m = compute_expected(all_male,all_hs,total)\n",
    "\n",
    "e_bachelors_f = compute_expected(all_female,all_bachelors,total)\n",
    "e_bachelors_m = compute_expected(all_male,all_bachelors,total)\n",
    "\n",
    "e_masters_f = compute_expected(all_female,all_masters,total)\n",
    "e_masters_m = compute_expected(all_male,all_masters,total)\n",
    "\n",
    "e_phd_f = compute_expected(all_female,all_phd,total)\n",
    "e_phd_m = compute_expected(all_male,all_phd,total)"
   ]
  },
  {
   "cell_type": "code",
   "execution_count": 8,
   "metadata": {},
   "outputs": [],
   "source": [
    "observed = [o_hs_f,o_hs_m,o_bachelors_f,o_bachelors_m,o_masters_f,o_masters_m,o_phd_f,o_phd_m ]\n",
    "expected = [round(e_hs_f),round(e_hs_m),round(e_bachelors_f),round(e_bachelors_m),round(e_masters_f),round(e_masters_m),round(e_phd_f),round(e_phd_m)]  \n",
    "    \n"
   ]
  },
  {
   "cell_type": "code",
   "execution_count": 17,
   "metadata": {},
   "outputs": [
    {
     "data": {
      "text/plain": [
       "7.848660464185674"
      ]
     },
     "execution_count": 17,
     "metadata": {},
     "output_type": "execute_result"
    }
   ],
   "source": [
    "X = []\n",
    "for i in range(len(observed)):\n",
    "    r = ((observed[i] - expected[i])**2)/expected[i]\n",
    "    X.append(r)\n",
    "chi_score = np.sum(X)\n",
    "df = (4-1)\n",
    "\n",
    "chi_score"
   ]
  },
  {
   "cell_type": "code",
   "execution_count": 14,
   "metadata": {},
   "outputs": [
    {
     "name": "stdout",
     "output_type": "stream",
     "text": [
      "P(X=7.848660464185674) = 0.049245207504531006\n"
     ]
    }
   ],
   "source": [
    "pval = chi2.sf(chi_score,df)\n",
    "print(\"P(X={}) = {}\".format(chi_score,pval))"
   ]
  },
  {
   "cell_type": "code",
   "execution_count": 16,
   "metadata": {},
   "outputs": [
    {
     "name": "stdout",
     "output_type": "stream",
     "text": [
      "Reject H0\n"
     ]
    }
   ],
   "source": [
    "alpha=0.05\n",
    "if(pval>alpha):\n",
    "    print(\"Fail to reject H0\")\n",
    "else:\n",
    "    print(\"Reject H0\")\n"
   ]
  },
  {
   "cell_type": "markdown",
   "metadata": {},
   "source": [
    "### Problem Statement 2:\n",
    "Using the following data, perform a oneway analysis of variance using α=.05. Write up the results in APA format.\n",
    "\n",
    "[Group1: 51, 45, 33, 45, 67]\n",
    "\n",
    "[Group2: 23, 43, 23, 43, 45]\n",
    "\n",
    "[Group3: 56, 76, 74, 87, 56]"
   ]
  },
  {
   "cell_type": "code",
   "execution_count": 18,
   "metadata": {},
   "outputs": [
    {
     "name": "stdout",
     "output_type": "stream",
     "text": [
      "F Statistic value 9.747205503009463 , p-value 0.0030597541434430556\n",
      "True\n"
     ]
    }
   ],
   "source": [
    "import scipy.stats as sts\n",
    "#The analysis of variance or ANOVA is a statistical inference test that lets you compare multiple groups at the same time.\n",
    "#The one-way ANOVA tests whether the mean of some numeric variable differs across the levels of one categorical variable. \n",
    "#It essentially answers the question: do any of the group means differ from one another? \n",
    "\n",
    "#The scipy library has a function for carrying out one-way ANOVA tests called scipy.stats.f_oneway()\n",
    "\n",
    "Group1 = [51, 45, 33, 45, 67]\n",
    "Group2 = [23, 43, 23, 43, 45]\n",
    "Group3 = [56, 76, 74, 87, 56]\n",
    "\n",
    "# Perform the ANOVA\n",
    "statistic, pvalue = sts.f_oneway(Group1,Group2,Group3)\n",
    "print(\"F Statistic value {} , p-value {}\".format(statistic,pvalue))\n",
    "if pvalue < 0.05:\n",
    "    print('True')\n",
    "else:\n",
    "    print('False')"
   ]
  },
  {
   "cell_type": "code",
   "execution_count": null,
   "metadata": {},
   "outputs": [],
   "source": []
  }
 ],
 "metadata": {
  "kernelspec": {
   "display_name": "Python 3",
   "language": "python",
   "name": "python3"
  },
  "language_info": {
   "codemirror_mode": {
    "name": "ipython",
    "version": 3
   },
   "file_extension": ".py",
   "mimetype": "text/x-python",
   "name": "python",
   "nbconvert_exporter": "python",
   "pygments_lexer": "ipython3",
   "version": "3.6.5"
  }
 },
 "nbformat": 4,
 "nbformat_minor": 2
}
