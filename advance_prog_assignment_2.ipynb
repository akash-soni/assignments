{
 "cells": [
  {
   "cell_type": "markdown",
   "metadata": {},
   "source": [
    "In the image below you can see the first iteration is only a single dot. On the second, there are 6 dots. On the third, there are 16 dots, and on the fourth there are 31 dots.\n",
    "\n",
    "\n",
    "<img src=\"img\\penta.png\" />\n",
    "\n",
    "\n",
    "Return the number of dots that exist in the whole pentagon on the Nth iteration.\n",
    "\n",
    "Examples\n",
    "\n",
    "pentagonal(1) ➞ 1\n",
    "\n",
    "pentagonal(2) ➞ 6\n",
    "\n",
    "pentagonal(3) ➞ 16\n",
    "\n",
    "pentagonal(8) ➞ 141\n"
   ]
  },
  {
   "cell_type": "code",
   "execution_count": 2,
   "metadata": {},
   "outputs": [],
   "source": [
    "def pentagonal(n):\n",
    "     return (5 * n * n - 5 * n + 2) // 2\n",
    " \n"
   ]
  },
  {
   "cell_type": "code",
   "execution_count": 3,
   "metadata": {},
   "outputs": [
    {
     "name": "stdout",
     "output_type": "stream",
     "text": [
      "number of dots :  1\n"
     ]
    }
   ],
   "source": [
    "n = 1\n",
    "print(\"number of dots : \",pentagonal(n))"
   ]
  },
  {
   "cell_type": "code",
   "execution_count": 4,
   "metadata": {},
   "outputs": [
    {
     "name": "stdout",
     "output_type": "stream",
     "text": [
      "number of dots :  6\n"
     ]
    }
   ],
   "source": [
    "n = 2\n",
    "print(\"number of dots : \",pentagonal(n))"
   ]
  },
  {
   "cell_type": "code",
   "execution_count": 5,
   "metadata": {},
   "outputs": [
    {
     "name": "stdout",
     "output_type": "stream",
     "text": [
      "number of dots :  16\n"
     ]
    }
   ],
   "source": [
    "n = 3\n",
    "print(\"number of dots : \",pentagonal(n))"
   ]
  },
  {
   "cell_type": "code",
   "execution_count": 6,
   "metadata": {},
   "outputs": [
    {
     "name": "stdout",
     "output_type": "stream",
     "text": [
      "number of dots :  141\n"
     ]
    }
   ],
   "source": [
    "n = 8\n",
    "print(\"number of dots : \",pentagonal(n))"
   ]
  },
  {
   "cell_type": "markdown",
   "metadata": {},
   "source": [
    "2.  Make a function that encrypts a given input with these steps:\n",
    "\n",
    "Input: \"apple\"\n",
    "\n",
    "Step 1: Reverse the input: \"elppa\"\n",
    "\n",
    "Step 2: Replace all vowels using the following chart:\n",
    "\n",
    "a => 0<br/>\n",
    "e => 1<br/>\n",
    "i => 2<br/>\n",
    "o => 2<br/>\n",
    "u => 3<br/>\n",
    "\n",
    "#### \"1lpp0\"\n",
    "\n",
    "Output: \"1lpp0aca\"\n",
    "\n",
    "Examples\n",
    "\n",
    "encrypt(\"banana\") ➞ \"0n0n0baca\"\n",
    "\n",
    "encrypt(\"karaca\") ➞ \"0c0r0kaca\"\n",
    "\n",
    "encrypt(\"burak\") ➞ \"k0r3baca\"\n",
    "\n",
    "encrypt(\"alpaca\") ➞ \"0c0pl0aca\"\n"
   ]
  },
  {
   "cell_type": "code",
   "execution_count": 16,
   "metadata": {},
   "outputs": [],
   "source": [
    "def reverse_name(string):\n",
    "    rev = []\n",
    "    nm_list = string.split()\n",
    "    for i in range(len(nm_list)):\n",
    "        rev.append(nm_list[i][::-1])\n",
    "    \n",
    "    return(' '.join(rev))\n",
    "\n",
    "def find_vowel(rev_name):\n",
    "    vow = []\n",
    "    vowel = {'a': 0, 'e' : 1, 'i' : 2, 'o': 2 ,'u': 3}\n",
    "    for letter in rev_name:\n",
    "        if letter in list(vowel.keys()):\n",
    "            vow.append(vowel[letter])\n",
    "        else:\n",
    "            vow.append(letter)\n",
    "    return  ''.join(map(str,vow))"
   ]
  },
  {
   "cell_type": "code",
   "execution_count": 21,
   "metadata": {},
   "outputs": [
    {
     "name": "stdout",
     "output_type": "stream",
     "text": [
      "reverses of string is : elppa\n",
      "vowel representaion of word :  1lpp0\n",
      "vowel word after adding 'aca' :  1lpp0aca\n"
     ]
    }
   ],
   "source": [
    "rev_name = reverse_name(\"apple\")\n",
    "print(\"reverses of string is :\",rev_name)\n",
    "\n",
    "print(\"vowel representaion of word : \",find_vowel(rev_name))\n",
    "print(\"vowel word after adding 'aca' : \",find_vowel(rev_name)+\"aca\")"
   ]
  },
  {
   "cell_type": "code",
   "execution_count": 22,
   "metadata": {},
   "outputs": [
    {
     "name": "stdout",
     "output_type": "stream",
     "text": [
      "reverses of string is : ananab\n",
      "vowel representaion of word :  0n0n0b\n",
      "vowel word after adding 'aca' :  0n0n0baca\n"
     ]
    }
   ],
   "source": [
    "rev_name = reverse_name(\"banana\")\n",
    "print(\"reverses of string is :\",rev_name)\n",
    "\n",
    "print(\"vowel representaion of word : \",find_vowel(rev_name))\n",
    "print(\"vowel word after adding 'aca' : \",find_vowel(rev_name)+\"aca\")"
   ]
  },
  {
   "cell_type": "code",
   "execution_count": 23,
   "metadata": {},
   "outputs": [
    {
     "name": "stdout",
     "output_type": "stream",
     "text": [
      "reverses of string is : acarak\n",
      "vowel representaion of word :  0c0r0k\n",
      "vowel word after adding 'aca' :  0c0r0kaca\n"
     ]
    }
   ],
   "source": [
    "rev_name = reverse_name(\"karaca\")\n",
    "print(\"reverses of string is :\",rev_name)\n",
    "\n",
    "print(\"vowel representaion of word : \",find_vowel(rev_name))\n",
    "print(\"vowel word after adding 'aca' : \",find_vowel(rev_name)+\"aca\")"
   ]
  },
  {
   "cell_type": "code",
   "execution_count": 24,
   "metadata": {},
   "outputs": [
    {
     "name": "stdout",
     "output_type": "stream",
     "text": [
      "reverses of string is : karub\n",
      "vowel representaion of word :  k0r3b\n",
      "vowel word after adding 'aca' :  k0r3baca\n"
     ]
    }
   ],
   "source": [
    "rev_name = reverse_name(\"burak\")\n",
    "print(\"reverses of string is :\",rev_name)\n",
    "\n",
    "print(\"vowel representaion of word : \",find_vowel(rev_name))\n",
    "print(\"vowel word after adding 'aca' : \",find_vowel(rev_name)+\"aca\")"
   ]
  },
  {
   "cell_type": "code",
   "execution_count": 25,
   "metadata": {},
   "outputs": [
    {
     "name": "stdout",
     "output_type": "stream",
     "text": [
      "reverses of string is : acapla\n",
      "vowel representaion of word :  0c0pl0\n",
      "vowel word after adding 'aca' :  0c0pl0aca\n"
     ]
    }
   ],
   "source": [
    "rev_name = reverse_name(\"alpaca\")\n",
    "print(\"reverses of string is :\",rev_name)\n",
    "\n",
    "print(\"vowel representaion of word : \",find_vowel(rev_name))\n",
    "print(\"vowel word after adding 'aca' : \",find_vowel(rev_name)+\"aca\")"
   ]
  },
  {
   "cell_type": "markdown",
   "metadata": {},
   "source": [
    "3. Given the month and year as numbers, return whether that month contains a Friday 13th.(i.e You can check Python's datetime module)\n",
    "\n",
    "Examples\n",
    "\n",
    "has_friday_13(3, 2020) ➞ True\n",
    "\n",
    "has_friday_13(10, 2017) ➞ True\n",
    "\n",
    "has_friday_13(1, 1985) ➞ False\n"
   ]
  },
  {
   "cell_type": "code",
   "execution_count": 38,
   "metadata": {},
   "outputs": [],
   "source": [
    "import datetime\n",
    "from datetime import date\n",
    "def has_friday_13(date,month, year):\n",
    "    day_name = datetime.date(year, month, date)\n",
    "    if day_name.strftime(\"%A\") == \"Friday\":\n",
    "        print(\"{}/{}/{} is friday --> {}\".format(date,month,year,True))\n",
    "    else:\n",
    "        print(\"({}/{}/{} is friday --> {})\".format(date,month,year,False))"
   ]
  },
  {
   "cell_type": "code",
   "execution_count": 39,
   "metadata": {},
   "outputs": [
    {
     "name": "stdout",
     "output_type": "stream",
     "text": [
      "13/3/2020 is friday --> True\n"
     ]
    }
   ],
   "source": [
    "has_friday_13(13, 3, 2020)"
   ]
  },
  {
   "cell_type": "markdown",
   "metadata": {},
   "source": [
    "4. Write a regular expression that will help us count how many bad cookies are produced every day. You must use RegEx negative lookbehind.\n",
    "\n",
    "Example\n",
    "\n",
    "lst = [\"bad cookie\", \"good cookie\", \"bad cookie\", \"good cookie\", \"good cookie\"]<br>\n",
    "\n",
    "pattern = \"yourregularexpressionhere\"\n",
    "\n",
    "len(re.findall(pattern, \", \".join(lst))) ➞ 2\n"
   ]
  },
  {
   "cell_type": "code",
   "execution_count": 87,
   "metadata": {},
   "outputs": [
    {
     "name": "stdout",
     "output_type": "stream",
     "text": [
      "['bad']\n",
      "[]\n",
      "['bad']\n",
      "[]\n",
      "[]\n"
     ]
    }
   ],
   "source": [
    "import re\n",
    "lst = [\"bad cookie\", \"good cookie\", \"bad cookie\", \"good cookie\", \"good cookie\"]\n",
    "for elements in lst:\n",
    "    pattern = r\"bad(?![a-z])\"\n",
    "    print(re.findall(pattern,elements))"
   ]
  },
  {
   "cell_type": "code",
   "execution_count": 89,
   "metadata": {},
   "outputs": [
    {
     "data": {
      "text/plain": [
       "2"
      ]
     },
     "execution_count": 89,
     "metadata": {},
     "output_type": "execute_result"
    }
   ],
   "source": [
    "lst = [\"bad cookie\", \"good cookie\", \"bad cookie\", \"good cookie\", \"good cookie\"]\n",
    "len(re.findall(pattern, \", \".join(lst)))"
   ]
  },
  {
   "cell_type": "markdown",
   "metadata": {},
   "source": [
    "5. Given a list of words in the singular form, return a set of those words in the plural form if they appear more than once in the list.\n",
    "\n",
    "Examples\n",
    "\n",
    "pluralize([\"cow\", \"pig\", \"cow\", \"cow\"]) ➞ { \"cows\", \"pig\" }\n",
    "\n",
    "pluralize([\"table\", \"table\", \"table\"]) ➞ { \"tables\" }\n",
    "\n",
    "pluralize([\"chair\", \"pencil\", \"arm\"]) ➞ { \"chair\", \"pencil\", \"arm\" }\n",
    "\n"
   ]
  },
  {
   "cell_type": "code",
   "execution_count": 68,
   "metadata": {},
   "outputs": [],
   "source": []
  },
  {
   "cell_type": "code",
   "execution_count": 69,
   "metadata": {},
   "outputs": [],
   "source": [
    "import collections\n",
    "def puralize(lst):\n",
    "    # using Counter to find frequency of elements\n",
    "    frequency = collections.Counter(lst)\n",
    "\n",
    "    pural_lst = []\n",
    "    for key in frequency.items():\n",
    "        if key[value]>1:\n",
    "            pural_lst.append(key[0]+'s')\n",
    "        else:\n",
    "            pural_lst.append(key[0])\n",
    "    return pural_lst"
   ]
  },
  {
   "cell_type": "code",
   "execution_count": 70,
   "metadata": {},
   "outputs": [
    {
     "data": {
      "text/plain": [
       "['cows', 'pig']"
      ]
     },
     "execution_count": 70,
     "metadata": {},
     "output_type": "execute_result"
    }
   ],
   "source": [
    "lst = [\"cow\", \"pig\", \"cow\", \"cow\"]\n",
    "puralize(lst)"
   ]
  },
  {
   "cell_type": "code",
   "execution_count": 71,
   "metadata": {},
   "outputs": [
    {
     "data": {
      "text/plain": [
       "['tables']"
      ]
     },
     "execution_count": 71,
     "metadata": {},
     "output_type": "execute_result"
    }
   ],
   "source": [
    "lst = [\"table\", \"table\", \"table\"]\n",
    "puralize(lst)"
   ]
  },
  {
   "cell_type": "code",
   "execution_count": 72,
   "metadata": {},
   "outputs": [
    {
     "data": {
      "text/plain": [
       "['chair', 'pencil', 'arm']"
      ]
     },
     "execution_count": 72,
     "metadata": {},
     "output_type": "execute_result"
    }
   ],
   "source": [
    "lst = [\"chair\", \"pencil\", \"arm\"]\n",
    "puralize(lst)"
   ]
  },
  {
   "cell_type": "code",
   "execution_count": null,
   "metadata": {},
   "outputs": [],
   "source": []
  }
 ],
 "metadata": {
  "kernelspec": {
   "display_name": "Python 3",
   "language": "python",
   "name": "python3"
  },
  "language_info": {
   "codemirror_mode": {
    "name": "ipython",
    "version": 3
   },
   "file_extension": ".py",
   "mimetype": "text/x-python",
   "name": "python",
   "nbconvert_exporter": "python",
   "pygments_lexer": "ipython3",
   "version": "3.6.5"
  }
 },
 "nbformat": 4,
 "nbformat_minor": 2
}
