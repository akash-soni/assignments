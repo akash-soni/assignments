{
 "cells": [
  {
   "cell_type": "markdown",
   "metadata": {},
   "source": [
    "### Calculate the mean, median, mode and standard deviation for the problem statements 1& 2."
   ]
  },
  {
   "cell_type": "markdown",
   "metadata": {},
   "source": [
    "### Problem Statement 1:\n",
    "The marks awarded for an assignment set for a Year 8 class of 20 students were as follows:\n",
    "\n",
    "6 7 5 7 7 8 7 6 9 7 4 10 6 8 8 9 5 6 4 8"
   ]
  },
  {
   "cell_type": "code",
   "execution_count": 1,
   "metadata": {},
   "outputs": [],
   "source": [
    "import numpy as np\n",
    "from scipy import stats\n",
    "import seaborn as sns\n",
    "import matplotlib.pyplot as plt"
   ]
  },
  {
   "cell_type": "code",
   "execution_count": null,
   "metadata": {},
   "outputs": [],
   "source": []
  },
  {
   "cell_type": "code",
   "execution_count": 11,
   "metadata": {},
   "outputs": [
    {
     "name": "stdout",
     "output_type": "stream",
     "text": [
      "mean of given numbers is :  6.85\n",
      "median of given numbers is :  7.0\n",
      "mode of given numbers is :  7\n",
      "standard deviation of given number is :  1.5898113095584647\n"
     ]
    }
   ],
   "source": [
    "data = [6,7,5,7,7,8,7,6,9,7,4,10,6,8,8,9,5,6,4,8]\n",
    "print(\"mean of given numbers is : \",np.mean(data))\n",
    "print(\"median of given numbers is : \",np.median(data))\n",
    "print(\"mode of given numbers is : \",stats.mode(data)[0][0])\n",
    "print(\"standard deviation of given number is : \", np.std(data))"
   ]
  },
  {
   "cell_type": "markdown",
   "metadata": {},
   "source": [
    "### Problem Statement 2:\n",
    "\n",
    "The number of calls from motorists per day for roadside service was recorded for a particular month:\n",
    "\n",
    "28, 122, 217, 130, 120, 86, 80, 90, 140, 120, 70, 40, 145, 113, 90, 68, 174, 194, 170, 100, 75, 104, 97, 75, 123, 100, 75, 104, 97, 75, 123, 100, 89, 120, 109"
   ]
  },
  {
   "cell_type": "code",
   "execution_count": 12,
   "metadata": {},
   "outputs": [
    {
     "name": "stdout",
     "output_type": "stream",
     "text": [
      "mean of given numbers is :  107.51428571428572\n",
      "median of given numbers is :  100.0\n",
      "mode of given numbers is :  75\n",
      "standard deviation of given number is :  38.77287080168403\n"
     ]
    }
   ],
   "source": [
    "data = [28, 122, 217, 130, 120, 86, 80, 90, 140, 120, 70, 40, 145, 113, 90, 68, 174, 194, 170, 100, 75, 104, 97, 75, 123, 100, 75, 104, 97, 75, 123, 100, 89, 120, 109]\n",
    "print(\"mean of given numbers is : \",np.mean(data))\n",
    "print(\"median of given numbers is : \",np.median(data))\n",
    "print(\"mode of given numbers is : \",stats.mode(data)[0][0])\n",
    "print(\"standard deviation of given number is : \", np.std(data))"
   ]
  },
  {
   "cell_type": "markdown",
   "metadata": {},
   "source": [
    "### Problem Statement 3:\n",
    "The number of times I go to the gym in weekdays, are given below along with its associated probability:\n",
    "\n",
    "x = 0, 1, 2, 3, 4, 5\n",
    "\n",
    "f(x) = 0.09, 0.15, 0.40, 0.25, 0.10, 0.01\n",
    "\n",
    "Calculate the mean no. of workouts in a week. Also evaluate the variance involved in it."
   ]
  },
  {
   "cell_type": "markdown",
   "metadata": {},
   "source": [
    "<img src=\"img\\expected_value.png\">"
   ]
  },
  {
   "cell_type": "code",
   "execution_count": 22,
   "metadata": {},
   "outputs": [
    {
     "name": "stdout",
     "output_type": "stream",
     "text": [
      "Expected number of mean workout in gym during week :  2.15\n",
      "Expected varience of workout in gym during week :  1.2275\n"
     ]
    }
   ],
   "source": [
    "# here we need to find expected value or mean of binomial variable\n",
    "x = [0, 1, 2, 3, 4, 5]\n",
    "fx = [0.09, 0.15, 0.40, 0.25, 0.10, 0.01]\n",
    "\n",
    "expected_mean = sum(np.multiply(x,fx))\n",
    "sqr = (x-expected_mean)**2\n",
    "expected_varience = sum(np.multiply(sqr,fx))\n",
    "\n",
    "print(\"Expected number of mean workout in gym during week : \", expected_mean)\n",
    "print(\"Expected varience of workout in gym during week : \", expected_varience)"
   ]
  },
  {
   "cell_type": "markdown",
   "metadata": {},
   "source": [
    "### Problem Statement 4:\n",
    "Let the continuous random variable D denote the diameter of the hole drilled in an aluminum sheet. The target diameter to be achieved is 12.5mm. Random disturbances in the process often result in inaccuracy.\n",
    "Historical data shows that the distribution of D can be modelled by the PDF (𝑑) = 20𝑒−20(𝑑−12.5), 𝑑 ≥ 12.5. If a part with diameter > 12.6 mm needs to be scrapped, what is the proportion of those parts? What is the CDF when the diameter is of 11mm? What is your conclusion regarding the proportion of scraps?"
   ]
  },
  {
   "cell_type": "code",
   "execution_count": 2,
   "metadata": {},
   "outputs": [],
   "source": [
    "val = [12.5]\n",
    "x = 0.1\n",
    "for i in range(20):\n",
    "    val.append(12.5+x)\n",
    "    x+=0.1\n"
   ]
  },
  {
   "cell_type": "code",
   "execution_count": 3,
   "metadata": {},
   "outputs": [],
   "source": [
    "import math"
   ]
  },
  {
   "cell_type": "code",
   "execution_count": 4,
   "metadata": {},
   "outputs": [],
   "source": [
    "def compute_pdf(val):\n",
    "    pdf = []\n",
    "    for d in val:\n",
    "        pdf.append(20*(math.exp((-20*(d-12.5)))))\n",
    "        \n",
    "    fig = plt.figure()\n",
    "    ax1 = fig.add_subplot(111)\n",
    "    ax1.plot(val, pdf)\n",
    "    ax1.set_xlabel('$mm$')\n",
    "    ax1.set_ylabel('$20e(-20(d-12.5))$')\n",
    "    return pdf"
   ]
  },
  {
   "cell_type": "code",
   "execution_count": 5,
   "metadata": {},
   "outputs": [
    {
     "data": {
      "image/png": "[encoded data removed]",
      "text/plain": [
       "<Figure size 432x288 with 1 Axes>"
      ]
     },
     "metadata": {},
     "output_type": "display_data"
    }
   ],
   "source": [
    "pdf = compute_pdf(val)"
   ]
  },
  {
   "cell_type": "code",
   "execution_count": null,
   "metadata": {},
   "outputs": [],
   "source": []
  },
  {
   "cell_type": "code",
   "execution_count": 6,
   "metadata": {},
   "outputs": [],
   "source": [
    "import scipy.integrate as integrate"
   ]
  },
  {
   "cell_type": "code",
   "execution_count": 10,
   "metadata": {},
   "outputs": [
    {
     "name": "stdout",
     "output_type": "stream",
     "text": [
      "Proportion of Parts need to scrapped when d >12.6mm is :0.13533528323661398\n",
      "CDF when d= 11mm is:nan\n",
      "Proportion of CDF when d>12.5mm is : 1.0000000000000024\n"
     ]
    },
    {
     "name": "stderr",
     "output_type": "stream",
     "text": [
      "C:\\Users\\Admin\\Anaconda3\\lib\\site-packages\\scipy\\integrate\\quadpack.py:385: IntegrationWarning: The maximum number of subdivisions (50) has been achieved.\n",
      "  If increasing the limit yields no improvement it is advised to analyze \n",
      "  the integrand in order to determine the difficulties.  If the position of a \n",
      "  local difficulty can be determined (singularity, discontinuity) one will \n",
      "  probably gain from splitting up the interval and calling the integrator \n",
      "  on the subranges.  Perhaps a special-purpose integrator should be used.\n",
      "  warnings.warn(msg, IntegrationWarning)\n"
     ]
    }
   ],
   "source": [
    "PDF=lambda d:20*(np.exp((-20*(d-12.5))))\n",
    "x = 12.6\n",
    "P_x=integrate.quad(PDF,12.6,np.inf)\n",
    "y = 11\n",
    "CDF=integrate.quad(PDF,-np.inf,y)\n",
    "print(f\"Proportion of Parts need to scrapped when d >12.6mm is :{P_x[0]}\")\n",
    "print(f\"CDF when d= 11mm is:{CDF[0]}\")\n",
    "print(f\"Proportion of CDF when d>12.5mm is : {integrate.quad(PDF,12.5,np.inf)[0]}\")\n"
   ]
  },
  {
   "cell_type": "markdown",
   "metadata": {},
   "source": [
    "### Problem Statement 5:\n",
    "A company manufactures LED bulbs with a faulty rate of 30%. If I randomly select 6 chosen LEDs, what is the probability of having 2 faulty LEDs in my sample?\n",
    "\n",
    "Calculate the average value of this process. Also evaluate the standard deviation associated with it."
   ]
  },
  {
   "attachments": {},
   "cell_type": "markdown",
   "metadata": {},
   "source": [
    "<img src=\"img\\binom.png\">"
   ]
  },
  {
   "cell_type": "code",
   "execution_count": 106,
   "metadata": {},
   "outputs": [],
   "source": [
    "def fact(x):\n",
    "    fact = 1\n",
    "    for i in range(1,x+1):\n",
    "        fact = fact * i\n",
    "    return fact"
   ]
  },
  {
   "cell_type": "code",
   "execution_count": 107,
   "metadata": {},
   "outputs": [],
   "source": [
    "faulty = 0.3\n",
    "not_faulty = 1-faulty\n",
    "prob = []\n",
    "for r in range(6):\n",
    "    combinations = fact(6)/ (fact(r) * fact(6-r)) \n",
    "    probability_rv_x = combinations * ((faulty**r) * (not_faulty**(6-r)))\n",
    "    prob.append(probability_rv_x)\n"
   ]
  },
  {
   "cell_type": "code",
   "execution_count": 108,
   "metadata": {},
   "outputs": [],
   "source": [
    "def plot_graph(N,prob,title):\n",
    "    X = np.arange(N) # the x locations for the groups\n",
    "    fig = plt.figure()\n",
    "    ax = fig.add_axes([0,0,1,1])\n",
    "    ax.bar(X, prob)\n",
    "    ax.set_ylabel('probability')\n",
    "    ax.set_xlabel('random variable X')\n",
    "    ax.set_title(title)\n",
    "\n",
    "    plt.show()\n",
    "    "
   ]
  },
  {
   "cell_type": "code",
   "execution_count": 109,
   "metadata": {},
   "outputs": [
    {
     "data": {
      "image/png": "[encoded data removed]",
      "text/plain": [
       "<Figure size 432x288 with 1 Axes>"
      ]
     },
     "metadata": {},
     "output_type": "display_data"
    }
   ],
   "source": [
    "plot_graph(6,prob,'proability plot of choosing faulty bulb')"
   ]
  },
  {
   "cell_type": "code",
   "execution_count": 95,
   "metadata": {},
   "outputs": [
    {
     "name": "stdout",
     "output_type": "stream",
     "text": [
      "Expected mean of the proccess :  1.7956259999999995\n",
      "Expected varience of the process :  1.2471327733024622\n"
     ]
    }
   ],
   "source": [
    "expected_mean = sum(np.multiply(X,prob))\n",
    "sqr = (X-expected_mean)**2\n",
    "expected_varience = sum(np.multiply(sqr,prob))\n",
    "\n",
    "print(\"Expected mean of the proccess : \", expected_mean)\n",
    "print(\"Expected varience of the process : \", expected_varience)"
   ]
  },
  {
   "cell_type": "markdown",
   "metadata": {},
   "source": [
    "### Problem Statement 6:\n",
    "Gaurav and Barakha are both preparing for entrance exams. Gaurav attempts to solve 8 questions per day with a correction rate of 75%, while Barakha averages around 12 questions per day with a correction rate of 45%. What is the probability that each of them will solve 5 questions correctly? \n",
    "\n",
    "What happens in cases of 4 and 6 correct solutions? What do you infer from it? What are the two main governing factors affecting their ability to solve questions correctly? Give a pictorial representation of the same to validate your answer."
   ]
  },
  {
   "cell_type": "code",
   "execution_count": 114,
   "metadata": {},
   "outputs": [],
   "source": [
    "from scipy.stats import binom\n",
    "import numpy as np\n",
    "\n",
    "gaurav_correct = 0.75\n",
    "gaurav_incorrect = 1-gaurav_correct\n",
    "gaurav_prob = []\n",
    "for r in range(8):\n",
    "    combinations = fact(8)/ (fact(r) * fact(8-r)) \n",
    "    probability_rv_x = combinations * ((gaurav_correct**r) * (gaurav_incorrect**(8-r)))\n",
    "    gaurav_prob.append(probability_rv_x)"
   ]
  },
  {
   "cell_type": "code",
   "execution_count": 115,
   "metadata": {},
   "outputs": [],
   "source": [
    "barkha_correct = 0.45\n",
    "barkha_incorrect = 1-barkha_correct\n",
    "barkha_prob = []\n",
    "for r in range(12):\n",
    "    combinations = fact(12)/ (fact(r) * fact(12-r)) \n",
    "    probability_rv_x = combinations * ((barkha_correct**r) * (barkha_incorrect**(12-r)))\n",
    "    barkha_prob.append(probability_rv_x)"
   ]
  },
  {
   "cell_type": "code",
   "execution_count": 116,
   "metadata": {},
   "outputs": [
    {
     "data": {
      "image/png": "[encoded data removed]",
      "text/plain": [
       "<Figure size 432x288 with 1 Axes>"
      ]
     },
     "metadata": {},
     "output_type": "display_data"
    },
    {
     "data": {
      "image/png": "[encoded data removed]",
      "text/plain": [
       "<Figure size 432x288 with 1 Axes>"
      ]
     },
     "metadata": {},
     "output_type": "display_data"
    }
   ],
   "source": [
    "plot_graph(8,gaurav_prob,'Gaurav probability of correct attempts from 8 questions')\n",
    "plot_graph(12,barkha_prob,'Barkha probability of correct attempts from 12 questions')"
   ]
  },
  {
   "cell_type": "code",
   "execution_count": 117,
   "metadata": {},
   "outputs": [
    {
     "name": "stdout",
     "output_type": "stream",
     "text": [
      "probability Gaurav will solve 5 questions out of 8 correctly is :  0.2076416015625\n",
      "probability Barkha will solve 5 questions out of 12 correctly is :  0.22249823843265837\n"
     ]
    }
   ],
   "source": [
    "print(\"probability Gaurav will solve 5 questions out of 8 correctly is : \", gaurav_prob[5])\n",
    "print(\"probability Barkha will solve 5 questions out of 12 correctly is : \", barkha_prob[5])"
   ]
  },
  {
   "cell_type": "code",
   "execution_count": 118,
   "metadata": {},
   "outputs": [
    {
     "name": "stdout",
     "output_type": "stream",
     "text": [
      "probability Gaurav will solve 5 questions out of 8 correctly is :  0.20764160156250022\n",
      "probability Barkha will solve 5 questions out of 12 correctly is :  0.22249823843265792\n"
     ]
    }
   ],
   "source": [
    "#Alternatively we can use binom.pmf() function\n",
    "print(\"probability Gaurav will solve 5 questions out of 8 correctly is : \", binom.pmf(5,8,0.75))\n",
    "print(\"probability Barkha will solve 5 questions out of 12 correctly is : \", binom.pmf(5,12,0.45))\n"
   ]
  },
  {
   "cell_type": "code",
   "execution_count": 120,
   "metadata": {},
   "outputs": [
    {
     "name": "stdout",
     "output_type": "stream",
     "text": [
      "probability of Gaurav to solve 4 of 8 is 0.086517333984375, probability of Barkha to solve 4 of 12 is 0.16996393213605848 : \n",
      "probability of Gaurav to solve 6 of 8 is 0.31146240234375, probability of Barkha to solve 6 of 12 is 0.21238468214026476 : \n"
     ]
    }
   ],
   "source": [
    "print(\"probability of Gaurav to solve 4 of 8 is {}, probability of Barkha to solve 4 of 12 is {} : \".format(gaurav_prob[4],barkha_prob[4]))\n",
    "print(\"probability of Gaurav to solve 6 of 8 is {}, probability of Barkha to solve 6 of 12 is {} : \".format(gaurav_prob[6],barkha_prob[6]))\n",
    "                                                                                                        "
   ]
  },
  {
   "cell_type": "markdown",
   "metadata": {},
   "source": [
    "from here we can observe that gaurav probability of solving questions is much better than barkha"
   ]
  },
  {
   "cell_type": "markdown",
   "metadata": {},
   "source": [
    "### Problem Statement 7:\n",
    "Customers arrive at a rate of 72 per hour to my shop. What is the probability of 𝑘 customers arriving in 4 minutes? \n",
    "a) 5 customers,\n",
    "b) not more than 3 customers, \n",
    "c) more than 3 customers. \n",
    "Give a pictorial representation of the same to validate your answer."
   ]
  },
  {
   "cell_type": "code",
   "execution_count": 127,
   "metadata": {},
   "outputs": [],
   "source": [
    "cust_per_minute = (72/60)\n",
    "lbd = 4 *cust_per_minute # expected number of customers per 4 minutes"
   ]
  },
  {
   "cell_type": "code",
   "execution_count": 132,
   "metadata": {},
   "outputs": [],
   "source": [
    "def poisson(k, lbd):\n",
    "    prob = ((lbd**k)/fact(k))*np.exp(-lbd)\n",
    "    return prob"
   ]
  },
  {
   "cell_type": "code",
   "execution_count": 133,
   "metadata": {},
   "outputs": [
    {
     "name": "stdout",
     "output_type": "stream",
     "text": [
      " probability of 5 customer arriving in 4 minutes P(X=5) :  0.1747476836438828\n",
      " probability of not more than 3 customer arriving in 4 minutes P(X=3) :  0.15169069760753717\n",
      " probability of more than 3 customer arriving in 4 minutes P(X>=3) :  0.8483093023924628\n"
     ]
    }
   ],
   "source": [
    "print(\" probability of 5 customer arriving in 4 minutes P(X=5) : \",poisson(5, lbd))\n",
    "print(\" probability of not more than 3 customer arriving in 4 minutes P(X=3) : \",poisson(3, lbd))\n",
    "print(\" probability of more than 3 customer arriving in 4 minutes P(X>=3) : \" ,1-poisson(3, lbd))"
   ]
  },
  {
   "cell_type": "code",
   "execution_count": 136,
   "metadata": {},
   "outputs": [],
   "source": [
    "prob_cust = []\n",
    "for i in range(11):\n",
    "    prob_cust.append(poisson(i,lbd))"
   ]
  },
  {
   "cell_type": "code",
   "execution_count": 139,
   "metadata": {},
   "outputs": [
    {
     "data": {
      "image/png": "[encoded data removed]",
      "text/plain": [
       "<Figure size 432x288 with 1 Axes>"
      ]
     },
     "metadata": {},
     "output_type": "display_data"
    }
   ],
   "source": [
    "plot_graph(11,prob_cust,\"P(X=k)customers arriving in 4 minutes \")"
   ]
  },
  {
   "cell_type": "markdown",
   "metadata": {},
   "source": [
    "### Problem Statement 8:\n",
    "I work as a data analyst in Aeon Learning Pvt. Ltd. After analyzing data, I make reports, where I have the efficiency of entering 77 words per minute with 6 errors per hour. What is the probability that I will commit 2 errors in a 455-word financial report?\n",
    "\n",
    "What happens when the no. of words increases/decreases (in case of 1000 words, 255 words)?\n",
    "\n",
    "How is the 𝜆 affected?\n",
    "\n",
    "How does it influence the PMF?\n",
    "Give a pictorial representation of the same to validate your answer."
   ]
  },
  {
   "cell_type": "code",
   "execution_count": 140,
   "metadata": {},
   "outputs": [],
   "source": [
    "words_pm = 77 # speed of typing  = 77 words per minute\n",
    "error_pm = 6/60 # error per minute is  = 6/60 error per minute\n",
    "error_per_word = error_pm/words_pm"
   ]
  },
  {
   "cell_type": "code",
   "execution_count": 142,
   "metadata": {},
   "outputs": [],
   "source": [
    "# error rate for a word of 455 pages\n",
    "lbd = error_per_word * 455 # expected or average errors I can commit on document of 455 pages"
   ]
  },
  {
   "cell_type": "code",
   "execution_count": 144,
   "metadata": {},
   "outputs": [
    {
     "name": "stdout",
     "output_type": "stream",
     "text": [
      " probability of commiting 2 errors in a document of 455 words,  P(X=2) :  0.09669027375144446\n"
     ]
    }
   ],
   "source": [
    "print(\" probability of commiting 2 errors in a document of 455 words,  P(X=2) : \",poisson(2, lbd))"
   ]
  },
  {
   "cell_type": "code",
   "execution_count": 145,
   "metadata": {},
   "outputs": [
    {
     "name": "stdout",
     "output_type": "stream",
     "text": [
      " probability of commiting 2 errors in a document of 1000 words,  P(X=2) :  0.23012815007300153\n",
      " probability of commiting 2 errors in a document of 1000 words,  P(X=2) :  0.039377135392854104\n"
     ]
    }
   ],
   "source": [
    "def epw(value):\n",
    "    lbd = error_per_word * value\n",
    "    return lbd\n",
    "\n",
    "print(\" probability of commiting 2 errors in a document of 1000 words,  P(X=2) : \",poisson(2, epw(1000)))\n",
    "print(\" probability of commiting 2 errors in a document of 1000 words,  P(X=2) : \",poisson(2, epw(255)))"
   ]
  },
  {
   "cell_type": "code",
   "execution_count": 154,
   "metadata": {},
   "outputs": [],
   "source": [
    "words,lbd_lst = [],[]\n",
    "for i in range(100,1000, 50):\n",
    "    words.append(i)\n",
    "    lbd_lst.append(epw(i))"
   ]
  },
  {
   "cell_type": "code",
   "execution_count": 169,
   "metadata": {},
   "outputs": [
    {
     "data": {
      "text/plain": [
       "0.2597402597402597"
      ]
     },
     "execution_count": 169,
     "metadata": {},
     "output_type": "execute_result"
    }
   ],
   "source": [
    "(lbd_lst[2])"
   ]
  },
  {
   "cell_type": "code",
   "execution_count": 172,
   "metadata": {},
   "outputs": [
    {
     "data": {
      "text/plain": [
       "[range(100, 1000, 50)]"
      ]
     },
     "execution_count": 172,
     "metadata": {},
     "output_type": "execute_result"
    }
   ],
   "source": [
    "X = [range(100,1000, 50)]\n",
    "X"
   ]
  },
  {
   "cell_type": "code",
   "execution_count": 180,
   "metadata": {},
   "outputs": [
    {
     "data": {
      "image/png": "[encoded data removed]",
      "text/plain": [
       "<Figure size 1080x360 with 1 Axes>"
      ]
     },
     "metadata": {},
     "output_type": "display_data"
    }
   ],
   "source": [
    "# the x locations for the groups\n",
    "X = np.arange(100, 1000, 50)\n",
    "fig,ax = plt.subplots(1,1,figsize=(15,5))\n",
    "ax.set_ylabel('lambda')\n",
    "ax.set_xlabel('words')\n",
    "ax.set_title('change in lambda as words changes')\n",
    "plt.xticks(X)\n",
    "ax.vlines(X,0,lbd_lst, colors='b', lw=5, alpha=0.5)\n",
    "plt.show()"
   ]
  },
  {
   "cell_type": "markdown",
   "metadata": {},
   "source": [
    "### Problem Statement 10:\n",
    "Please compute the following:\n",
    "\n",
    "a) P(Z > 1.26), . P(Z < −0.86), P(Z > −1.37), P(−1.25 < Z < 0.37), . P(Z ≤ −4.6)\n",
    "\n",
    "b) Find the value 𝑧 such that 𝑃(𝑍 > 𝑧) = 0.05\n",
    "\n",
    "c) Find the value of 𝑧 such that 𝑃(−𝑧 < 𝑍 < 𝑧) = 0.99"
   ]
  },
  {
   "cell_type": "code",
   "execution_count": 185,
   "metadata": {},
   "outputs": [
    {
     "name": "stdout",
     "output_type": "stream",
     "text": [
      "percent of area above 1.26 std deviations or P(Z > 1.26) =  0.10383468112130045\n",
      "percent of area below -0.86 std deviations or P(Z < -0.86) =  0.1948945212518084\n",
      "percent of area above -1.37 std deviations or P(Z > -1.37) =  0.914656549178033\n",
      "percent of area between -1.25 and 0.37 std deviations or P(-1.25 < Z < 0.37) =  0.5386589811336914\n",
      "percent of area below -4.6 or P(Z < -4.6) =  0.08534345082196698\n"
     ]
    }
   ],
   "source": [
    "# a) P(Z > 1.26), . P(Z < −0.86), P(Z > −1.37), P(−1.25 < Z < 0.37), . P(Z ≤ −4.6)\n",
    "import scipy.stats as st\n",
    "print('percent of area above 1.26 std deviations or P(Z > 1.26) = ', 1 - st.norm.cdf(1.26))\n",
    "print('percent of area below -0.86 std deviations or P(Z < -0.86) = ', st.norm.cdf(-0.86))\n",
    "print('percent of area above -1.37 std deviations or P(Z > -1.37) = ', 1-st.norm.cdf(-1.37))\n",
    "a = st.norm.cdf(-1.25)\n",
    "b = st.norm.cdf(0.37)\n",
    "print('percent of area between -1.25 and 0.37 std deviations or P(-1.25 < Z < 0.37) = ',b-a)\n",
    "print('percent of area below -4.6 or P(Z < -4.6) = ',st.norm.cdf(-1.37))"
   ]
  },
  {
   "cell_type": "code",
   "execution_count": 186,
   "metadata": {},
   "outputs": [
    {
     "name": "stdout",
     "output_type": "stream",
     "text": [
      "Z-score of for proability of 0.05 is =  -1.6448536269514729\n"
     ]
    }
   ],
   "source": [
    "# b) Find the value 𝑧 such that 𝑃(𝑍 > 𝑧) = 0.05\n",
    "print('Z-score of for proability of 0.05 is = ', st.norm.ppf(0.05))"
   ]
  },
  {
   "cell_type": "code",
   "execution_count": 189,
   "metadata": {},
   "outputs": [
    {
     "name": "stdout",
     "output_type": "stream",
     "text": [
      "Z-score of for proability of 0.01 is =  -2.3263478740408408\n",
      "Z-score of for proability of 0.99 is =  2.3263478740408408\n"
     ]
    }
   ],
   "source": [
    "# c) FFind the value of 𝑧 such that 𝑃(−𝑧 < 𝑍 < 𝑧) = 0.99\n",
    "print('Z-score of for proability of 0.01 is = ', st.norm.ppf(1-.99))\n",
    "print('Z-score of for proability of 0.99 is = ', st.norm.ppf(0.99))"
   ]
  },
  {
   "cell_type": "markdown",
   "metadata": {},
   "source": [
    "### Problem Statement 11:\n",
    "The current flow in a copper wire follow a normal distribution with a mean of 10 𝑚A and a variance of 4 (𝑚𝐴)2.\n",
    "\n",
    "What is the probability that a current measurement will exceed 13 𝑚𝐴? \n",
    "\n",
    "What is the probability that a current measurement is between 9 and 11mA? \n",
    "\n",
    "Determine the current measurement which has a probability of 0.98."
   ]
  },
  {
   "cell_type": "code",
   "execution_count": 192,
   "metadata": {},
   "outputs": [
    {
     "name": "stdout",
     "output_type": "stream",
     "text": [
      "probability that a current measurement will exceed 13 𝑚𝐴 with P(Z>1.5) is : 0.06680720126885809 \n"
     ]
    }
   ],
   "source": [
    "#What is the probability that a current measurement will exceed 13 𝑚𝐴? \n",
    "z_score = (13-10)/np.sqrt(4)\n",
    "print(\"probability that a current measurement will exceed 13 𝑚𝐴 with P(Z>{}) is : {} \".format(z_score,1-st.norm.cdf(z_score)))"
   ]
  },
  {
   "cell_type": "code",
   "execution_count": 195,
   "metadata": {},
   "outputs": [
    {
     "name": "stdout",
     "output_type": "stream",
     "text": [
      "probability that a current measurement is between 9 and 11mA 0.38292492254802624\n"
     ]
    }
   ],
   "source": [
    "# What is the probability that a current measurement is between 9 and 11mA? \n",
    "z_score1 = (9-10)/np.sqrt(4)\n",
    "z_score2 = (11-10)/np.sqrt(4)\n",
    "prob1 = st.norm.cdf(z_score1)\n",
    "prob2 = st.norm.cdf(z_score2)\n",
    "print(\"probability that a current measurement is between 9 and 11mA\", prob2-prob1)"
   ]
  },
  {
   "cell_type": "code",
   "execution_count": 197,
   "metadata": {},
   "outputs": [
    {
     "name": "stdout",
     "output_type": "stream",
     "text": [
      "measurement which has a probability of 0.98 is :  14.107497821263646\n"
     ]
    }
   ],
   "source": [
    "# Determine the current measurement which has a probability of 0.98\n",
    "z_score = st.norm.ppf(0.98)\n",
    "x = z_score*np.sqrt(4) +10\n",
    "print(\"measurement which has a probability of 0.98 is : \", x)"
   ]
  },
  {
   "cell_type": "markdown",
   "metadata": {},
   "source": [
    "### Problem Statement 12\n",
    "The shaft in a piston has its diameter normally distributed with a mean of 0.2508 inch and a standard deviation of 0.0005 inch. The specifications of the shaft are 0.2500 ∓ 0.0015 inch. \n",
    "\n",
    "What proportion of shafts are in sync with the specifications? \n",
    "If the process is centered so that the mean is equal to the target value of 0.2500, what proportion of shafts conform to the new specifications?\n",
    "What is your conclusion from this experiment?"
   ]
  },
  {
   "attachments": {},
   "cell_type": "markdown",
   "metadata": {},
   "source": [
    "<img src=\"img\\sol.png\">"
   ]
  },
  {
   "cell_type": "code",
   "execution_count": 207,
   "metadata": {},
   "outputs": [
    {
     "name": "stdout",
     "output_type": "stream",
     "text": [
      "left Z score -4.6000000000000485 and right Z score 1.3999999999999568\n"
     ]
    }
   ],
   "source": [
    "# lets first observe how much Z values above and below are we from the original mean of 0.2508\n",
    "left_z_score = ((0.2500-0.0015)-0.2508)/0.0005\n",
    "right_z_score = ((0.2500+0.0015)-0.2508)/0.0005\n",
    "print(\"left Z score {} and right Z score {}\".format(left_z_score,right_z_score))"
   ]
  },
  {
   "cell_type": "code",
   "execution_count": 208,
   "metadata": {},
   "outputs": [
    {
     "name": "stdout",
     "output_type": "stream",
     "text": [
      "proportion in sync with the specification is : 0.91924122831152\n"
     ]
    }
   ],
   "source": [
    "prob1 = st.norm.cdf(left_z_score)\n",
    "prob2 = st.norm.cdf(right_z_score)\n",
    "area = prob2 - prob1\n",
    "print(\"proportion in sync with the specification is :\", area)"
   ]
  },
  {
   "cell_type": "code",
   "execution_count": 209,
   "metadata": {},
   "outputs": [
    {
     "name": "stdout",
     "output_type": "stream",
     "text": [
      "left Z score -3.0000000000000027 and right Z score 3.0000000000000027\n"
     ]
    }
   ],
   "source": [
    "# if the mean is centered at 0.2500\n",
    "# lets first observe how much Z values above and below are we from the original mean of 0.2508\n",
    "left_z_score = ((0.2500-0.0015)-0.2500)/0.0005\n",
    "right_z_score = ((0.2500+0.0015)-0.2500)/0.0005\n",
    "print(\"left Z score {} and right Z score {}\".format(left_z_score,right_z_score))"
   ]
  },
  {
   "cell_type": "code",
   "execution_count": 210,
   "metadata": {},
   "outputs": [
    {
     "name": "stdout",
     "output_type": "stream",
     "text": [
      "proportion in sync with the specification is : 0.9973002039367398\n"
     ]
    }
   ],
   "source": [
    "prob1 = st.norm.cdf(left_z_score)\n",
    "prob2 = st.norm.cdf(right_z_score)\n",
    "area = prob2 - prob1\n",
    "print(\"proportion in sync with the specification is :\", area)"
   ]
  },
  {
   "cell_type": "code",
   "execution_count": null,
   "metadata": {},
   "outputs": [],
   "source": []
  }
 ],
 "metadata": {
  "kernelspec": {
   "display_name": "Python 3",
   "language": "python",
   "name": "python3"
  },
  "language_info": {
   "codemirror_mode": {
    "name": "ipython",
    "version": 3
   },
   "file_extension": ".py",
   "mimetype": "text/x-python",
   "name": "python",
   "nbconvert_exporter": "python",
   "pygments_lexer": "ipython3",
   "version": "3.6.5"
  }
 },
 "nbformat": 4,
 "nbformat_minor": 2
}
