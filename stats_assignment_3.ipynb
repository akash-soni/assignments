{
 "cells": [
  {
   "cell_type": "markdown",
   "metadata": {},
   "source": [
    "### Problem Statement 1:\n",
    "Blood glucose levels for obese patients have a mean of 100 with a standard deviation of 15. A researcher thinks that a diet high in raw cornstarch will have a positive effect on blood glucose levels. A sample of 36 patients who have tried the raw cornstarch diet have a mean glucose level of 108. Test the hypothesis that the raw cornstarch had an effect or not\n",
    "\n"
   ]
  },
  {
   "cell_type": "code",
   "execution_count": 2,
   "metadata": {},
   "outputs": [],
   "source": [
    "import numpy as np\n",
    "from scipy import stats\n",
    "import scipy.stats as st"
   ]
  },
  {
   "cell_type": "code",
   "execution_count": 6,
   "metadata": {},
   "outputs": [
    {
     "name": "stdout",
     "output_type": "stream",
     "text": [
      "Z_score :  3.2\n"
     ]
    }
   ],
   "source": [
    "# lets perform a Z-test\n",
    "# 𝐻0: 𝜇 = 100, 𝐻1: 𝜇  >   52\n",
    "mean = 100\n",
    "assumed_mean = 108\n",
    "n = 36\n",
    "std_dev = 15\n",
    "alpha = 0.05\n",
    "std_error = std_dev/np.sqrt(n)\n",
    "z_score = (assumed_mean-mean)/ std_error\n",
    "print(\"Z_score : \",z_score)\n",
    "\n",
    "\n"
   ]
  },
  {
   "cell_type": "code",
   "execution_count": 4,
   "metadata": {},
   "outputs": [
    {
     "name": "stdout",
     "output_type": "stream",
     "text": [
      "area above z-score 3.2 is 0.0006871379379158604\n"
     ]
    }
   ],
   "source": [
    "area_above = 1-st.norm.cdf(z_score)\n",
    "print(\"area above z-score {} is {}\".format(z_score,area_above))"
   ]
  },
  {
   "cell_type": "code",
   "execution_count": 5,
   "metadata": {},
   "outputs": [
    {
     "name": "stdout",
     "output_type": "stream",
     "text": [
      "Reject H0\n"
     ]
    }
   ],
   "source": [
    "alpha=0.05\n",
    "if(area_above>alpha):\n",
    "    print(\"Fail to reject H0\")\n",
    "else:\n",
    "    print(\"Reject H0\")"
   ]
  },
  {
   "cell_type": "markdown",
   "metadata": {},
   "source": [
    "### Problem Statement 2:\n",
    "In one state, 52% of the voters are Republicans, and 48% are Democrats. In a second state, 47% of the voters are Republicans, and 53% are Democrats. Suppose a simple random sample of 100 voters are surveyed from each state.\n",
    "\n",
    "What is the probability that the survey will show a greater percentage of Republican voters in the second state than in the first state?\n",
    "\n"
   ]
  },
  {
   "cell_type": "code",
   "execution_count": 7,
   "metadata": {},
   "outputs": [
    {
     "name": "stdout",
     "output_type": "stream",
     "text": [
      "Z_Score is -0.7080278164104213\n",
      "probabiliy of z-score -0.7080278164104213 is 0.23946399182220013\n"
     ]
    }
   ],
   "source": [
    "# H0: t\n",
    "# H1: there is difference between duracell and Energizer\n",
    "n1 = 100\n",
    "p1 = 0.52\n",
    "p2 = 0.47\n",
    "n2 = 100\n",
    "\n",
    "SE = np.sqrt(( p1*(1 - p1) / n1 ) + ( p2*(1 - p2) / n2 ))\n",
    "\n",
    "z_score = -(p1-p2) / SE\n",
    "print(\"Z_Score is\", z_score)\n",
    "\n",
    "print(\"probabiliy of z-score {} is {}\".format(z_score,st.norm.cdf(z_score)))\n",
    "\n"
   ]
  },
  {
   "cell_type": "markdown",
   "metadata": {},
   "source": [
    "### Problem Statement 3:\n",
    "You take the SAT and score 1100. The mean score for the SAT is 1026 and the standard deviation is 209. How well did you score on the test compared to the average test taker?\n",
    "\n"
   ]
  },
  {
   "cell_type": "code",
   "execution_count": 8,
   "metadata": {},
   "outputs": [
    {
     "name": "stdout",
     "output_type": "stream",
     "text": [
      "Z_Score is 0.35406698564593303\n",
      "probabiliy of z-score 0.35406698564593303 is 0.6383556584353189\n"
     ]
    }
   ],
   "source": [
    "x=1100\n",
    "std_dev = 209\n",
    "mean = 1026\n",
    "\n",
    "z_score = (x-mean)/std_dev\n",
    "print(\"Z_Score is\", z_score)\n",
    "\n",
    "print(\"probabiliy of z-score {} is {}\".format(z_score,st.norm.cdf(z_score)))\n",
    "\n"
   ]
  },
  {
   "cell_type": "markdown",
   "metadata": {},
   "source": [
    "we can say that score is 0.35 standard deviations higher than average test taker"
   ]
  },
  {
   "cell_type": "code",
   "execution_count": null,
   "metadata": {},
   "outputs": [],
   "source": []
  }
 ],
 "metadata": {
  "kernelspec": {
   "display_name": "Python 3",
   "language": "python",
   "name": "python3"
  },
  "language_info": {
   "codemirror_mode": {
    "name": "ipython",
    "version": 3
   },
   "file_extension": ".py",
   "mimetype": "text/x-python",
   "name": "python",
   "nbconvert_exporter": "python",
   "pygments_lexer": "ipython3",
   "version": "3.6.5"
  }
 },
 "nbformat": 4,
 "nbformat_minor": 2
}
