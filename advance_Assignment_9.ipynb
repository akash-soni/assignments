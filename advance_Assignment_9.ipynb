{
 "cells": [
  {
   "cell_type": "markdown",
   "metadata": {},
   "source": [
    "### Q1. In Python 3.X, what are the names and functions of string object types?\n",
    "\n",
    "- Strings - Sequence Operations - provides options for slicing, repeting, concatenating\n",
    "- Strings - Immutability\n",
    "- Strings - Type-Specific Methods - provides options for advance formatting, find a string , replace a string\n",
    "\n",
    "https://www.bogotobogo.com/python/python_numbers_strings.php\n"
   ]
  },
  {
   "cell_type": "markdown",
   "metadata": {},
   "source": [
    "### Q2. How do the string forms in Python 3.X vary in terms of operations?\n",
    "\n",
    "- Textual data in Python is handled with str objects, or strings. Strings are immutable sequences of Unicode code points\n",
    "- Strings may also be created from other objects using the str constructor.\n",
    "- Since there is no separate “character” type, indexing a string produces strings of length 1. That is, for a non-empty string s, s[0] == s[0:1].\n",
    "- String class object\n",
    "    - class str(object='')\n",
    "    - class str(object=b'', encoding='utf-8', errors='strict')\n",
    "    \n",
    "     Return a string version of object. If object is not provided, returns the empty string. Otherwise, the behavior of str() depends on whether encoding or errors is given, as follows.\n",
    "     \n",
    "- If neither encoding nor errors is given, str(object) returns object.__str__(), which is the “informal” or nicely printable string representation of object. For string objects, this is the string itself. If object does not have a __str__() method, then str() falls back to returning repr(object)\n",
    "- If at least one of encoding or errors is given, object should be a bytes-like object (e.g. bytes or bytearray). In this case, if object is a bytes (or bytearray) object, then str(bytes, encoding, errors) is equivalent to bytes.decode(encoding, errors). Otherwise, the bytes object underlying the buffer object is obtained before calling bytes.decode()"
   ]
  },
  {
   "cell_type": "markdown",
   "metadata": {},
   "source": [
    "### Q3. In 3.X, how do you put non-ASCII Unicode characters in a string?"
   ]
  },
  {
   "cell_type": "markdown",
   "metadata": {},
   "source": [
    "- we can write string in non ascii using either codes or writing them directy using keyboard\n",
    "- for handiling them we can use decode function "
   ]
  },
  {
   "cell_type": "code",
   "execution_count": 7,
   "metadata": {},
   "outputs": [
    {
     "name": "stdout",
     "output_type": "stream",
     "text": [
      " a funny characters. \n"
     ]
    }
   ],
   "source": [
    "string_nonASCII = \" àa fuünny charactersß. \"\n",
    "string_encode = string_nonASCII.encode(\"ascii\", \"ignore\")\n",
    "string_decode = string_encode.decode()\n",
    "print(string_decode)"
   ]
  },
  {
   "cell_type": "code",
   "execution_count": 8,
   "metadata": {},
   "outputs": [
    {
     "name": "stdout",
     "output_type": "stream",
     "text": [
      "6Â 918Â 417Â 712\n",
      "6 918 417 712\n",
      "6_918_417_712\n",
      "6-918-417-712\n"
     ]
    }
   ],
   "source": [
    "s = b'6\\xc2\\xa0918\\xc2\\xa0417\\xc2\\xa0712'\n",
    "print(s.decode('latin-1')) # incorrectly decoded\n",
    "u = s.decode('utf8') # correctly decoded\n",
    "print(u)\n",
    "print(u.replace('\\N{NO-BREAK SPACE}','_'))\n",
    "print(u.replace('\\xa0','-')) # \\xa0 is Unicode for NO-BREAK SPACE"
   ]
  },
  {
   "cell_type": "markdown",
   "metadata": {},
   "source": [
    "### Q4. In Python 3.X, what are the key differences between text-mode and binary-mode files?\n",
    "\n",
    "\n",
    "#### Text-mode file\n",
    "\n",
    "- Bits represent character.\n",
    "- Less prone to get corrupt as changes reflect as soon as the file is opened and can easily be undone.\n",
    "- Can store only plain text in a file.\n",
    "- Widely used file format and can be opened using any simple text editor.\n",
    "- Mostly .txt and .rtf are used as extensions to text files.\n",
    "\n",
    "#### Binary File\n",
    "\n",
    "- Bits represent a custom data.\n",
    "- Can easily get corrupted, even a single bit change may corrupt the file.\n",
    "- Can store different types of data (image, audio, text) in a single file.\n",
    "- Developed especially for an application and may not be understood by other applications.\n",
    "- Can have any application defined extension."
   ]
  },
  {
   "cell_type": "markdown",
   "metadata": {},
   "source": [
    "### Q5. How can you interpret a Unicode text file containing text encoded in a different encoding than your platform's default?"
   ]
  },
  {
   "cell_type": "code",
   "execution_count": 23,
   "metadata": {},
   "outputs": [
    {
     "data": {
      "text/plain": [
       "'ÿþh\\x00e\\x00l\\x00l\\x00o\\x00 \\x00w\\x00o\\x00r\\x00l\\x00d\\x00'"
      ]
     },
     "execution_count": 23,
     "metadata": {},
     "output_type": "execute_result"
    }
   ],
   "source": [
    "import codecs\n",
    "f = codecs.open('foo.txt', 'w', 'utf-16')\n",
    "f.write(\"hello world\")\n",
    "f.close()\n",
    "open('foo.txt').read()"
   ]
  },
  {
   "cell_type": "code",
   "execution_count": 24,
   "metadata": {},
   "outputs": [
    {
     "data": {
      "text/plain": [
       "['hello world']"
      ]
     },
     "execution_count": 24,
     "metadata": {},
     "output_type": "execute_result"
    }
   ],
   "source": [
    "f2 = codecs.open('foo.txt', 'r', 'utf-16')\n",
    "f2.readlines()"
   ]
  },
  {
   "cell_type": "markdown",
   "metadata": {},
   "source": [
    "### Q6. What is the best way to make a Unicode text file in a particular encoding format?"
   ]
  },
  {
   "cell_type": "markdown",
   "metadata": {},
   "source": [
    "we can store a text file in utf-8 as it is a common type of encoding. it has charecter set range of 0-65535 symbols. so this is the best way "
   ]
  },
  {
   "cell_type": "code",
   "execution_count": 11,
   "metadata": {},
   "outputs": [],
   "source": [
    "out1 = \"(嘉南大圳 ㄐㄧㄚ　ㄋㄢˊ　ㄉㄚˋ　ㄗㄨㄣˋ )\"\n",
    "fobj = open(\"t1.txt\", \"w\", encoding=\"utf-8\")\n",
    "fobj.write(out1)\n",
    "fobj.close()\n"
   ]
  },
  {
   "cell_type": "code",
   "execution_count": 19,
   "metadata": {},
   "outputs": [
    {
     "name": "stdout",
     "output_type": "stream",
     "text": [
      "(嘉南大圳 ㄐㄧㄚ　ㄋㄢˊ　ㄉㄚˋ　ㄗㄨㄣˋ )\n"
     ]
    }
   ],
   "source": [
    "import codecs\n",
    "f = open('t1.txt', 'r', encoding=\"utf-8\")\n",
    "print(f.read())"
   ]
  },
  {
   "cell_type": "markdown",
   "metadata": {},
   "source": [
    "### Q7. What qualifies ASCII text as a form of Unicode text?"
   ]
  },
  {
   "cell_type": "markdown",
   "metadata": {},
   "source": [
    "Unicode has very large character set and it includes all ASCII caracters"
   ]
  },
  {
   "cell_type": "markdown",
   "metadata": {},
   "source": [
    "### Q8. How much of an effect does the change in string types in Python 3.X have on your code?\n"
   ]
  },
  {
   "cell_type": "markdown",
   "metadata": {},
   "source": [
    "Changing any data type into a String\n",
    "\n",
    "There are two ways for changing any data type into a String in Python :\n",
    "\n",
    "- Using the str() function\n",
    "- Using the \\__str__() function"
   ]
  },
  {
   "cell_type": "markdown",
   "metadata": {},
   "source": [
    "**Method 1 : Using the str() function**\n",
    "\n",
    "Any built-in data type can be converted into its string representation by the str() function. Built-in data type in python include:- int, float, complex, list, tuple, dict etc"
   ]
  },
  {
   "cell_type": "code",
   "execution_count": 21,
   "metadata": {},
   "outputs": [
    {
     "name": "stdout",
     "output_type": "stream",
     "text": [
      "Type before :  <class 'int'>\n",
      "Type after :  <class 'str'>\n",
      "\n",
      "Type before :  <class 'float'>\n",
      "Type after :  <class 'str'>\n",
      "\n",
      "Type before : <class 'list'>\n",
      "Type after :  <class 'str'>\n",
      "\n",
      "Type before:- <class 'tuple'>\n",
      "Type after:- <class 'str'>\n"
     ]
    }
   ],
   "source": [
    "# a is of type int\n",
    "a = 10\n",
    "print(\"Type before : \", type(a))\n",
    "  \n",
    "# converting the type from int to str\n",
    "a1 = str(a)\n",
    "print(\"Type after : \", type(a1))\n",
    "  \n",
    "# b is of type float\n",
    "b = 10.10\n",
    "print(\"\\nType before : \", type(b))\n",
    "  \n",
    "# converting the type from float to str\n",
    "b1 = str(b)\n",
    "print(\"Type after : \", type(b1))\n",
    "  \n",
    "# type of c is list\n",
    "c = [1, 2, 3]\n",
    "print(\"\\nType before :\", type(c))\n",
    "  \n",
    "# converting the type from list to str\n",
    "c1 = str(c)\n",
    "print(\"Type after : \", type(c1))\n",
    "  \n",
    "# type of d is tuple\n",
    "d = (1, 2, 3)\n",
    "print(\"\\nType before:-\", type(d))\n",
    "  \n",
    "# converting the type from tuple to str\n",
    "d1 = str(d)\n",
    "print(\"Type after:-\", type(d1))"
   ]
  },
  {
   "cell_type": "markdown",
   "metadata": {},
   "source": [
    "**Method 2 : Defining \\__str__() function** \n",
    "\n",
    "for a user defined class to be converted to string representation. For a user defined class to be converted to string representation, \\__str__() function needs to be defined in it"
   ]
  },
  {
   "cell_type": "code",
   "execution_count": 22,
   "metadata": {},
   "outputs": [
    {
     "name": "stdout",
     "output_type": "stream",
     "text": [
      "value of a = 10 value of b = 10\n",
      "<class 'str'>\n"
     ]
    }
   ],
   "source": [
    "# class addition\n",
    "class addition:\n",
    "    def __init__(self):\n",
    "        self.a = 10\n",
    "        self.b = 10\n",
    "  \n",
    "    # defining __str__() function\n",
    "    def __str__(self):\n",
    "        return 'value of a = {} value of b = {}'.format(self.a, self.b)\n",
    "  \n",
    "# creating object ad\n",
    "ad = addition()\n",
    "print(str(ad))\n",
    "  \n",
    "# printing the type\n",
    "print(type(str(ad)))"
   ]
  },
  {
   "cell_type": "code",
   "execution_count": null,
   "metadata": {},
   "outputs": [],
   "source": []
  }
 ],
 "metadata": {
  "kernelspec": {
   "display_name": "Python 3",
   "language": "python",
   "name": "python3"
  },
  "language_info": {
   "codemirror_mode": {
    "name": "ipython",
    "version": 3
   },
   "file_extension": ".py",
   "mimetype": "text/x-python",
   "name": "python",
   "nbconvert_exporter": "python",
   "pygments_lexer": "ipython3",
   "version": "3.6.5"
  }
 },
 "nbformat": 4,
 "nbformat_minor": 2
}
