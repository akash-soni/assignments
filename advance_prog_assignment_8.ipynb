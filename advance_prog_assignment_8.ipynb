{
 "cells": [
  {
   "cell_type": "markdown",
   "metadata": {},
   "source": [
    "1. Given a sentence as txt, return True if any two adjacent words have this property: One word ends with a vowel, while the word immediately after begins with a vowel (a e i o u).\n",
    "\n",
    "Examples\n",
    "\n",
    "vowel_links(\"a very large appliance\") ➞ True\n",
    "\n",
    "vowel_links(\"go to edabit\") ➞ True\n",
    "\n",
    "vowel_links(\"an open fire\") ➞ False\n",
    "\n",
    "vowel_links(\"a sudden applause\") ➞ False\n"
   ]
  },
  {
   "cell_type": "code",
   "execution_count": 112,
   "metadata": {},
   "outputs": [
    {
     "name": "stdout",
     "output_type": "stream",
     "text": [
      "a very large appliance          Matches\n",
      "go to edabit                    Matches\n",
      "an open fire                    No match\n",
      "a sudden applause               No match\n"
     ]
    }
   ],
   "source": [
    "pattern = re.compile('[aeiou] [aeiou]')\n",
    "text = [\"a very large appliance\",\"go to edabit\",\"an open fire\",\"a sudden applause\"]\n",
    "for candidate in text:\n",
    "    match = pattern.search(candidate)\n",
    "    print('{:<30}  {}'.format(candidate, 'Matches' if match else 'No match')\n",
    "    )"
   ]
  },
  {
   "cell_type": "markdown",
   "metadata": {},
   "source": [
    "2. You are given three inputs: a string, one letter, and a second letter.\n",
    "\n",
    "Write a function that returns True if every instance of the first letter occurs before every instance of the second letter.\n",
    "\n",
    "Examples\n",
    "\n",
    "first_before_second(\"a rabbit jumps joyfully\", \"a\", \"j\") ➞ True\n",
    "###### Every instance of \"a\" occurs before every instance of \"j\".\n",
    "\n",
    "first_before_second(\"knaves knew about waterfalls\", \"k\", \"w\") ➞  True\n",
    "\n",
    "first_before_second(\"happy birthday\", \"a\", \"y\") ➞ False\n",
    "###### The \"a\" in \"birthday\" occurs after the \"y\" in \"happy\".\n",
    "\n",
    "first_before_second(\"precarious kangaroos\", \"k\", \"a\") ➞ False\n"
   ]
  },
  {
   "cell_type": "code",
   "execution_count": 39,
   "metadata": {},
   "outputs": [],
   "source": [
    "\n",
    "def first_before_second(string, first, second): \n",
    "    first_matches = re.finditer(first, string)\n",
    "    first_matches_positions = [match.start() for match in first_matches]\n",
    "\n",
    "    second_matches = re.finditer(second, string)\n",
    "    second_matches_positions = [match.start() for match in second_matches]\n",
    "    \n",
    "    flag = True\n",
    "    for i in first_matches_positions:\n",
    "        for j in second_matches_positions:\n",
    "            if i<j:\n",
    "                flag = True\n",
    "            else:\n",
    "                flag = False\n",
    "                break\n",
    "    return flag    "
   ]
  },
  {
   "cell_type": "code",
   "execution_count": 41,
   "metadata": {},
   "outputs": [
    {
     "data": {
      "text/plain": [
       "True"
      ]
     },
     "execution_count": 41,
     "metadata": {},
     "output_type": "execute_result"
    }
   ],
   "source": [
    "first_before_second(\"a rabbit jumps joyfully\", \"a\", \"j\")"
   ]
  },
  {
   "cell_type": "code",
   "execution_count": 43,
   "metadata": {},
   "outputs": [
    {
     "data": {
      "text/plain": [
       "True"
      ]
     },
     "execution_count": 43,
     "metadata": {},
     "output_type": "execute_result"
    }
   ],
   "source": [
    "first_before_second(\"knaves knew about waterfalls\", \"k\", \"w\")"
   ]
  },
  {
   "cell_type": "code",
   "execution_count": 42,
   "metadata": {},
   "outputs": [
    {
     "data": {
      "text/plain": [
       "False"
      ]
     },
     "execution_count": 42,
     "metadata": {},
     "output_type": "execute_result"
    }
   ],
   "source": [
    "first_before_second(\"happy birthday\", \"a\", \"y\") "
   ]
  },
  {
   "cell_type": "code",
   "execution_count": 40,
   "metadata": {},
   "outputs": [
    {
     "data": {
      "text/plain": [
       "False"
      ]
     },
     "execution_count": 40,
     "metadata": {},
     "output_type": "execute_result"
    }
   ],
   "source": [
    "first_before_second(\"precarious kangaroos\", \"k\", \"a\")\n"
   ]
  },
  {
   "cell_type": "markdown",
   "metadata": {},
   "source": [
    "3. Create a function that returns the characters from a list or string r on odd or even positions, depending on the specifier s. The specifier will be \"odd\" for items on odd positions (1, 3, 5, ...) and \"even\" for items on even positions (2, 4, 6, ...).\n",
    "\n",
    "Examples\n",
    "\n",
    "char_at_pos([2, 4, 6, 8, 10], \"even\") ➞ [4, 8]\n",
    "##### 4 & 8 occupy the 2nd & 4th positions\n",
    "\n",
    "char_at_pos(\"EDABIT\", \"odd\") ➞ \"EAI\"\n",
    "##### \"E\", \"A\" and \"I\" occupy the 1st, 3rd and 5th positions\n",
    "\n",
    "char_at_pos([\"A\", \"R\", \"B\", \"I\", \"T\", \"R\", \"A\", \"R\", \"I\", \"L\", \"Y\"], \"odd\") ➞ [\"A\", \"B\", \"T\", \"A\", \"I\", \"Y\"]\n"
   ]
  },
  {
   "cell_type": "code",
   "execution_count": 57,
   "metadata": {},
   "outputs": [],
   "source": [
    "\n",
    "def char_at_pos(data,specifier):\n",
    "    lst = []\n",
    "    if specifier == \"even\":\n",
    "        for i in range(len(data)):\n",
    "            if (i+1)%2==0:\n",
    "                lst.append(data[i])\n",
    "        return lst\n",
    "    else:\n",
    "        for i in range(len(data)):\n",
    "            if (i+1)%2==1:\n",
    "                lst.append(data[i])\n",
    "        return lst"
   ]
  },
  {
   "cell_type": "code",
   "execution_count": 60,
   "metadata": {},
   "outputs": [
    {
     "data": {
      "text/plain": [
       "[4, 8]"
      ]
     },
     "execution_count": 60,
     "metadata": {},
     "output_type": "execute_result"
    }
   ],
   "source": [
    "char_at_pos([2, 4, 6, 8, 10], \"even\") "
   ]
  },
  {
   "cell_type": "code",
   "execution_count": 61,
   "metadata": {},
   "outputs": [
    {
     "data": {
      "text/plain": [
       "'EAI'"
      ]
     },
     "execution_count": 61,
     "metadata": {},
     "output_type": "execute_result"
    }
   ],
   "source": [
    "\"\".join(char_at_pos(\"EDABIT\", \"odd\"))"
   ]
  },
  {
   "cell_type": "code",
   "execution_count": 58,
   "metadata": {},
   "outputs": [
    {
     "data": {
      "text/plain": [
       "['A', 'B', 'T', 'A', 'I', 'Y']"
      ]
     },
     "execution_count": 58,
     "metadata": {},
     "output_type": "execute_result"
    }
   ],
   "source": [
    "char_at_pos([\"A\", \"R\", \"B\", \"I\", \"T\", \"R\", \"A\", \"R\", \"I\", \"L\", \"Y\"], \"odd\")"
   ]
  },
  {
   "cell_type": "markdown",
   "metadata": {},
   "source": [
    "4. Write a function that returns the greatest common divisor of all list elements. If the greatest common divisor is 1, return 1.\n",
    "\n",
    "Examples\n",
    "\n",
    "GCD([10, 20, 40]) ➞ 10\n",
    "\n",
    "GCD([1, 2, 3, 100]) ➞ 1\n",
    "\n",
    "GCD([1024, 192, 2048, 512]) ➞ 64\n"
   ]
  },
  {
   "cell_type": "code",
   "execution_count": 66,
   "metadata": {},
   "outputs": [],
   "source": [
    "def find_gcd(x, y):\n",
    "    while(y):\n",
    "        x, y = y, x % y\n",
    "        \n",
    "        \n",
    "    return x\n",
    "         \n",
    "def GCD(l):\n",
    "    num1 = l[0]\n",
    "    num2 = l[1]\n",
    "    gcd = find_gcd(num1, num2)\n",
    "\n",
    "    for i in range(2, len(l)):\n",
    "        gcd = find_gcd(gcd, l[i])\n",
    "\n",
    "    print(gcd)"
   ]
  },
  {
   "cell_type": "code",
   "execution_count": 70,
   "metadata": {},
   "outputs": [
    {
     "name": "stdout",
     "output_type": "stream",
     "text": [
      "10\n"
     ]
    }
   ],
   "source": [
    "GCD([10, 20, 40])"
   ]
  },
  {
   "cell_type": "code",
   "execution_count": 69,
   "metadata": {},
   "outputs": [
    {
     "name": "stdout",
     "output_type": "stream",
     "text": [
      "1\n"
     ]
    }
   ],
   "source": [
    "GCD([1, 2, 3, 100])"
   ]
  },
  {
   "cell_type": "code",
   "execution_count": 68,
   "metadata": {},
   "outputs": [
    {
     "name": "stdout",
     "output_type": "stream",
     "text": [
      "64\n"
     ]
    }
   ],
   "source": [
    "l = [1024, 192, 2048, 512]\n",
    "GCD(l)"
   ]
  },
  {
   "cell_type": "markdown",
   "metadata": {},
   "source": [
    "5. A number/string is a palindrome if the digits/characters are the same when read both forward and backward. Examples include \"racecar\" and 12321. Given a positive number n, check if n or the binary representation of n is palindromic. Return the following:\n",
    "\n",
    "    - \"Decimal only.\" if only n is a palindrome.\n",
    "    - \"Binary only.\" if only the binary representation of n is a palindrome.\n",
    "    - \"Decimal and binary.\" if both are palindromes.\n",
    "    - \"Neither!\" if neither are palindromes.\n",
    "\n",
    "Examples\n",
    "\n",
    "palindrome_type(1306031) ➞ \"Decimal only.\"\n",
    "##### decimal = 1306031\n",
    "##### binary  = \"100111110110110101111\"\n",
    "\n",
    "palindrome_type(427787) ➞ \"Binary only.\"\n",
    "##### decimal = 427787\n",
    "##### binary  = \"1101000011100001011\"\n",
    "\n",
    "palindrome_type(313) ➞ \"Decimal and binary.\"\n",
    "##### decimal = 313\n",
    "##### binary  = 100111001\n",
    "\n",
    "palindrome_type(934) ➞ \"Neither!\"\n",
    "##### decimal = 934\n",
    "##### binary  = \"1110100110\"\n"
   ]
  },
  {
   "cell_type": "code",
   "execution_count": 76,
   "metadata": {},
   "outputs": [],
   "source": [
    "def DecimalToBinary(num):\n",
    "     return bin(num).replace(\"0b\", \"\")"
   ]
  },
  {
   "cell_type": "code",
   "execution_count": 82,
   "metadata": {},
   "outputs": [],
   "source": [
    "def palindrome(number):\n",
    "    #store a copy of this number\n",
    "    temp=number\n",
    "    #calculate reverse of this number\n",
    "    reverse_num=0\n",
    "    while(number>0):\n",
    "        #extract last digit of this number\n",
    "        digit=number%10\n",
    "        #append this digit in reveresed number\n",
    "        reverse_num=reverse_num*10+digit\n",
    "        #floor divide the number leave out the last digit from number\n",
    "        number=number//10\n",
    "    #compare reverse to original number\n",
    "    if(temp==reverse_num):\n",
    "        return True\n",
    "    else:\n",
    "        return False"
   ]
  },
  {
   "cell_type": "code",
   "execution_count": 87,
   "metadata": {},
   "outputs": [],
   "source": [
    "def palindrome_type(val1,val2):\n",
    "    if val1==False and val2 == False:\n",
    "        print(\"Neither decimal nor Binary are palindromes\")\n",
    "    elif val1==False and val2== True:\n",
    "        print(\"Binary is palindrome\")\n",
    "    elif val1==True and val2== False:\n",
    "        print(\"Decimal is palindrome\")\n",
    "    else:\n",
    "        print(\"both are palindromes\")"
   ]
  },
  {
   "cell_type": "code",
   "execution_count": 90,
   "metadata": {},
   "outputs": [
    {
     "name": "stdout",
     "output_type": "stream",
     "text": [
      "number :  1306031\n",
      "binary : 100111110110110101111\n",
      "Decimal is palindrome\n"
     ]
    }
   ],
   "source": [
    "num = 1306031\n",
    "binary = int(DecimalToBinary(num))\n",
    "print(\"number : \",num)\n",
    "print(\"binary :\",binary)\n",
    "val1 = palindrome(num)\n",
    "val2 = palindrome(binary)\n",
    "palindrome_type(val1,val2)"
   ]
  },
  {
   "cell_type": "code",
   "execution_count": null,
   "metadata": {},
   "outputs": [],
   "source": []
  },
  {
   "cell_type": "code",
   "execution_count": 91,
   "metadata": {},
   "outputs": [
    {
     "name": "stdout",
     "output_type": "stream",
     "text": [
      "number :  427787\n",
      "binary : 1101000011100001011\n",
      "Binary is palindrome\n"
     ]
    }
   ],
   "source": [
    "num = 427787\n",
    "binary = int(DecimalToBinary(num))\n",
    "print(\"number : \",num)\n",
    "print(\"binary :\",binary)\n",
    "val1 = palindrome(num)\n",
    "val2 = palindrome(binary)\n",
    "palindrome_type(val1,val2)"
   ]
  },
  {
   "cell_type": "code",
   "execution_count": 92,
   "metadata": {},
   "outputs": [
    {
     "name": "stdout",
     "output_type": "stream",
     "text": [
      "number :  313\n",
      "binary : 100111001\n",
      "both are palindromes\n"
     ]
    }
   ],
   "source": [
    "num = 313\n",
    "binary = int(DecimalToBinary(num))\n",
    "print(\"number : \",num)\n",
    "print(\"binary :\",binary)\n",
    "val1 = palindrome(num)\n",
    "val2 = palindrome(binary)\n",
    "palindrome_type(val1,val2)"
   ]
  },
  {
   "cell_type": "code",
   "execution_count": 93,
   "metadata": {},
   "outputs": [
    {
     "name": "stdout",
     "output_type": "stream",
     "text": [
      "number :  934\n",
      "binary : 1110100110\n",
      "Neither decimal nor Binary are palindromes\n"
     ]
    }
   ],
   "source": [
    "num = 934\n",
    "binary = int(DecimalToBinary(num))\n",
    "print(\"number : \",num)\n",
    "print(\"binary :\",binary)\n",
    "val1 = palindrome(num)\n",
    "val2 = palindrome(binary)\n",
    "palindrome_type(val1,val2)"
   ]
  },
  {
   "cell_type": "code",
   "execution_count": null,
   "metadata": {},
   "outputs": [],
   "source": []
  }
 ],
 "metadata": {
  "kernelspec": {
   "display_name": "Python 3",
   "language": "python",
   "name": "python3"
  },
  "language_info": {
   "codemirror_mode": {
    "name": "ipython",
    "version": 3
   },
   "file_extension": ".py",
   "mimetype": "text/x-python",
   "name": "python",
   "nbconvert_exporter": "python",
   "pygments_lexer": "ipython3",
   "version": "3.6.5"
  }
 },
 "nbformat": 4,
 "nbformat_minor": 2
}
